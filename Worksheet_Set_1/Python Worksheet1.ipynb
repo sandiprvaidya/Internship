{
 "cells": [
  {
   "cell_type": "code",
   "execution_count": 7,
   "id": "2aa6a8dc",
   "metadata": {},
   "outputs": [
    {
     "name": "stdout",
     "output_type": "stream",
     "text": [
      "Enter number: 5\n",
      "Factorial of 5 is 120\n"
     ]
    }
   ],
   "source": [
    "# Write a python program to find the factorial of a number.\n",
    "\n",
    "def factorial(n):\n",
    "    if (n==1 or n==0):\n",
    "        return 1 \n",
    "    else:\n",
    "        return n * factorial(n - 1)\n",
    " \n",
    "number = int(input(\"Enter number: \"))\n",
    "x=factorial(number)\n",
    "print(\"Factorial of\",number,\"is\",x)"
   ]
  },
  {
   "cell_type": "code",
   "execution_count": 14,
   "id": "b4df7300",
   "metadata": {},
   "outputs": [
    {
     "name": "stdout",
     "output_type": "stream",
     "text": [
      "Enter no 5\n",
      "It is Prime no \n"
     ]
    }
   ],
   "source": [
    "#  a python program to find whether a number is prime or composite.\n",
    "\n",
    "num = int(input(\"Enter no \"))\n",
    "count= 0\n",
    "i = 1\n",
    "while i<= num:\n",
    "    if num%i==0:\n",
    "        count= count+1\n",
    "    i= i+1\n",
    "    \n",
    "if count==2:\n",
    "    print(\"It is Prime no \")\n",
    "elif count>2:\n",
    "    print(\"It is Composite no \")\n",
    "    "
   ]
  },
  {
   "cell_type": "code",
   "execution_count": 19,
   "id": "85e253aa",
   "metadata": {},
   "outputs": [
    {
     "name": "stdout",
     "output_type": "stream",
     "text": [
      "Enter a string -mom\n",
      " It is Palindrome string\n"
     ]
    }
   ],
   "source": [
    "# Write a python program to check whether a given string is palindrome or not.\n",
    "\n",
    "a = input(\"Enter a string -\")\n",
    "b = a[-1::-1]\n",
    "if(a==b):\n",
    "    print(\" It is Palindrome string\")\n",
    "else:\n",
    "    print(\" It is not Palindrome string\")"
   ]
  },
  {
   "cell_type": "code",
   "execution_count": 1,
   "id": "4564af0a",
   "metadata": {},
   "outputs": [
    {
     "name": "stdout",
     "output_type": "stream",
     "text": [
      "Enter the value of one side of triangle -4\n",
      "Enter the value of second side of triangle -5\n",
      "Third side value of rght angle triangle - 6.4031242374328485\n"
     ]
    }
   ],
   "source": [
    "# Write a Python program to get the third side of right-angled triangle from two given sides.\n",
    "\n",
    "from math import sqrt\n",
    "a = int(input(\"Enter the value of one side of triangle -\")) \n",
    "b = int(input(\"Enter the value of second side of triangle -\"))\n",
    "c = sqrt(a**2 + b**2)\n",
    "print(\"Third side value of rght angle triangle -\", c)"
   ]
  },
  {
   "cell_type": "code",
   "execution_count": 6,
   "id": "9c263b55",
   "metadata": {},
   "outputs": [
    {
     "name": "stdout",
     "output_type": "stream",
     "text": [
      "Enter a string -hello how are you\n",
      "{'h': 2, 'e': 2, 'l': 2, 'o': 3, ' ': 3, 'w': 1, 'a': 1, 'r': 1, 'y': 1, 'u': 1}\n"
     ]
    }
   ],
   "source": [
    "# Write a python program to print the frequency of each of the characters present in a given string.\n",
    "\n",
    "str = input(\"Enter a string -\")\n",
    "d={}\n",
    "for i in str:\n",
    "    if i not in d:\n",
    "        d[i]= 1\n",
    "    else:\n",
    "        d[i]+= 1\n",
    "print(d)    "
   ]
  },
  {
   "cell_type": "code",
   "execution_count": null,
   "id": "2c3971ba",
   "metadata": {},
   "outputs": [],
   "source": []
  }
 ],
 "metadata": {
  "kernelspec": {
   "display_name": "Python 3 (ipykernel)",
   "language": "python",
   "name": "python3"
  },
  "language_info": {
   "codemirror_mode": {
    "name": "ipython",
    "version": 3
   },
   "file_extension": ".py",
   "mimetype": "text/x-python",
   "name": "python",
   "nbconvert_exporter": "python",
   "pygments_lexer": "ipython3",
   "version": "3.10.9"
  }
 },
 "nbformat": 4,
 "nbformat_minor": 5
}
