{
 "cells": [
  {
   "cell_type": "code",
   "execution_count": 1,
   "id": "06e3797e",
   "metadata": {},
   "outputs": [
    {
     "name": "stdout",
     "output_type": "stream",
     "text": [
      "Requirement already satisfied: selenium in c:\\users\\sandeep\\anaconda3\\lib\\site-packages (4.17.2)\n",
      "Requirement already satisfied: urllib3[socks]<3,>=1.26 in c:\\users\\sandeep\\anaconda3\\lib\\site-packages (from selenium) (1.26.14)\n",
      "Requirement already satisfied: trio~=0.17 in c:\\users\\sandeep\\anaconda3\\lib\\site-packages (from selenium) (0.24.0)\n",
      "Requirement already satisfied: certifi>=2021.10.8 in c:\\users\\sandeep\\anaconda3\\lib\\site-packages (from selenium) (2022.12.7)\n",
      "Requirement already satisfied: typing_extensions>=4.9.0 in c:\\users\\sandeep\\anaconda3\\lib\\site-packages (from selenium) (4.9.0)\n",
      "Requirement already satisfied: trio-websocket~=0.9 in c:\\users\\sandeep\\anaconda3\\lib\\site-packages (from selenium) (0.11.1)\n",
      "Requirement already satisfied: sniffio>=1.3.0 in c:\\users\\sandeep\\anaconda3\\lib\\site-packages (from trio~=0.17->selenium) (1.3.0)\n",
      "Requirement already satisfied: idna in c:\\users\\sandeep\\anaconda3\\lib\\site-packages (from trio~=0.17->selenium) (3.4)\n",
      "Requirement already satisfied: outcome in c:\\users\\sandeep\\anaconda3\\lib\\site-packages (from trio~=0.17->selenium) (1.3.0.post0)\n",
      "Requirement already satisfied: cffi>=1.14 in c:\\users\\sandeep\\anaconda3\\lib\\site-packages (from trio~=0.17->selenium) (1.15.1)\n",
      "Requirement already satisfied: attrs>=20.1.0 in c:\\users\\sandeep\\anaconda3\\lib\\site-packages (from trio~=0.17->selenium) (22.1.0)\n",
      "Requirement already satisfied: exceptiongroup in c:\\users\\sandeep\\anaconda3\\lib\\site-packages (from trio~=0.17->selenium) (1.2.0)\n",
      "Requirement already satisfied: sortedcontainers in c:\\users\\sandeep\\anaconda3\\lib\\site-packages (from trio~=0.17->selenium) (2.4.0)\n",
      "Requirement already satisfied: wsproto>=0.14 in c:\\users\\sandeep\\anaconda3\\lib\\site-packages (from trio-websocket~=0.9->selenium) (1.2.0)\n",
      "Requirement already satisfied: PySocks!=1.5.7,<2.0,>=1.5.6 in c:\\users\\sandeep\\anaconda3\\lib\\site-packages (from urllib3[socks]<3,>=1.26->selenium) (1.7.1)\n",
      "Requirement already satisfied: pycparser in c:\\users\\sandeep\\anaconda3\\lib\\site-packages (from cffi>=1.14->trio~=0.17->selenium) (2.21)\n",
      "Requirement already satisfied: h11<1,>=0.9.0 in c:\\users\\sandeep\\anaconda3\\lib\\site-packages (from wsproto>=0.14->trio-websocket~=0.9->selenium) (0.14.0)\n"
     ]
    }
   ],
   "source": [
    "!pip install selenium"
   ]
  },
  {
   "cell_type": "code",
   "execution_count": 1,
   "id": "3f303cc3",
   "metadata": {},
   "outputs": [],
   "source": [
    "# Program 1 #\n",
    "\n",
    "import selenium\n",
    "import pandas as pd\n",
    "from selenium import webdriver\n",
    "import warnings\n",
    "warnings.filterwarnings('ignore')\n",
    "from selenium.webdriver.common.by import By\n",
    "import time"
   ]
  },
  {
   "cell_type": "code",
   "execution_count": 2,
   "id": "8237c0de",
   "metadata": {},
   "outputs": [],
   "source": [
    "driver = webdriver.Chrome()"
   ]
  },
  {
   "cell_type": "code",
   "execution_count": 3,
   "id": "4360b918",
   "metadata": {},
   "outputs": [],
   "source": [
    "driver.get(\"https://www.amazon.in./\")"
   ]
  },
  {
   "cell_type": "code",
   "execution_count": 4,
   "id": "c17410a8",
   "metadata": {},
   "outputs": [],
   "source": [
    "search = driver.find_element(By.XPATH,'/html/body/div[1]/header/div/div[1]/div[2]/div/form/div[2]/div[1]/input')\n",
    "search.send_keys('guitar')"
   ]
  },
  {
   "cell_type": "code",
   "execution_count": 5,
   "id": "76f2d3f0",
   "metadata": {},
   "outputs": [],
   "source": [
    "guitar_url=[]"
   ]
  },
  {
   "cell_type": "code",
   "execution_count": 6,
   "id": "f2888df7",
   "metadata": {},
   "outputs": [],
   "source": [
    "start= 0\n",
    "end= 3\n",
    "for page in range(start,end):\n",
    "    guitar_link = driver.find_elements(By.XPATH,'//h2[@class=\"a-size-mini a-spacing-none a-color-base s-line-clamp-4\"]/a')\n",
    "    for i in guitar_link:\n",
    "        guitar_url.append(i.get_attribute('href'))"
   ]
  },
  {
   "cell_type": "code",
   "execution_count": 7,
   "id": "4d5a7310",
   "metadata": {},
   "outputs": [
    {
     "data": {
      "text/plain": [
       "180"
      ]
     },
     "execution_count": 7,
     "metadata": {},
     "output_type": "execute_result"
    }
   ],
   "source": [
    "len(guitar_url)"
   ]
  },
  {
   "cell_type": "code",
   "execution_count": 8,
   "id": "6e1c4308",
   "metadata": {},
   "outputs": [
    {
     "data": {
      "text/plain": [
       "['https://www.amazon.in./sspa/click?ie=UTF8&spc=MTozMzcyNzEzMjQyMDQxMDQ2OjE3MDgxMDIxODI6c3BfYXRmOjMwMDAxNTUzNzk3OTIzMjo6MDo6&url=%2FKadence-Frontier-Acoustic-Guitar-Strings%2Fdp%2FB078GTJP5Y%2Fref%3Dsr_1_1%3Fcrid%3D1KNJ4EAFC5YCM%26keywords%3Dguitar%26qid%3D1708102182%26sprefix%3Dguitar%252Caps%252C492%26sr%3D8-1-spons%26sp_csd%3Dd2lkZ2V0TmFtZT1zcF9hdGY%26psc%3D1',\n",
       " 'https://www.amazon.in./sspa/click?ie=UTF8&spc=MTozMzcyNzEzMjQyMDQxMDQ2OjE3MDgxMDIxODI6c3BfYXRmOjMwMDAxNTUwODk1NDEzMjo6MDo6&url=%2FKadence-Frontier-Acoustic-Guitar-Strings%2Fdp%2FB01GDZ46AA%2Fref%3Dsr_1_2%3Fcrid%3D1KNJ4EAFC5YCM%26keywords%3Dguitar%26qid%3D1708102182%26sprefix%3Dguitar%252Caps%252C492%26sr%3D8-2-spons%26sp_csd%3Dd2lkZ2V0TmFtZT1zcF9hdGY%26psc%3D1',\n",
       " 'https://www.amazon.in./sspa/click?ie=UTF8&spc=MTozMzcyNzEzMjQyMDQxMDQ2OjE3MDgxMDIxODI6c3BfYXRmOjIwMDU3MTkzMDU2MjA0OjowOjo&url=%2FKadence-Slowhand-Premium-Acoustic-Instrument%2Fdp%2FB077SZ667X%2Fref%3Dsr_1_3%3Fcrid%3D1KNJ4EAFC5YCM%26keywords%3Dguitar%26qid%3D1708102182%26sprefix%3Dguitar%252Caps%252C492%26sr%3D8-3-spons%26sp_csd%3Dd2lkZ2V0TmFtZT1zcF9hdGY%26psc%3D1',\n",
       " 'https://www.amazon.in./sspa/click?ie=UTF8&spc=MTozMzcyNzEzMjQyMDQxMDQ2OjE3MDgxMDIxODI6c3BfYXRmOjIwMDg4NDY1ODE5NDA0OjowOjo&url=%2FHenrix-Acoustic-Guitar-Die-cast-Dual-action%2Fdp%2FB07VNDW6QF%2Fref%3Dsr_1_4%3Fcrid%3D1KNJ4EAFC5YCM%26keywords%3Dguitar%26qid%3D1708102182%26sprefix%3Dguitar%252Caps%252C492%26sr%3D8-4-spons%26sp_csd%3Dd2lkZ2V0TmFtZT1zcF9hdGY%26psc%3D1',\n",
       " 'https://www.amazon.in./Intern-INT-38C-Acoustic-Guitar-Black/dp/B073B6TQQY/ref=sr_1_5?crid=1KNJ4EAFC5YCM&keywords=guitar&qid=1708102182&sprefix=guitar%2Caps%2C492&sr=8-5',\n",
       " 'https://www.amazon.in./Juarez-Acoustic-Cutaway-038C-Strings/dp/B017NPCSLI/ref=sr_1_6?crid=1KNJ4EAFC5YCM&keywords=guitar&qid=1708102182&sprefix=guitar%2Caps%2C492&sr=8-6',\n",
       " 'https://www.amazon.in./Yamaha-F280-Acoustic-Guitar-Natural/dp/B08317Y4VP/ref=sr_1_7?crid=1KNJ4EAFC5YCM&keywords=guitar&qid=1708102182&sprefix=guitar%2Caps%2C492&sr=8-7',\n",
       " 'https://www.amazon.in./Intern-INT-38C-Acoustic-Guitar-Sunburst/dp/B073B5MJRM/ref=sr_1_8?crid=1KNJ4EAFC5YCM&keywords=guitar&qid=1708102182&sprefix=guitar%2Caps%2C492&sr=8-8',\n",
       " 'https://www.amazon.in./Ultimate-Concert-Cutaway-Acoustic-Bajaao/dp/B08WHWKKV5/ref=sr_1_9?crid=1KNJ4EAFC5YCM&keywords=guitar&qid=1708102182&sprefix=guitar%2Caps%2C492&sr=8-9',\n",
       " 'https://www.amazon.in./JUAREZ-JRZ38C-Acoustic-Sunburst-Strings/dp/B01FYYTDS6/ref=sr_1_10?crid=1KNJ4EAFC5YCM&keywords=guitar&qid=1708102182&sprefix=guitar%2Caps%2C492&sr=8-10',\n",
       " 'https://www.amazon.in./Intern-INT-38C-Acoustic-Guitar-Purple/dp/B073B4CT2F/ref=sr_1_11?crid=1KNJ4EAFC5YCM&keywords=guitar&qid=1708102182&sprefix=guitar%2Caps%2C492&sr=8-11',\n",
       " 'https://www.amazon.in./YAMAHA-FS80C-CONCERT-CUTAWAY-GUITAR/dp/B08WBBVMVJ/ref=sr_1_12?crid=1KNJ4EAFC5YCM&keywords=guitar&qid=1708102182&sprefix=guitar%2Caps%2C492&sr=8-12',\n",
       " 'https://www.amazon.in./Yamaha-FS-100C-6-String-Acoustic-without/dp/B00PAS9CK6/ref=sr_1_13?crid=1KNJ4EAFC5YCM&keywords=guitar&qid=1708102182&sprefix=guitar%2Caps%2C492&sr=8-13',\n",
       " 'https://www.amazon.in./Intern-38-inch-Cutaway-Design-Acoustic/dp/B07X4PN85R/ref=sr_1_14?crid=1KNJ4EAFC5YCM&keywords=guitar&qid=1708102182&sprefix=guitar%2Caps%2C492&sr=8-14',\n",
       " 'https://www.amazon.in./Portible-4-String-Acoustic-Learning-Mahogany/dp/B094ZV7T1S/ref=sr_1_15?crid=1KNJ4EAFC5YCM&keywords=guitar&qid=1708102182&sprefix=guitar%2Caps%2C492&sr=8-15',\n",
       " 'https://www.amazon.in./Henrix-Acoustic-Guitar-Die-cast-Dual-action/dp/B07VNDW6QF/ref=sr_1_16?crid=1KNJ4EAFC5YCM&keywords=guitar&qid=1708102182&sprefix=guitar%2Caps%2C492&sr=8-16',\n",
       " 'https://www.amazon.in./Intern-INT-38C-Acoustic-Guitar-Blue/dp/B073B5RZBV/ref=sr_1_17?crid=1KNJ4EAFC5YCM&keywords=guitar&qid=1708102182&sprefix=guitar%2Caps%2C492&sr=8-17',\n",
       " 'https://www.amazon.in./JUAREZ-JRZ38C-Acoustic-Sunburst-Strings/dp/B01FYYTDTU/ref=sr_1_18?crid=1KNJ4EAFC5YCM&keywords=guitar&qid=1708102182&sprefix=guitar%2Caps%2C492&sr=8-18',\n",
       " 'https://www.amazon.in./Intern-INT-38C-Acoustic-Guitar-Kit/dp/B073B6TF31/ref=sr_1_19?crid=1KNJ4EAFC5YCM&keywords=guitar&qid=1708102182&sprefix=guitar%2Caps%2C492&sr=8-19',\n",
       " 'https://www.amazon.in./Kadence-Frontier-Acoustic-Guitar-Strings/dp/B01GDZ46AA/ref=sr_1_20?crid=1KNJ4EAFC5YCM&keywords=guitar&qid=1708102182&sprefix=guitar%2Caps%2C492&sr=8-20',\n",
       " 'https://www.amazon.in./sspa/click?ie=UTF8&spc=MTozMzcyNzEzMjQyMDQxMDQ2OjE3MDgxMDIxODI6c3BfbXRmOjMwMDExODczMTI4ODMzMjo6MDo6&url=%2FMOCKING-BIRD-Beginners-Instruments-Accessories%2Fdp%2FB0CNGJP58D%2Fref%3Dsr_1_21%3Fcrid%3D1KNJ4EAFC5YCM%26keywords%3Dguitar%26qid%3D1708102182%26sprefix%3Dguitar%252Caps%252C492%26sr%3D8-21-spons%26sp_csd%3Dd2lkZ2V0TmFtZT1zcF9tdGY%26psc%3D1',\n",
       " 'https://www.amazon.in./sspa/click?ie=UTF8&spc=MTozMzcyNzEzMjQyMDQxMDQ2OjE3MDgxMDIxODI6c3BfbXRmOjMwMDEwNTMwMzczMTEzMjo6MDo6&url=%2FPerlman-Fretboard-Fingerboard-Stickers-Beginner%2Fdp%2FB096ZDSWJ4%2Fref%3Dsr_1_22%3Fcrid%3D1KNJ4EAFC5YCM%26keywords%3Dguitar%26qid%3D1708102182%26sprefix%3Dguitar%252Caps%252C492%26sr%3D8-22-spons%26sp_csd%3Dd2lkZ2V0TmFtZT1zcF9tdGY%26psc%3D1',\n",
       " 'https://www.amazon.in./sspa/click?ie=UTF8&spc=MTozMzcyNzEzMjQyMDQxMDQ2OjE3MDgxMDIxODI6c3BfbXRmOjIwMDkyNjI0MDIxNTk4OjowOjo&url=%2FDreadnought-Acoustic-Gig-Bag-Strings-Polishing%2Fdp%2FB0BJJRJVHY%2Fref%3Dsr_1_23%3Fcrid%3D1KNJ4EAFC5YCM%26keywords%3Dguitar%26qid%3D1708102182%26sprefix%3Dguitar%252Caps%252C492%26sr%3D8-23-spons%26sp_csd%3Dd2lkZ2V0TmFtZT1zcF9tdGY%26psc%3D1',\n",
       " 'https://www.amazon.in./sspa/click?ie=UTF8&spc=MTozMzcyNzEzMjQyMDQxMDQ2OjE3MDgxMDIxODI6c3BfbXRmOjMwMDExODEzMTQ4MTYzMjo6MDo6&url=%2FAcoustic-Guitar-Cutaway-Strings-Strap%2Fdp%2FB08NTC4KG4%2Fref%3Dsr_1_24%3Fcrid%3D1KNJ4EAFC5YCM%26keywords%3Dguitar%26qid%3D1708102182%26sprefix%3Dguitar%252Caps%252C492%26sr%3D8-24-spons%26sp_csd%3Dd2lkZ2V0TmFtZT1zcF9tdGY%26psc%3D1',\n",
       " 'https://www.amazon.in./Juarez-JRZ-ST01-6-String-Electric-Without/dp/B01FYZSOGM/ref=sr_1_25?crid=1KNJ4EAFC5YCM&keywords=guitar&qid=1708102182&sprefix=guitar%2Caps%2C492&sr=8-25',\n",
       " 'https://www.amazon.in./Intern-INT-38C-Brown-Acoustic-Guitar/dp/B07X2HV158/ref=sr_1_26?crid=1KNJ4EAFC5YCM&keywords=guitar&qid=1708102182&sprefix=guitar%2Caps%2C492&sr=8-26',\n",
       " 'https://www.amazon.in./JUAREZ-JRZ38C-Acoustic-Natural-Strings/dp/B01FYYTDWC/ref=sr_1_27?crid=1KNJ4EAFC5YCM&keywords=guitar&qid=1708102182&sprefix=guitar%2Caps%2C492&sr=8-27',\n",
       " 'https://www.amazon.in./Intern-INT-38C-NT-G-Guitar-Kit-Natural/dp/B07K9MZZH9/ref=sr_1_28?crid=1KNJ4EAFC5YCM&keywords=guitar&qid=1708102182&sprefix=guitar%2Caps%2C492&sr=8-28',\n",
       " 'https://www.amazon.in./Medellin-Acoustic-Guitar-learning-course/dp/B0CGRX6ZMF/ref=sr_1_29?crid=1KNJ4EAFC5YCM&keywords=guitar&qid=1708102182&sprefix=guitar%2Caps%2C492&sr=8-29',\n",
       " 'https://www.amazon.in./Kadence-Frontier-Acoustic-Guitar-Strings/dp/B078GTJP5Y/ref=sr_1_30?crid=1KNJ4EAFC5YCM&keywords=guitar&qid=1708102182&sprefix=guitar%2Caps%2C492&sr=8-30',\n",
       " 'https://www.amazon.in./Acoustic-Plectrums-Beginner-Learners-configuration/dp/B0B4SSB8BJ/ref=sr_1_31?crid=1KNJ4EAFC5YCM&keywords=guitar&qid=1708102182&sprefix=guitar%2Caps%2C492&sr=8-31',\n",
       " 'https://www.amazon.in./JUAREZ-JRZ38C-TBLSNA/dp/B0BCQKQ6CS/ref=sr_1_32?crid=1KNJ4EAFC5YCM&keywords=guitar&qid=1708102182&sprefix=guitar%2Caps%2C492&sr=8-32',\n",
       " 'https://www.amazon.in./JUAREZ-JRZ38C-BKNA/dp/B0BCQNVPRB/ref=sr_1_33?crid=1KNJ4EAFC5YCM&keywords=guitar&qid=1708102182&sprefix=guitar%2Caps%2C492&sr=8-33',\n",
       " 'https://www.amazon.in./JUAREZ-JRZ38C-PP/dp/B0BCQNLXVM/ref=sr_1_34?crid=1KNJ4EAFC5YCM&keywords=guitar&qid=1708102182&sprefix=guitar%2Caps%2C492&sr=8-34',\n",
       " 'https://www.amazon.in./Intern-INT-38C-VT-G-Guitar-Kit-Violet/dp/B07K8YJXKL/ref=sr_1_35?crid=1KNJ4EAFC5YCM&keywords=guitar&qid=1708102182&sprefix=guitar%2Caps%2C492&sr=8-35',\n",
       " 'https://www.amazon.in./JUAREZ-JRZ38C-3TSNA/dp/B0BCQQRDF3/ref=sr_1_36?crid=1KNJ4EAFC5YCM&keywords=guitar&qid=1708102182&sprefix=guitar%2Caps%2C492&sr=8-36',\n",
       " 'https://www.amazon.in./FS80C-Acoustic-Cutaway-Concert-Plectrums/dp/B08XVV1WH7/ref=sr_1_37?crid=1KNJ4EAFC5YCM&keywords=guitar&qid=1708102182&sprefix=guitar%2Caps%2C492&sr=8-37',\n",
       " 'https://www.amazon.in./Blueberry-38C-Acoustic-Guitar-Strings/dp/B08KLMV4XX/ref=sr_1_38?crid=1KNJ4EAFC5YCM&keywords=guitar&qid=1708102182&sprefix=guitar%2Caps%2C492&sr=8-38',\n",
       " 'https://www.amazon.in./WOPPCART-Acoustic-Instrument-Educational-Beginners/dp/B0CCPCD3LC/ref=sr_1_39?crid=1KNJ4EAFC5YCM&keywords=guitar&qid=1708102182&sprefix=guitar%2Caps%2C492&sr=8-39',\n",
       " 'https://www.amazon.in./Perlman-Fretboard-Fingerboard-Stickers-Beginner/dp/B096ZDSWJ4/ref=sr_1_40?crid=1KNJ4EAFC5YCM&keywords=guitar&qid=1708102182&sprefix=guitar%2Caps%2C492&sr=8-40',\n",
       " 'https://www.amazon.in./Intern-INT-38C-Acoustic-Guitar-Natural/dp/B073B4D22T/ref=sr_1_41?crid=1KNJ4EAFC5YCM&keywords=guitar&qid=1708102182&sprefix=guitar%2Caps%2C492&sr=8-41',\n",
       " 'https://www.amazon.in./Ju%C3%A2rez-JRZ38C-WH-Strings-Acoustic/dp/B072MFK4L6/ref=sr_1_42?crid=1KNJ4EAFC5YCM&keywords=guitar&qid=1708102182&sprefix=guitar%2Caps%2C492&sr=8-42',\n",
       " 'https://www.amazon.in./Kadence-Astro-Electric-Guitar-FRETS/dp/B0CNRS4KXB/ref=sr_1_43?crid=1KNJ4EAFC5YCM&keywords=guitar&qid=1708102182&sprefix=guitar%2Caps%2C492&sr=8-43',\n",
       " 'https://www.amazon.in./Medellin-Acoustic-Guitar-learning-Strings/dp/B0CCNSN9BV/ref=sr_1_44?crid=1KNJ4EAFC5YCM&keywords=guitar&qid=1708102182&sprefix=guitar%2Caps%2C492&sr=8-44',\n",
       " 'https://www.amazon.in./Pluse-Classical-Portable-Excellent-Instrument/dp/B0C8B1XZ94/ref=sr_1_45?crid=1KNJ4EAFC5YCM&keywords=guitar&qid=1708102182&sprefix=guitar%2Caps%2C492&sr=8-45',\n",
       " 'https://www.amazon.in./JUAREZ-JRZ38C-Handed-Acoustic-Strings/dp/B01FYYTDW2/ref=sr_1_46?crid=1KNJ4EAFC5YCM&keywords=guitar&qid=1708102182&sprefix=guitar%2Caps%2C492&sr=8-46',\n",
       " 'https://www.amazon.in./Kadence-Slowhand-Premium-Acoustic-Instrument/dp/B077SZ667X/ref=sr_1_47?crid=1KNJ4EAFC5YCM&keywords=guitar&qid=1708102182&sprefix=guitar%2Caps%2C492&sr=8-47',\n",
       " 'https://www.amazon.in./Strings-Straps-String-winder-Polishing/dp/B07RV9FJ2Z/ref=sr_1_48?crid=1KNJ4EAFC5YCM&keywords=guitar&qid=1708102182&sprefix=guitar%2Caps%2C492&sr=8-48',\n",
       " 'https://www.amazon.in./Intern-INT-38C-BK-G-Guitar-Kit-Black/dp/B07K9497RC/ref=sr_1_49?crid=1KNJ4EAFC5YCM&keywords=guitar&qid=1708102182&sprefix=guitar%2Caps%2C492&sr=8-49',\n",
       " 'https://www.amazon.in./Yamaha-Classical-Guitar-C40-02/dp/B003UGCUFE/ref=sr_1_50?crid=1KNJ4EAFC5YCM&keywords=guitar&qid=1708102182&sprefix=guitar%2Caps%2C492&sr=8-50',\n",
       " 'https://www.amazon.in./Intern-INT-38C-Natural-Acoustic-Guitar/dp/B07X4LPJ6H/ref=sr_1_51?crid=1KNJ4EAFC5YCM&keywords=guitar&qid=1708102182&sprefix=guitar%2Caps%2C492&sr=8-51',\n",
       " 'https://www.amazon.in./Fender-FA-125-Dreadnought-Acoustic-Guitar/dp/B07J4X9B7R/ref=sr_1_52?crid=1KNJ4EAFC5YCM&keywords=guitar&qid=1708102182&sprefix=guitar%2Caps%2C492&sr=8-52',\n",
       " 'https://www.amazon.in./Intern-INT-38C-Sunburst-Acoustic-Guitar/dp/B07X1J4D3Z/ref=sr_1_53?crid=1KNJ4EAFC5YCM&keywords=guitar&qid=1708102182&sprefix=guitar%2Caps%2C492&sr=8-53',\n",
       " 'https://www.amazon.in./JUAREZ-Arpeggio-Guitar-JRA41SP-RD-K-red/dp/B08MW8CWG8/ref=sr_1_54?crid=1KNJ4EAFC5YCM&keywords=guitar&qid=1708102182&sprefix=guitar%2Caps%2C492&sr=8-54',\n",
       " 'https://www.amazon.in./Yamaha-Acoustic-Tobacco-Sunburst-Bajaao/dp/B09PBDGD82/ref=sr_1_55?crid=1KNJ4EAFC5YCM&keywords=guitar&qid=1708102182&sprefix=guitar%2Caps%2C492&sr=8-55',\n",
       " 'https://www.amazon.in./Kadence-Professional-Acoustic-Rosewood-Natural/dp/B0CC927DLN/ref=sr_1_56?crid=1KNJ4EAFC5YCM&keywords=guitar&qid=1708102182&sprefix=guitar%2Caps%2C492&sr=8-56',\n",
       " 'https://www.amazon.in./sspa/click?ie=UTF8&spc=MTozMzcyNzEzMjQyMDQxMDQ2OjE3MDgxMDIxODI6c3BfYnRmOjMwMDExMzg5MzQwMjEzMjo6MDo6&url=%2FDEVICE-URBAN-INFOTECH-Beginners-Guitarists%2Fdp%2FB0CR7DPXQN%2Fref%3Dsr_1_57%3Fcrid%3D1KNJ4EAFC5YCM%26keywords%3Dguitar%26qid%3D1708102182%26sprefix%3Dguitar%252Caps%252C492%26sr%3D8-57-spons%26sp_csd%3Dd2lkZ2V0TmFtZT1zcF9idGY%26psc%3D1',\n",
       " 'https://www.amazon.in./sspa/click?ie=UTF8&spc=MTozMzcyNzEzMjQyMDQxMDQ2OjE3MDgxMDIxODI6c3BfYnRmOjMwMDA5ODkzODIzODczMjo6MDo6&url=%2FLindenwood-Acoustic-Cutaway-beginers-students%2Fdp%2FB0CNTJ9CFR%2Fref%3Dsr_1_58%3Fcrid%3D1KNJ4EAFC5YCM%26keywords%3Dguitar%26qid%3D1708102182%26sprefix%3Dguitar%252Caps%252C492%26sr%3D8-58-spons%26sp_csd%3Dd2lkZ2V0TmFtZT1zcF9idGY%26psc%3D1',\n",
       " 'https://www.amazon.in./sspa/click?ie=UTF8&spc=MTozMzcyNzEzMjQyMDQxMDQ2OjE3MDgxMDIxODI6c3BfYnRmOjMwMDEyMjYyNDQ0ODgzMjo6MDo6&url=%2FLindenwood-Acoustic-Cutaway-beginers-students%2Fdp%2FB0CNYVMXTH%2Fref%3Dsr_1_59%3Fcrid%3D1KNJ4EAFC5YCM%26keywords%3Dguitar%26qid%3D1708102182%26sprefix%3Dguitar%252Caps%252C492%26sr%3D8-59-spons%26sp_csd%3Dd2lkZ2V0TmFtZT1zcF9idGY%26psc%3D1',\n",
       " 'https://www.amazon.in./sspa/click?ie=UTF8&spc=MTozMzcyNzEzMjQyMDQxMDQ2OjE3MDgxMDIxODI6c3BfYnRmOjMwMDA5NDUxMTA0MTkzMjo6MDo6&url=%2FKaspar-Lindenwood-Acoustic-Cutaway-accessories%2Fdp%2FB0CM3WX9TS%2Fref%3Dsr_1_60%3Fcrid%3D1KNJ4EAFC5YCM%26keywords%3Dguitar%26qid%3D1708102182%26sprefix%3Dguitar%252Caps%252C492%26sr%3D8-60-spons%26sp_csd%3Dd2lkZ2V0TmFtZT1zcF9idGY%26psc%3D1',\n",
       " 'https://www.amazon.in./sspa/click?ie=UTF8&spc=MTozMzcyNzEzMjQyMDQxMDQ2OjE3MDgxMDIxODI6c3BfYXRmOjMwMDAxNTUzNzk3OTIzMjo6MDo6&url=%2FKadence-Frontier-Acoustic-Guitar-Strings%2Fdp%2FB078GTJP5Y%2Fref%3Dsr_1_1%3Fcrid%3D1KNJ4EAFC5YCM%26keywords%3Dguitar%26qid%3D1708102182%26sprefix%3Dguitar%252Caps%252C492%26sr%3D8-1-spons%26sp_csd%3Dd2lkZ2V0TmFtZT1zcF9hdGY%26psc%3D1',\n",
       " 'https://www.amazon.in./sspa/click?ie=UTF8&spc=MTozMzcyNzEzMjQyMDQxMDQ2OjE3MDgxMDIxODI6c3BfYXRmOjMwMDAxNTUwODk1NDEzMjo6MDo6&url=%2FKadence-Frontier-Acoustic-Guitar-Strings%2Fdp%2FB01GDZ46AA%2Fref%3Dsr_1_2%3Fcrid%3D1KNJ4EAFC5YCM%26keywords%3Dguitar%26qid%3D1708102182%26sprefix%3Dguitar%252Caps%252C492%26sr%3D8-2-spons%26sp_csd%3Dd2lkZ2V0TmFtZT1zcF9hdGY%26psc%3D1',\n",
       " 'https://www.amazon.in./sspa/click?ie=UTF8&spc=MTozMzcyNzEzMjQyMDQxMDQ2OjE3MDgxMDIxODI6c3BfYXRmOjIwMDU3MTkzMDU2MjA0OjowOjo&url=%2FKadence-Slowhand-Premium-Acoustic-Instrument%2Fdp%2FB077SZ667X%2Fref%3Dsr_1_3%3Fcrid%3D1KNJ4EAFC5YCM%26keywords%3Dguitar%26qid%3D1708102182%26sprefix%3Dguitar%252Caps%252C492%26sr%3D8-3-spons%26sp_csd%3Dd2lkZ2V0TmFtZT1zcF9hdGY%26psc%3D1',\n",
       " 'https://www.amazon.in./sspa/click?ie=UTF8&spc=MTozMzcyNzEzMjQyMDQxMDQ2OjE3MDgxMDIxODI6c3BfYXRmOjIwMDg4NDY1ODE5NDA0OjowOjo&url=%2FHenrix-Acoustic-Guitar-Die-cast-Dual-action%2Fdp%2FB07VNDW6QF%2Fref%3Dsr_1_4%3Fcrid%3D1KNJ4EAFC5YCM%26keywords%3Dguitar%26qid%3D1708102182%26sprefix%3Dguitar%252Caps%252C492%26sr%3D8-4-spons%26sp_csd%3Dd2lkZ2V0TmFtZT1zcF9hdGY%26psc%3D1',\n",
       " 'https://www.amazon.in./Intern-INT-38C-Acoustic-Guitar-Black/dp/B073B6TQQY/ref=sr_1_5?crid=1KNJ4EAFC5YCM&keywords=guitar&qid=1708102182&sprefix=guitar%2Caps%2C492&sr=8-5',\n",
       " 'https://www.amazon.in./Juarez-Acoustic-Cutaway-038C-Strings/dp/B017NPCSLI/ref=sr_1_6?crid=1KNJ4EAFC5YCM&keywords=guitar&qid=1708102182&sprefix=guitar%2Caps%2C492&sr=8-6',\n",
       " 'https://www.amazon.in./Yamaha-F280-Acoustic-Guitar-Natural/dp/B08317Y4VP/ref=sr_1_7?crid=1KNJ4EAFC5YCM&keywords=guitar&qid=1708102182&sprefix=guitar%2Caps%2C492&sr=8-7',\n",
       " 'https://www.amazon.in./Intern-INT-38C-Acoustic-Guitar-Sunburst/dp/B073B5MJRM/ref=sr_1_8?crid=1KNJ4EAFC5YCM&keywords=guitar&qid=1708102182&sprefix=guitar%2Caps%2C492&sr=8-8',\n",
       " 'https://www.amazon.in./Ultimate-Concert-Cutaway-Acoustic-Bajaao/dp/B08WHWKKV5/ref=sr_1_9?crid=1KNJ4EAFC5YCM&keywords=guitar&qid=1708102182&sprefix=guitar%2Caps%2C492&sr=8-9',\n",
       " 'https://www.amazon.in./JUAREZ-JRZ38C-Acoustic-Sunburst-Strings/dp/B01FYYTDS6/ref=sr_1_10?crid=1KNJ4EAFC5YCM&keywords=guitar&qid=1708102182&sprefix=guitar%2Caps%2C492&sr=8-10',\n",
       " 'https://www.amazon.in./Intern-INT-38C-Acoustic-Guitar-Purple/dp/B073B4CT2F/ref=sr_1_11?crid=1KNJ4EAFC5YCM&keywords=guitar&qid=1708102182&sprefix=guitar%2Caps%2C492&sr=8-11',\n",
       " 'https://www.amazon.in./YAMAHA-FS80C-CONCERT-CUTAWAY-GUITAR/dp/B08WBBVMVJ/ref=sr_1_12?crid=1KNJ4EAFC5YCM&keywords=guitar&qid=1708102182&sprefix=guitar%2Caps%2C492&sr=8-12',\n",
       " 'https://www.amazon.in./Yamaha-FS-100C-6-String-Acoustic-without/dp/B00PAS9CK6/ref=sr_1_13?crid=1KNJ4EAFC5YCM&keywords=guitar&qid=1708102182&sprefix=guitar%2Caps%2C492&sr=8-13',\n",
       " 'https://www.amazon.in./Intern-38-inch-Cutaway-Design-Acoustic/dp/B07X4PN85R/ref=sr_1_14?crid=1KNJ4EAFC5YCM&keywords=guitar&qid=1708102182&sprefix=guitar%2Caps%2C492&sr=8-14',\n",
       " 'https://www.amazon.in./Portible-4-String-Acoustic-Learning-Mahogany/dp/B094ZV7T1S/ref=sr_1_15?crid=1KNJ4EAFC5YCM&keywords=guitar&qid=1708102182&sprefix=guitar%2Caps%2C492&sr=8-15',\n",
       " 'https://www.amazon.in./Henrix-Acoustic-Guitar-Die-cast-Dual-action/dp/B07VNDW6QF/ref=sr_1_16?crid=1KNJ4EAFC5YCM&keywords=guitar&qid=1708102182&sprefix=guitar%2Caps%2C492&sr=8-16',\n",
       " 'https://www.amazon.in./Intern-INT-38C-Acoustic-Guitar-Blue/dp/B073B5RZBV/ref=sr_1_17?crid=1KNJ4EAFC5YCM&keywords=guitar&qid=1708102182&sprefix=guitar%2Caps%2C492&sr=8-17',\n",
       " 'https://www.amazon.in./JUAREZ-JRZ38C-Acoustic-Sunburst-Strings/dp/B01FYYTDTU/ref=sr_1_18?crid=1KNJ4EAFC5YCM&keywords=guitar&qid=1708102182&sprefix=guitar%2Caps%2C492&sr=8-18',\n",
       " 'https://www.amazon.in./Intern-INT-38C-Acoustic-Guitar-Kit/dp/B073B6TF31/ref=sr_1_19?crid=1KNJ4EAFC5YCM&keywords=guitar&qid=1708102182&sprefix=guitar%2Caps%2C492&sr=8-19',\n",
       " 'https://www.amazon.in./Kadence-Frontier-Acoustic-Guitar-Strings/dp/B01GDZ46AA/ref=sr_1_20?crid=1KNJ4EAFC5YCM&keywords=guitar&qid=1708102182&sprefix=guitar%2Caps%2C492&sr=8-20',\n",
       " 'https://www.amazon.in./sspa/click?ie=UTF8&spc=MTozMzcyNzEzMjQyMDQxMDQ2OjE3MDgxMDIxODI6c3BfbXRmOjMwMDExODczMTI4ODMzMjo6MDo6&url=%2FMOCKING-BIRD-Beginners-Instruments-Accessories%2Fdp%2FB0CNGJP58D%2Fref%3Dsr_1_21%3Fcrid%3D1KNJ4EAFC5YCM%26keywords%3Dguitar%26qid%3D1708102182%26sprefix%3Dguitar%252Caps%252C492%26sr%3D8-21-spons%26sp_csd%3Dd2lkZ2V0TmFtZT1zcF9tdGY%26psc%3D1',\n",
       " 'https://www.amazon.in./sspa/click?ie=UTF8&spc=MTozMzcyNzEzMjQyMDQxMDQ2OjE3MDgxMDIxODI6c3BfbXRmOjMwMDEwNTMwMzczMTEzMjo6MDo6&url=%2FPerlman-Fretboard-Fingerboard-Stickers-Beginner%2Fdp%2FB096ZDSWJ4%2Fref%3Dsr_1_22%3Fcrid%3D1KNJ4EAFC5YCM%26keywords%3Dguitar%26qid%3D1708102182%26sprefix%3Dguitar%252Caps%252C492%26sr%3D8-22-spons%26sp_csd%3Dd2lkZ2V0TmFtZT1zcF9tdGY%26psc%3D1',\n",
       " 'https://www.amazon.in./sspa/click?ie=UTF8&spc=MTozMzcyNzEzMjQyMDQxMDQ2OjE3MDgxMDIxODI6c3BfbXRmOjIwMDkyNjI0MDIxNTk4OjowOjo&url=%2FDreadnought-Acoustic-Gig-Bag-Strings-Polishing%2Fdp%2FB0BJJRJVHY%2Fref%3Dsr_1_23%3Fcrid%3D1KNJ4EAFC5YCM%26keywords%3Dguitar%26qid%3D1708102182%26sprefix%3Dguitar%252Caps%252C492%26sr%3D8-23-spons%26sp_csd%3Dd2lkZ2V0TmFtZT1zcF9tdGY%26psc%3D1',\n",
       " 'https://www.amazon.in./sspa/click?ie=UTF8&spc=MTozMzcyNzEzMjQyMDQxMDQ2OjE3MDgxMDIxODI6c3BfbXRmOjMwMDExODEzMTQ4MTYzMjo6MDo6&url=%2FAcoustic-Guitar-Cutaway-Strings-Strap%2Fdp%2FB08NTC4KG4%2Fref%3Dsr_1_24%3Fcrid%3D1KNJ4EAFC5YCM%26keywords%3Dguitar%26qid%3D1708102182%26sprefix%3Dguitar%252Caps%252C492%26sr%3D8-24-spons%26sp_csd%3Dd2lkZ2V0TmFtZT1zcF9tdGY%26psc%3D1',\n",
       " 'https://www.amazon.in./Juarez-JRZ-ST01-6-String-Electric-Without/dp/B01FYZSOGM/ref=sr_1_25?crid=1KNJ4EAFC5YCM&keywords=guitar&qid=1708102182&sprefix=guitar%2Caps%2C492&sr=8-25',\n",
       " 'https://www.amazon.in./Intern-INT-38C-Brown-Acoustic-Guitar/dp/B07X2HV158/ref=sr_1_26?crid=1KNJ4EAFC5YCM&keywords=guitar&qid=1708102182&sprefix=guitar%2Caps%2C492&sr=8-26',\n",
       " 'https://www.amazon.in./JUAREZ-JRZ38C-Acoustic-Natural-Strings/dp/B01FYYTDWC/ref=sr_1_27?crid=1KNJ4EAFC5YCM&keywords=guitar&qid=1708102182&sprefix=guitar%2Caps%2C492&sr=8-27',\n",
       " 'https://www.amazon.in./Intern-INT-38C-NT-G-Guitar-Kit-Natural/dp/B07K9MZZH9/ref=sr_1_28?crid=1KNJ4EAFC5YCM&keywords=guitar&qid=1708102182&sprefix=guitar%2Caps%2C492&sr=8-28',\n",
       " 'https://www.amazon.in./Medellin-Acoustic-Guitar-learning-course/dp/B0CGRX6ZMF/ref=sr_1_29?crid=1KNJ4EAFC5YCM&keywords=guitar&qid=1708102182&sprefix=guitar%2Caps%2C492&sr=8-29',\n",
       " 'https://www.amazon.in./Kadence-Frontier-Acoustic-Guitar-Strings/dp/B078GTJP5Y/ref=sr_1_30?crid=1KNJ4EAFC5YCM&keywords=guitar&qid=1708102182&sprefix=guitar%2Caps%2C492&sr=8-30',\n",
       " 'https://www.amazon.in./Acoustic-Plectrums-Beginner-Learners-configuration/dp/B0B4SSB8BJ/ref=sr_1_31?crid=1KNJ4EAFC5YCM&keywords=guitar&qid=1708102182&sprefix=guitar%2Caps%2C492&sr=8-31',\n",
       " 'https://www.amazon.in./JUAREZ-JRZ38C-TBLSNA/dp/B0BCQKQ6CS/ref=sr_1_32?crid=1KNJ4EAFC5YCM&keywords=guitar&qid=1708102182&sprefix=guitar%2Caps%2C492&sr=8-32',\n",
       " 'https://www.amazon.in./JUAREZ-JRZ38C-BKNA/dp/B0BCQNVPRB/ref=sr_1_33?crid=1KNJ4EAFC5YCM&keywords=guitar&qid=1708102182&sprefix=guitar%2Caps%2C492&sr=8-33',\n",
       " 'https://www.amazon.in./JUAREZ-JRZ38C-PP/dp/B0BCQNLXVM/ref=sr_1_34?crid=1KNJ4EAFC5YCM&keywords=guitar&qid=1708102182&sprefix=guitar%2Caps%2C492&sr=8-34',\n",
       " 'https://www.amazon.in./Intern-INT-38C-VT-G-Guitar-Kit-Violet/dp/B07K8YJXKL/ref=sr_1_35?crid=1KNJ4EAFC5YCM&keywords=guitar&qid=1708102182&sprefix=guitar%2Caps%2C492&sr=8-35',\n",
       " 'https://www.amazon.in./JUAREZ-JRZ38C-3TSNA/dp/B0BCQQRDF3/ref=sr_1_36?crid=1KNJ4EAFC5YCM&keywords=guitar&qid=1708102182&sprefix=guitar%2Caps%2C492&sr=8-36',\n",
       " 'https://www.amazon.in./FS80C-Acoustic-Cutaway-Concert-Plectrums/dp/B08XVV1WH7/ref=sr_1_37?crid=1KNJ4EAFC5YCM&keywords=guitar&qid=1708102182&sprefix=guitar%2Caps%2C492&sr=8-37',\n",
       " 'https://www.amazon.in./Blueberry-38C-Acoustic-Guitar-Strings/dp/B08KLMV4XX/ref=sr_1_38?crid=1KNJ4EAFC5YCM&keywords=guitar&qid=1708102182&sprefix=guitar%2Caps%2C492&sr=8-38',\n",
       " 'https://www.amazon.in./WOPPCART-Acoustic-Instrument-Educational-Beginners/dp/B0CCPCD3LC/ref=sr_1_39?crid=1KNJ4EAFC5YCM&keywords=guitar&qid=1708102182&sprefix=guitar%2Caps%2C492&sr=8-39',\n",
       " 'https://www.amazon.in./Perlman-Fretboard-Fingerboard-Stickers-Beginner/dp/B096ZDSWJ4/ref=sr_1_40?crid=1KNJ4EAFC5YCM&keywords=guitar&qid=1708102182&sprefix=guitar%2Caps%2C492&sr=8-40',\n",
       " 'https://www.amazon.in./Intern-INT-38C-Acoustic-Guitar-Natural/dp/B073B4D22T/ref=sr_1_41?crid=1KNJ4EAFC5YCM&keywords=guitar&qid=1708102182&sprefix=guitar%2Caps%2C492&sr=8-41',\n",
       " 'https://www.amazon.in./Ju%C3%A2rez-JRZ38C-WH-Strings-Acoustic/dp/B072MFK4L6/ref=sr_1_42?crid=1KNJ4EAFC5YCM&keywords=guitar&qid=1708102182&sprefix=guitar%2Caps%2C492&sr=8-42',\n",
       " 'https://www.amazon.in./Kadence-Astro-Electric-Guitar-FRETS/dp/B0CNRS4KXB/ref=sr_1_43?crid=1KNJ4EAFC5YCM&keywords=guitar&qid=1708102182&sprefix=guitar%2Caps%2C492&sr=8-43',\n",
       " 'https://www.amazon.in./Medellin-Acoustic-Guitar-learning-Strings/dp/B0CCNSN9BV/ref=sr_1_44?crid=1KNJ4EAFC5YCM&keywords=guitar&qid=1708102182&sprefix=guitar%2Caps%2C492&sr=8-44',\n",
       " 'https://www.amazon.in./Pluse-Classical-Portable-Excellent-Instrument/dp/B0C8B1XZ94/ref=sr_1_45?crid=1KNJ4EAFC5YCM&keywords=guitar&qid=1708102182&sprefix=guitar%2Caps%2C492&sr=8-45',\n",
       " 'https://www.amazon.in./JUAREZ-JRZ38C-Handed-Acoustic-Strings/dp/B01FYYTDW2/ref=sr_1_46?crid=1KNJ4EAFC5YCM&keywords=guitar&qid=1708102182&sprefix=guitar%2Caps%2C492&sr=8-46',\n",
       " 'https://www.amazon.in./Kadence-Slowhand-Premium-Acoustic-Instrument/dp/B077SZ667X/ref=sr_1_47?crid=1KNJ4EAFC5YCM&keywords=guitar&qid=1708102182&sprefix=guitar%2Caps%2C492&sr=8-47',\n",
       " 'https://www.amazon.in./Strings-Straps-String-winder-Polishing/dp/B07RV9FJ2Z/ref=sr_1_48?crid=1KNJ4EAFC5YCM&keywords=guitar&qid=1708102182&sprefix=guitar%2Caps%2C492&sr=8-48',\n",
       " 'https://www.amazon.in./Intern-INT-38C-BK-G-Guitar-Kit-Black/dp/B07K9497RC/ref=sr_1_49?crid=1KNJ4EAFC5YCM&keywords=guitar&qid=1708102182&sprefix=guitar%2Caps%2C492&sr=8-49',\n",
       " 'https://www.amazon.in./Yamaha-Classical-Guitar-C40-02/dp/B003UGCUFE/ref=sr_1_50?crid=1KNJ4EAFC5YCM&keywords=guitar&qid=1708102182&sprefix=guitar%2Caps%2C492&sr=8-50',\n",
       " 'https://www.amazon.in./Intern-INT-38C-Natural-Acoustic-Guitar/dp/B07X4LPJ6H/ref=sr_1_51?crid=1KNJ4EAFC5YCM&keywords=guitar&qid=1708102182&sprefix=guitar%2Caps%2C492&sr=8-51',\n",
       " 'https://www.amazon.in./Fender-FA-125-Dreadnought-Acoustic-Guitar/dp/B07J4X9B7R/ref=sr_1_52?crid=1KNJ4EAFC5YCM&keywords=guitar&qid=1708102182&sprefix=guitar%2Caps%2C492&sr=8-52',\n",
       " 'https://www.amazon.in./Intern-INT-38C-Sunburst-Acoustic-Guitar/dp/B07X1J4D3Z/ref=sr_1_53?crid=1KNJ4EAFC5YCM&keywords=guitar&qid=1708102182&sprefix=guitar%2Caps%2C492&sr=8-53',\n",
       " 'https://www.amazon.in./JUAREZ-Arpeggio-Guitar-JRA41SP-RD-K-red/dp/B08MW8CWG8/ref=sr_1_54?crid=1KNJ4EAFC5YCM&keywords=guitar&qid=1708102182&sprefix=guitar%2Caps%2C492&sr=8-54',\n",
       " 'https://www.amazon.in./Yamaha-Acoustic-Tobacco-Sunburst-Bajaao/dp/B09PBDGD82/ref=sr_1_55?crid=1KNJ4EAFC5YCM&keywords=guitar&qid=1708102182&sprefix=guitar%2Caps%2C492&sr=8-55',\n",
       " 'https://www.amazon.in./Kadence-Professional-Acoustic-Rosewood-Natural/dp/B0CC927DLN/ref=sr_1_56?crid=1KNJ4EAFC5YCM&keywords=guitar&qid=1708102182&sprefix=guitar%2Caps%2C492&sr=8-56',\n",
       " 'https://www.amazon.in./sspa/click?ie=UTF8&spc=MTozMzcyNzEzMjQyMDQxMDQ2OjE3MDgxMDIxODI6c3BfYnRmOjMwMDExMzg5MzQwMjEzMjo6MDo6&url=%2FDEVICE-URBAN-INFOTECH-Beginners-Guitarists%2Fdp%2FB0CR7DPXQN%2Fref%3Dsr_1_57%3Fcrid%3D1KNJ4EAFC5YCM%26keywords%3Dguitar%26qid%3D1708102182%26sprefix%3Dguitar%252Caps%252C492%26sr%3D8-57-spons%26sp_csd%3Dd2lkZ2V0TmFtZT1zcF9idGY%26psc%3D1',\n",
       " 'https://www.amazon.in./sspa/click?ie=UTF8&spc=MTozMzcyNzEzMjQyMDQxMDQ2OjE3MDgxMDIxODI6c3BfYnRmOjMwMDA5ODkzODIzODczMjo6MDo6&url=%2FLindenwood-Acoustic-Cutaway-beginers-students%2Fdp%2FB0CNTJ9CFR%2Fref%3Dsr_1_58%3Fcrid%3D1KNJ4EAFC5YCM%26keywords%3Dguitar%26qid%3D1708102182%26sprefix%3Dguitar%252Caps%252C492%26sr%3D8-58-spons%26sp_csd%3Dd2lkZ2V0TmFtZT1zcF9idGY%26psc%3D1',\n",
       " 'https://www.amazon.in./sspa/click?ie=UTF8&spc=MTozMzcyNzEzMjQyMDQxMDQ2OjE3MDgxMDIxODI6c3BfYnRmOjMwMDEyMjYyNDQ0ODgzMjo6MDo6&url=%2FLindenwood-Acoustic-Cutaway-beginers-students%2Fdp%2FB0CNYVMXTH%2Fref%3Dsr_1_59%3Fcrid%3D1KNJ4EAFC5YCM%26keywords%3Dguitar%26qid%3D1708102182%26sprefix%3Dguitar%252Caps%252C492%26sr%3D8-59-spons%26sp_csd%3Dd2lkZ2V0TmFtZT1zcF9idGY%26psc%3D1',\n",
       " 'https://www.amazon.in./sspa/click?ie=UTF8&spc=MTozMzcyNzEzMjQyMDQxMDQ2OjE3MDgxMDIxODI6c3BfYnRmOjMwMDA5NDUxMTA0MTkzMjo6MDo6&url=%2FKaspar-Lindenwood-Acoustic-Cutaway-accessories%2Fdp%2FB0CM3WX9TS%2Fref%3Dsr_1_60%3Fcrid%3D1KNJ4EAFC5YCM%26keywords%3Dguitar%26qid%3D1708102182%26sprefix%3Dguitar%252Caps%252C492%26sr%3D8-60-spons%26sp_csd%3Dd2lkZ2V0TmFtZT1zcF9idGY%26psc%3D1',\n",
       " 'https://www.amazon.in./sspa/click?ie=UTF8&spc=MTozMzcyNzEzMjQyMDQxMDQ2OjE3MDgxMDIxODI6c3BfYXRmOjMwMDAxNTUzNzk3OTIzMjo6MDo6&url=%2FKadence-Frontier-Acoustic-Guitar-Strings%2Fdp%2FB078GTJP5Y%2Fref%3Dsr_1_1%3Fcrid%3D1KNJ4EAFC5YCM%26keywords%3Dguitar%26qid%3D1708102182%26sprefix%3Dguitar%252Caps%252C492%26sr%3D8-1-spons%26sp_csd%3Dd2lkZ2V0TmFtZT1zcF9hdGY%26psc%3D1',\n",
       " 'https://www.amazon.in./sspa/click?ie=UTF8&spc=MTozMzcyNzEzMjQyMDQxMDQ2OjE3MDgxMDIxODI6c3BfYXRmOjMwMDAxNTUwODk1NDEzMjo6MDo6&url=%2FKadence-Frontier-Acoustic-Guitar-Strings%2Fdp%2FB01GDZ46AA%2Fref%3Dsr_1_2%3Fcrid%3D1KNJ4EAFC5YCM%26keywords%3Dguitar%26qid%3D1708102182%26sprefix%3Dguitar%252Caps%252C492%26sr%3D8-2-spons%26sp_csd%3Dd2lkZ2V0TmFtZT1zcF9hdGY%26psc%3D1',\n",
       " 'https://www.amazon.in./sspa/click?ie=UTF8&spc=MTozMzcyNzEzMjQyMDQxMDQ2OjE3MDgxMDIxODI6c3BfYXRmOjIwMDU3MTkzMDU2MjA0OjowOjo&url=%2FKadence-Slowhand-Premium-Acoustic-Instrument%2Fdp%2FB077SZ667X%2Fref%3Dsr_1_3%3Fcrid%3D1KNJ4EAFC5YCM%26keywords%3Dguitar%26qid%3D1708102182%26sprefix%3Dguitar%252Caps%252C492%26sr%3D8-3-spons%26sp_csd%3Dd2lkZ2V0TmFtZT1zcF9hdGY%26psc%3D1',\n",
       " 'https://www.amazon.in./sspa/click?ie=UTF8&spc=MTozMzcyNzEzMjQyMDQxMDQ2OjE3MDgxMDIxODI6c3BfYXRmOjIwMDg4NDY1ODE5NDA0OjowOjo&url=%2FHenrix-Acoustic-Guitar-Die-cast-Dual-action%2Fdp%2FB07VNDW6QF%2Fref%3Dsr_1_4%3Fcrid%3D1KNJ4EAFC5YCM%26keywords%3Dguitar%26qid%3D1708102182%26sprefix%3Dguitar%252Caps%252C492%26sr%3D8-4-spons%26sp_csd%3Dd2lkZ2V0TmFtZT1zcF9hdGY%26psc%3D1',\n",
       " 'https://www.amazon.in./Intern-INT-38C-Acoustic-Guitar-Black/dp/B073B6TQQY/ref=sr_1_5?crid=1KNJ4EAFC5YCM&keywords=guitar&qid=1708102182&sprefix=guitar%2Caps%2C492&sr=8-5',\n",
       " 'https://www.amazon.in./Juarez-Acoustic-Cutaway-038C-Strings/dp/B017NPCSLI/ref=sr_1_6?crid=1KNJ4EAFC5YCM&keywords=guitar&qid=1708102182&sprefix=guitar%2Caps%2C492&sr=8-6',\n",
       " 'https://www.amazon.in./Yamaha-F280-Acoustic-Guitar-Natural/dp/B08317Y4VP/ref=sr_1_7?crid=1KNJ4EAFC5YCM&keywords=guitar&qid=1708102182&sprefix=guitar%2Caps%2C492&sr=8-7',\n",
       " 'https://www.amazon.in./Intern-INT-38C-Acoustic-Guitar-Sunburst/dp/B073B5MJRM/ref=sr_1_8?crid=1KNJ4EAFC5YCM&keywords=guitar&qid=1708102182&sprefix=guitar%2Caps%2C492&sr=8-8',\n",
       " 'https://www.amazon.in./Ultimate-Concert-Cutaway-Acoustic-Bajaao/dp/B08WHWKKV5/ref=sr_1_9?crid=1KNJ4EAFC5YCM&keywords=guitar&qid=1708102182&sprefix=guitar%2Caps%2C492&sr=8-9',\n",
       " 'https://www.amazon.in./JUAREZ-JRZ38C-Acoustic-Sunburst-Strings/dp/B01FYYTDS6/ref=sr_1_10?crid=1KNJ4EAFC5YCM&keywords=guitar&qid=1708102182&sprefix=guitar%2Caps%2C492&sr=8-10',\n",
       " 'https://www.amazon.in./Intern-INT-38C-Acoustic-Guitar-Purple/dp/B073B4CT2F/ref=sr_1_11?crid=1KNJ4EAFC5YCM&keywords=guitar&qid=1708102182&sprefix=guitar%2Caps%2C492&sr=8-11',\n",
       " 'https://www.amazon.in./YAMAHA-FS80C-CONCERT-CUTAWAY-GUITAR/dp/B08WBBVMVJ/ref=sr_1_12?crid=1KNJ4EAFC5YCM&keywords=guitar&qid=1708102182&sprefix=guitar%2Caps%2C492&sr=8-12',\n",
       " 'https://www.amazon.in./Yamaha-FS-100C-6-String-Acoustic-without/dp/B00PAS9CK6/ref=sr_1_13?crid=1KNJ4EAFC5YCM&keywords=guitar&qid=1708102182&sprefix=guitar%2Caps%2C492&sr=8-13',\n",
       " 'https://www.amazon.in./Intern-38-inch-Cutaway-Design-Acoustic/dp/B07X4PN85R/ref=sr_1_14?crid=1KNJ4EAFC5YCM&keywords=guitar&qid=1708102182&sprefix=guitar%2Caps%2C492&sr=8-14',\n",
       " 'https://www.amazon.in./Portible-4-String-Acoustic-Learning-Mahogany/dp/B094ZV7T1S/ref=sr_1_15?crid=1KNJ4EAFC5YCM&keywords=guitar&qid=1708102182&sprefix=guitar%2Caps%2C492&sr=8-15',\n",
       " 'https://www.amazon.in./Henrix-Acoustic-Guitar-Die-cast-Dual-action/dp/B07VNDW6QF/ref=sr_1_16?crid=1KNJ4EAFC5YCM&keywords=guitar&qid=1708102182&sprefix=guitar%2Caps%2C492&sr=8-16',\n",
       " 'https://www.amazon.in./Intern-INT-38C-Acoustic-Guitar-Blue/dp/B073B5RZBV/ref=sr_1_17?crid=1KNJ4EAFC5YCM&keywords=guitar&qid=1708102182&sprefix=guitar%2Caps%2C492&sr=8-17',\n",
       " 'https://www.amazon.in./JUAREZ-JRZ38C-Acoustic-Sunburst-Strings/dp/B01FYYTDTU/ref=sr_1_18?crid=1KNJ4EAFC5YCM&keywords=guitar&qid=1708102182&sprefix=guitar%2Caps%2C492&sr=8-18',\n",
       " 'https://www.amazon.in./Intern-INT-38C-Acoustic-Guitar-Kit/dp/B073B6TF31/ref=sr_1_19?crid=1KNJ4EAFC5YCM&keywords=guitar&qid=1708102182&sprefix=guitar%2Caps%2C492&sr=8-19',\n",
       " 'https://www.amazon.in./Kadence-Frontier-Acoustic-Guitar-Strings/dp/B01GDZ46AA/ref=sr_1_20?crid=1KNJ4EAFC5YCM&keywords=guitar&qid=1708102182&sprefix=guitar%2Caps%2C492&sr=8-20',\n",
       " 'https://www.amazon.in./sspa/click?ie=UTF8&spc=MTozMzcyNzEzMjQyMDQxMDQ2OjE3MDgxMDIxODI6c3BfbXRmOjMwMDExODczMTI4ODMzMjo6MDo6&url=%2FMOCKING-BIRD-Beginners-Instruments-Accessories%2Fdp%2FB0CNGJP58D%2Fref%3Dsr_1_21%3Fcrid%3D1KNJ4EAFC5YCM%26keywords%3Dguitar%26qid%3D1708102182%26sprefix%3Dguitar%252Caps%252C492%26sr%3D8-21-spons%26sp_csd%3Dd2lkZ2V0TmFtZT1zcF9tdGY%26psc%3D1',\n",
       " 'https://www.amazon.in./sspa/click?ie=UTF8&spc=MTozMzcyNzEzMjQyMDQxMDQ2OjE3MDgxMDIxODI6c3BfbXRmOjMwMDEwNTMwMzczMTEzMjo6MDo6&url=%2FPerlman-Fretboard-Fingerboard-Stickers-Beginner%2Fdp%2FB096ZDSWJ4%2Fref%3Dsr_1_22%3Fcrid%3D1KNJ4EAFC5YCM%26keywords%3Dguitar%26qid%3D1708102182%26sprefix%3Dguitar%252Caps%252C492%26sr%3D8-22-spons%26sp_csd%3Dd2lkZ2V0TmFtZT1zcF9tdGY%26psc%3D1',\n",
       " 'https://www.amazon.in./sspa/click?ie=UTF8&spc=MTozMzcyNzEzMjQyMDQxMDQ2OjE3MDgxMDIxODI6c3BfbXRmOjIwMDkyNjI0MDIxNTk4OjowOjo&url=%2FDreadnought-Acoustic-Gig-Bag-Strings-Polishing%2Fdp%2FB0BJJRJVHY%2Fref%3Dsr_1_23%3Fcrid%3D1KNJ4EAFC5YCM%26keywords%3Dguitar%26qid%3D1708102182%26sprefix%3Dguitar%252Caps%252C492%26sr%3D8-23-spons%26sp_csd%3Dd2lkZ2V0TmFtZT1zcF9tdGY%26psc%3D1',\n",
       " 'https://www.amazon.in./sspa/click?ie=UTF8&spc=MTozMzcyNzEzMjQyMDQxMDQ2OjE3MDgxMDIxODI6c3BfbXRmOjMwMDExODEzMTQ4MTYzMjo6MDo6&url=%2FAcoustic-Guitar-Cutaway-Strings-Strap%2Fdp%2FB08NTC4KG4%2Fref%3Dsr_1_24%3Fcrid%3D1KNJ4EAFC5YCM%26keywords%3Dguitar%26qid%3D1708102182%26sprefix%3Dguitar%252Caps%252C492%26sr%3D8-24-spons%26sp_csd%3Dd2lkZ2V0TmFtZT1zcF9tdGY%26psc%3D1',\n",
       " 'https://www.amazon.in./Juarez-JRZ-ST01-6-String-Electric-Without/dp/B01FYZSOGM/ref=sr_1_25?crid=1KNJ4EAFC5YCM&keywords=guitar&qid=1708102182&sprefix=guitar%2Caps%2C492&sr=8-25',\n",
       " 'https://www.amazon.in./Intern-INT-38C-Brown-Acoustic-Guitar/dp/B07X2HV158/ref=sr_1_26?crid=1KNJ4EAFC5YCM&keywords=guitar&qid=1708102182&sprefix=guitar%2Caps%2C492&sr=8-26',\n",
       " 'https://www.amazon.in./JUAREZ-JRZ38C-Acoustic-Natural-Strings/dp/B01FYYTDWC/ref=sr_1_27?crid=1KNJ4EAFC5YCM&keywords=guitar&qid=1708102182&sprefix=guitar%2Caps%2C492&sr=8-27',\n",
       " 'https://www.amazon.in./Intern-INT-38C-NT-G-Guitar-Kit-Natural/dp/B07K9MZZH9/ref=sr_1_28?crid=1KNJ4EAFC5YCM&keywords=guitar&qid=1708102182&sprefix=guitar%2Caps%2C492&sr=8-28',\n",
       " 'https://www.amazon.in./Medellin-Acoustic-Guitar-learning-course/dp/B0CGRX6ZMF/ref=sr_1_29?crid=1KNJ4EAFC5YCM&keywords=guitar&qid=1708102182&sprefix=guitar%2Caps%2C492&sr=8-29',\n",
       " 'https://www.amazon.in./Kadence-Frontier-Acoustic-Guitar-Strings/dp/B078GTJP5Y/ref=sr_1_30?crid=1KNJ4EAFC5YCM&keywords=guitar&qid=1708102182&sprefix=guitar%2Caps%2C492&sr=8-30',\n",
       " 'https://www.amazon.in./Acoustic-Plectrums-Beginner-Learners-configuration/dp/B0B4SSB8BJ/ref=sr_1_31?crid=1KNJ4EAFC5YCM&keywords=guitar&qid=1708102182&sprefix=guitar%2Caps%2C492&sr=8-31',\n",
       " 'https://www.amazon.in./JUAREZ-JRZ38C-TBLSNA/dp/B0BCQKQ6CS/ref=sr_1_32?crid=1KNJ4EAFC5YCM&keywords=guitar&qid=1708102182&sprefix=guitar%2Caps%2C492&sr=8-32',\n",
       " 'https://www.amazon.in./JUAREZ-JRZ38C-BKNA/dp/B0BCQNVPRB/ref=sr_1_33?crid=1KNJ4EAFC5YCM&keywords=guitar&qid=1708102182&sprefix=guitar%2Caps%2C492&sr=8-33',\n",
       " 'https://www.amazon.in./JUAREZ-JRZ38C-PP/dp/B0BCQNLXVM/ref=sr_1_34?crid=1KNJ4EAFC5YCM&keywords=guitar&qid=1708102182&sprefix=guitar%2Caps%2C492&sr=8-34',\n",
       " 'https://www.amazon.in./Intern-INT-38C-VT-G-Guitar-Kit-Violet/dp/B07K8YJXKL/ref=sr_1_35?crid=1KNJ4EAFC5YCM&keywords=guitar&qid=1708102182&sprefix=guitar%2Caps%2C492&sr=8-35',\n",
       " 'https://www.amazon.in./JUAREZ-JRZ38C-3TSNA/dp/B0BCQQRDF3/ref=sr_1_36?crid=1KNJ4EAFC5YCM&keywords=guitar&qid=1708102182&sprefix=guitar%2Caps%2C492&sr=8-36',\n",
       " 'https://www.amazon.in./FS80C-Acoustic-Cutaway-Concert-Plectrums/dp/B08XVV1WH7/ref=sr_1_37?crid=1KNJ4EAFC5YCM&keywords=guitar&qid=1708102182&sprefix=guitar%2Caps%2C492&sr=8-37',\n",
       " 'https://www.amazon.in./Blueberry-38C-Acoustic-Guitar-Strings/dp/B08KLMV4XX/ref=sr_1_38?crid=1KNJ4EAFC5YCM&keywords=guitar&qid=1708102182&sprefix=guitar%2Caps%2C492&sr=8-38',\n",
       " 'https://www.amazon.in./WOPPCART-Acoustic-Instrument-Educational-Beginners/dp/B0CCPCD3LC/ref=sr_1_39?crid=1KNJ4EAFC5YCM&keywords=guitar&qid=1708102182&sprefix=guitar%2Caps%2C492&sr=8-39',\n",
       " 'https://www.amazon.in./Perlman-Fretboard-Fingerboard-Stickers-Beginner/dp/B096ZDSWJ4/ref=sr_1_40?crid=1KNJ4EAFC5YCM&keywords=guitar&qid=1708102182&sprefix=guitar%2Caps%2C492&sr=8-40',\n",
       " 'https://www.amazon.in./Intern-INT-38C-Acoustic-Guitar-Natural/dp/B073B4D22T/ref=sr_1_41?crid=1KNJ4EAFC5YCM&keywords=guitar&qid=1708102182&sprefix=guitar%2Caps%2C492&sr=8-41',\n",
       " 'https://www.amazon.in./Ju%C3%A2rez-JRZ38C-WH-Strings-Acoustic/dp/B072MFK4L6/ref=sr_1_42?crid=1KNJ4EAFC5YCM&keywords=guitar&qid=1708102182&sprefix=guitar%2Caps%2C492&sr=8-42',\n",
       " 'https://www.amazon.in./Kadence-Astro-Electric-Guitar-FRETS/dp/B0CNRS4KXB/ref=sr_1_43?crid=1KNJ4EAFC5YCM&keywords=guitar&qid=1708102182&sprefix=guitar%2Caps%2C492&sr=8-43',\n",
       " 'https://www.amazon.in./Medellin-Acoustic-Guitar-learning-Strings/dp/B0CCNSN9BV/ref=sr_1_44?crid=1KNJ4EAFC5YCM&keywords=guitar&qid=1708102182&sprefix=guitar%2Caps%2C492&sr=8-44',\n",
       " 'https://www.amazon.in./Pluse-Classical-Portable-Excellent-Instrument/dp/B0C8B1XZ94/ref=sr_1_45?crid=1KNJ4EAFC5YCM&keywords=guitar&qid=1708102182&sprefix=guitar%2Caps%2C492&sr=8-45',\n",
       " 'https://www.amazon.in./JUAREZ-JRZ38C-Handed-Acoustic-Strings/dp/B01FYYTDW2/ref=sr_1_46?crid=1KNJ4EAFC5YCM&keywords=guitar&qid=1708102182&sprefix=guitar%2Caps%2C492&sr=8-46',\n",
       " 'https://www.amazon.in./Kadence-Slowhand-Premium-Acoustic-Instrument/dp/B077SZ667X/ref=sr_1_47?crid=1KNJ4EAFC5YCM&keywords=guitar&qid=1708102182&sprefix=guitar%2Caps%2C492&sr=8-47',\n",
       " 'https://www.amazon.in./Strings-Straps-String-winder-Polishing/dp/B07RV9FJ2Z/ref=sr_1_48?crid=1KNJ4EAFC5YCM&keywords=guitar&qid=1708102182&sprefix=guitar%2Caps%2C492&sr=8-48',\n",
       " 'https://www.amazon.in./Intern-INT-38C-BK-G-Guitar-Kit-Black/dp/B07K9497RC/ref=sr_1_49?crid=1KNJ4EAFC5YCM&keywords=guitar&qid=1708102182&sprefix=guitar%2Caps%2C492&sr=8-49',\n",
       " 'https://www.amazon.in./Yamaha-Classical-Guitar-C40-02/dp/B003UGCUFE/ref=sr_1_50?crid=1KNJ4EAFC5YCM&keywords=guitar&qid=1708102182&sprefix=guitar%2Caps%2C492&sr=8-50',\n",
       " 'https://www.amazon.in./Intern-INT-38C-Natural-Acoustic-Guitar/dp/B07X4LPJ6H/ref=sr_1_51?crid=1KNJ4EAFC5YCM&keywords=guitar&qid=1708102182&sprefix=guitar%2Caps%2C492&sr=8-51',\n",
       " 'https://www.amazon.in./Fender-FA-125-Dreadnought-Acoustic-Guitar/dp/B07J4X9B7R/ref=sr_1_52?crid=1KNJ4EAFC5YCM&keywords=guitar&qid=1708102182&sprefix=guitar%2Caps%2C492&sr=8-52',\n",
       " 'https://www.amazon.in./Intern-INT-38C-Sunburst-Acoustic-Guitar/dp/B07X1J4D3Z/ref=sr_1_53?crid=1KNJ4EAFC5YCM&keywords=guitar&qid=1708102182&sprefix=guitar%2Caps%2C492&sr=8-53',\n",
       " 'https://www.amazon.in./JUAREZ-Arpeggio-Guitar-JRA41SP-RD-K-red/dp/B08MW8CWG8/ref=sr_1_54?crid=1KNJ4EAFC5YCM&keywords=guitar&qid=1708102182&sprefix=guitar%2Caps%2C492&sr=8-54',\n",
       " 'https://www.amazon.in./Yamaha-Acoustic-Tobacco-Sunburst-Bajaao/dp/B09PBDGD82/ref=sr_1_55?crid=1KNJ4EAFC5YCM&keywords=guitar&qid=1708102182&sprefix=guitar%2Caps%2C492&sr=8-55',\n",
       " 'https://www.amazon.in./Kadence-Professional-Acoustic-Rosewood-Natural/dp/B0CC927DLN/ref=sr_1_56?crid=1KNJ4EAFC5YCM&keywords=guitar&qid=1708102182&sprefix=guitar%2Caps%2C492&sr=8-56',\n",
       " 'https://www.amazon.in./sspa/click?ie=UTF8&spc=MTozMzcyNzEzMjQyMDQxMDQ2OjE3MDgxMDIxODI6c3BfYnRmOjMwMDExMzg5MzQwMjEzMjo6MDo6&url=%2FDEVICE-URBAN-INFOTECH-Beginners-Guitarists%2Fdp%2FB0CR7DPXQN%2Fref%3Dsr_1_57%3Fcrid%3D1KNJ4EAFC5YCM%26keywords%3Dguitar%26qid%3D1708102182%26sprefix%3Dguitar%252Caps%252C492%26sr%3D8-57-spons%26sp_csd%3Dd2lkZ2V0TmFtZT1zcF9idGY%26psc%3D1',\n",
       " 'https://www.amazon.in./sspa/click?ie=UTF8&spc=MTozMzcyNzEzMjQyMDQxMDQ2OjE3MDgxMDIxODI6c3BfYnRmOjMwMDA5ODkzODIzODczMjo6MDo6&url=%2FLindenwood-Acoustic-Cutaway-beginers-students%2Fdp%2FB0CNTJ9CFR%2Fref%3Dsr_1_58%3Fcrid%3D1KNJ4EAFC5YCM%26keywords%3Dguitar%26qid%3D1708102182%26sprefix%3Dguitar%252Caps%252C492%26sr%3D8-58-spons%26sp_csd%3Dd2lkZ2V0TmFtZT1zcF9idGY%26psc%3D1',\n",
       " 'https://www.amazon.in./sspa/click?ie=UTF8&spc=MTozMzcyNzEzMjQyMDQxMDQ2OjE3MDgxMDIxODI6c3BfYnRmOjMwMDEyMjYyNDQ0ODgzMjo6MDo6&url=%2FLindenwood-Acoustic-Cutaway-beginers-students%2Fdp%2FB0CNYVMXTH%2Fref%3Dsr_1_59%3Fcrid%3D1KNJ4EAFC5YCM%26keywords%3Dguitar%26qid%3D1708102182%26sprefix%3Dguitar%252Caps%252C492%26sr%3D8-59-spons%26sp_csd%3Dd2lkZ2V0TmFtZT1zcF9idGY%26psc%3D1',\n",
       " 'https://www.amazon.in./sspa/click?ie=UTF8&spc=MTozMzcyNzEzMjQyMDQxMDQ2OjE3MDgxMDIxODI6c3BfYnRmOjMwMDA5NDUxMTA0MTkzMjo6MDo6&url=%2FKaspar-Lindenwood-Acoustic-Cutaway-accessories%2Fdp%2FB0CM3WX9TS%2Fref%3Dsr_1_60%3Fcrid%3D1KNJ4EAFC5YCM%26keywords%3Dguitar%26qid%3D1708102182%26sprefix%3Dguitar%252Caps%252C492%26sr%3D8-60-spons%26sp_csd%3Dd2lkZ2V0TmFtZT1zcF9idGY%26psc%3D1']"
      ]
     },
     "execution_count": 8,
     "metadata": {},
     "output_type": "execute_result"
    }
   ],
   "source": [
    "guitar_url"
   ]
  },
  {
   "cell_type": "code",
   "execution_count": null,
   "id": "73901733",
   "metadata": {},
   "outputs": [],
   "source": [
    "\n",
    "details=[]\n",
    "price=[]\n",
    "policy=[]\n",
    "delivery=[]\n",
    "avaibility=[]"
   ]
  },
  {
   "cell_type": "code",
   "execution_count": null,
   "id": "5fe9a831",
   "metadata": {},
   "outputs": [],
   "source": [
    "brand=[]\n",
    "\n",
    "for i in guitar_url:\n",
    "    driver.get(i)\n",
    "    time.sleep(5)\n",
    "    \n",
    "    try: \n",
    "        brand_name = driver.find_element(By.ID,'productTitle')\n",
    "        brand.append(brand_name.text) \n",
    "    except NosSuchElementException :\n",
    "         brand.append('Not Present') \n",
    "            \n",
    "            "
   ]
  },
  {
   "cell_type": "code",
   "execution_count": null,
   "id": "7a016370",
   "metadata": {},
   "outputs": [],
   "source": [
    "len(brand)"
   ]
  },
  {
   "cell_type": "code",
   "execution_count": null,
   "id": "0043950e",
   "metadata": {},
   "outputs": [],
   "source": [
    "# Program 2 #\n",
    "\n",
    "import selenium\n",
    "import pandas as pd\n",
    "from selenium import webdriver\n",
    "import warnings\n",
    "warnings.filterwarnings('ignore')\n",
    "from selenium.webdriver.common.by import By\n",
    "import time"
   ]
  },
  {
   "cell_type": "code",
   "execution_count": 14,
   "id": "0c577129",
   "metadata": {},
   "outputs": [],
   "source": [
    "driver = webdriver.Chrome()"
   ]
  },
  {
   "cell_type": "code",
   "execution_count": 15,
   "id": "42af82a4",
   "metadata": {},
   "outputs": [],
   "source": [
    "driver.get(\"https://images.google.com/\")"
   ]
  },
  {
   "cell_type": "code",
   "execution_count": 16,
   "id": "7800be18",
   "metadata": {},
   "outputs": [],
   "source": [
    "search = driver.find_element(By.XPATH,'/html/body/div[1]/div[3]/form/div[1]/div[1]/div[1]/div/div[2]/textarea')\n",
    "search.send_keys('fruits')"
   ]
  },
  {
   "cell_type": "code",
   "execution_count": 18,
   "id": "77c9c548",
   "metadata": {},
   "outputs": [],
   "source": [
    "images =[]\n",
    "picture = driver.find_elements(By.XPATH,'//img[@class=\"rg_i Q4LuWd\"]')\n",
    "for i in picture:\n",
    "    images.append(i.get_attribute('src'))"
   ]
  },
  {
   "cell_type": "code",
   "execution_count": 19,
   "id": "4f08c93f",
   "metadata": {},
   "outputs": [
    {
     "data": {
      "text/plain": [
       "48"
      ]
     },
     "execution_count": 19,
     "metadata": {},
     "output_type": "execute_result"
    }
   ],
   "source": [
    "len(images)"
   ]
  },
  {
   "cell_type": "code",
   "execution_count": 23,
   "id": "6f947073",
   "metadata": {},
   "outputs": [
    {
     "data": {
      "text/plain": [
       "'data:image/jpeg;base64,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'"
      ]
     },
     "execution_count": 23,
     "metadata": {},
     "output_type": "execute_result"
    }
   ],
   "source": [
    "images[10]"
   ]
  },
  {
   "cell_type": "code",
   "execution_count": 28,
   "id": "be1456b3",
   "metadata": {},
   "outputs": [],
   "source": [
    "driver = webdriver.Chrome()"
   ]
  },
  {
   "cell_type": "code",
   "execution_count": 29,
   "id": "5f5706c5",
   "metadata": {},
   "outputs": [],
   "source": [
    "driver.get(\"https://images.google.com/\")"
   ]
  },
  {
   "cell_type": "code",
   "execution_count": 30,
   "id": "d44f059f",
   "metadata": {},
   "outputs": [],
   "source": [
    "search = driver.find_element(By.XPATH,'/html/body/div[1]/div[3]/form/div[1]/div[1]/div[1]/div/div[2]/textarea')\n",
    "search.send_keys('cars')"
   ]
  },
  {
   "cell_type": "code",
   "execution_count": 38,
   "id": "53cd7144",
   "metadata": {},
   "outputs": [],
   "source": [
    "car_images =[]\n",
    "picture = driver.find_elements(By.XPATH,'//img[@class=\"rg_i Q4LuWd\"]')\n",
    "for i in picture:\n",
    "    car_images.append(i.get_attribute('src'))"
   ]
  },
  {
   "cell_type": "code",
   "execution_count": 39,
   "id": "cfb8f1c2",
   "metadata": {},
   "outputs": [
    {
     "data": {
      "text/plain": [
       "48"
      ]
     },
     "execution_count": 39,
     "metadata": {},
     "output_type": "execute_result"
    }
   ],
   "source": [
    "len(car_images)"
   ]
  },
  {
   "cell_type": "raw",
   "id": "f68d5696",
   "metadata": {},
   "source": [
    "car_images[10]"
   ]
  },
  {
   "cell_type": "code",
   "execution_count": 1,
   "id": "92cdae3c",
   "metadata": {},
   "outputs": [],
   "source": [
    "# Program 3 #\n",
    "\n",
    "import selenium\n",
    "import pandas as pd\n",
    "from selenium import webdriver\n",
    "import warnings\n",
    "warnings.filterwarnings('ignore')\n",
    "from selenium.webdriver.common.by import By\n",
    "import time"
   ]
  },
  {
   "cell_type": "code",
   "execution_count": 2,
   "id": "b6f3bd62",
   "metadata": {},
   "outputs": [],
   "source": [
    "driver = webdriver.Chrome()"
   ]
  },
  {
   "cell_type": "code",
   "execution_count": 3,
   "id": "8e0486b1",
   "metadata": {},
   "outputs": [],
   "source": [
    "driver.get(\"https://www.flipkart.com/\")"
   ]
  },
  {
   "cell_type": "code",
   "execution_count": 4,
   "id": "62a09379",
   "metadata": {},
   "outputs": [],
   "source": [
    "item = driver.find_element(By.CLASS_NAME,\"Pke_EE\")\n",
    "item.send_keys('Oneplus Nord, pixel 4A, etc.')"
   ]
  },
  {
   "cell_type": "code",
   "execution_count": 5,
   "id": "81a3962e",
   "metadata": {},
   "outputs": [],
   "source": [
    "oneplus_url=[]\n",
    "start= 0\n",
    "end= 1\n",
    "for page in range(start,end):\n",
    "    url = driver.find_elements(By.XPATH,'//div[@class=\"_2kHMtA\"]/a')\n",
    "    for i in url:\n",
    "        oneplus_url.append(i.get_attribute('href'))"
   ]
  },
  {
   "cell_type": "code",
   "execution_count": 7,
   "id": "2e118951",
   "metadata": {},
   "outputs": [
    {
     "data": {
      "text/plain": [
       "['https://www.flipkart.com/oneplus-nord-ce-2-5g-bahama-blue-128-gb/p/itm2a9883679c57c?pid=MOBGJMUH64MTF6PK&lid=LSTMOBGJMUH64MTF6PKNK4ESK&marketplace=FLIPKART&q=Oneplus+Nord%2C+pixel+4A%2C+etc.&store=tyy%2F4io&srno=s_1_1&otracker=search&otracker1=search&fm=organic&iid=8d26eaff-eebf-400c-a7cd-6bdb92db9667.MOBGJMUH64MTF6PK.SEARCH&ppt=hp&ppn=homepage&ssid=52lpczy5w00000001708585729621&qH=e20d06d1dd7f0d20',\n",
       " 'https://www.flipkart.com/oneplus-nord-ce-2-5g-gray-mirror-128-gb/p/itm2a9883679c57c?pid=MOBGDHWMFQBKFV5F&lid=LSTMOBGDHWMFQBKFV5FEPMV1S&marketplace=FLIPKART&q=Oneplus+Nord%2C+pixel+4A%2C+etc.&store=tyy%2F4io&srno=s_1_2&otracker=search&otracker1=search&fm=organic&iid=8d26eaff-eebf-400c-a7cd-6bdb92db9667.MOBGDHWMFQBKFV5F.SEARCH&ppt=hp&ppn=homepage&ssid=52lpczy5w00000001708585729621&qH=e20d06d1dd7f0d20',\n",
       " 'https://www.flipkart.com/oneplus-nord-gray-onyx-64-gb/p/itm49f817b591982?pid=MOBFUE5H57THFNVJ&lid=LSTMOBFUE5H57THFNVJ8QEWXD&marketplace=FLIPKART&q=Oneplus+Nord%2C+pixel+4A%2C+etc.&store=tyy%2F4io&srno=s_1_3&otracker=search&otracker1=search&fm=organic&iid=8d26eaff-eebf-400c-a7cd-6bdb92db9667.MOBFUE5H57THFNVJ.SEARCH&ppt=hp&ppn=homepage&ssid=52lpczy5w00000001708585729621&qH=e20d06d1dd7f0d20',\n",
       " 'https://www.flipkart.com/oneplus-nord-blue-marble-128-gb/p/itm3f93c90430130?pid=MOBFUE5JWYDZX6HX&lid=LSTMOBFUE5JWYDZX6HXVKC6BE&marketplace=FLIPKART&q=Oneplus+Nord%2C+pixel+4A%2C+etc.&store=tyy%2F4io&srno=s_1_4&otracker=search&otracker1=search&fm=organic&iid=8d26eaff-eebf-400c-a7cd-6bdb92db9667.MOBFUE5JWYDZX6HX.SEARCH&ppt=hp&ppn=homepage&ssid=52lpczy5w00000001708585729621&qH=e20d06d1dd7f0d20',\n",
       " 'https://www.flipkart.com/oneplus-nord-blue-marble-64-gb/p/itm49f817b591982?pid=MOBFUE5N7KAGZHHC&lid=LSTMOBFUE5N7KAGZHHCUOBN3W&marketplace=FLIPKART&q=Oneplus+Nord%2C+pixel+4A%2C+etc.&store=tyy%2F4io&srno=s_1_5&otracker=search&otracker1=search&fm=organic&iid=8d26eaff-eebf-400c-a7cd-6bdb92db9667.MOBFUE5N7KAGZHHC.SEARCH&ppt=hp&ppn=homepage&ssid=52lpczy5w00000001708585729621&qH=e20d06d1dd7f0d20',\n",
       " 'https://www.flipkart.com/oneplus-nord-gray-onyx-256-gb/p/itm49f817b591982?pid=MOBFUE5GGWHFC37J&lid=LSTMOBFUE5GGWHFC37JNXZLYZ&marketplace=FLIPKART&q=Oneplus+Nord%2C+pixel+4A%2C+etc.&store=tyy%2F4io&srno=s_1_6&otracker=search&otracker1=search&fm=organic&iid=8d26eaff-eebf-400c-a7cd-6bdb92db9667.MOBFUE5GGWHFC37J.SEARCH&ppt=hp&ppn=homepage&ssid=52lpczy5w00000001708585729621&qH=e20d06d1dd7f0d20',\n",
       " 'https://www.flipkart.com/oneplus-nord-blue-marble-256-gb/p/itm3f93c90430130?pid=MOBFUE5HUU5ZYGRY&lid=LSTMOBFUE5HUU5ZYGRY4ZWZZN&marketplace=FLIPKART&q=Oneplus+Nord%2C+pixel+4A%2C+etc.&store=tyy%2F4io&srno=s_1_7&otracker=search&otracker1=search&fm=organic&iid=8d26eaff-eebf-400c-a7cd-6bdb92db9667.MOBFUE5HUU5ZYGRY.SEARCH&ppt=hp&ppn=homepage&ssid=52lpczy5w00000001708585729621&qH=e20d06d1dd7f0d20',\n",
       " 'https://www.flipkart.com/oneplus-nord-gray-onyx-128-gb/p/itm3f93c90430130?pid=MOBFUE5HW4XUUGBN&lid=LSTMOBFUE5HW4XUUGBNRL8OX6&marketplace=FLIPKART&q=Oneplus+Nord%2C+pixel+4A%2C+etc.&store=tyy%2F4io&srno=s_1_8&otracker=search&otracker1=search&fm=organic&iid=8d26eaff-eebf-400c-a7cd-6bdb92db9667.MOBFUE5HW4XUUGBN.SEARCH&ppt=hp&ppn=homepage&ssid=52lpczy5w00000001708585729621&qH=e20d06d1dd7f0d20',\n",
       " 'https://www.flipkart.com/oneplus-nord-ce-2-5g-gray-mirror-128-gb/p/itme3c94dc3fc910?pid=MOBGJMUHX7ACJ44Z&lid=LSTMOBGJMUHX7ACJ44ZUMG0PU&marketplace=FLIPKART&q=Oneplus+Nord%2C+pixel+4A%2C+etc.&store=tyy%2F4io&srno=s_1_9&otracker=search&otracker1=search&fm=organic&iid=8d26eaff-eebf-400c-a7cd-6bdb92db9667.MOBGJMUHX7ACJ44Z.SEARCH&ppt=hp&ppn=homepage&ssid=52lpczy5w00000001708585729621&qH=e20d06d1dd7f0d20']"
      ]
     },
     "execution_count": 7,
     "metadata": {},
     "output_type": "execute_result"
    }
   ],
   "source": [
    "oneplus_url"
   ]
  },
  {
   "cell_type": "code",
   "execution_count": 8,
   "id": "899b44af",
   "metadata": {},
   "outputs": [],
   "source": [
    "oneplus_brand=[]\n",
    "\n",
    "for i in oneplus_url:\n",
    "    driver.get(i)\n",
    "    time.sleep(10)\n",
    "    try:\n",
    "        brand = driver.find_element(By.XPATH,'/html/body/div[1]/div/div[3]/div[1]/div[2]/div[2]/div/div[1]/h1/span')\n",
    "        oneplus_brand.append(brand.text)\n",
    "    except NoSuchElementException:\n",
    "        oneplus_brand.append('-')                                  "
   ]
  },
  {
   "cell_type": "code",
   "execution_count": 9,
   "id": "56256f0f",
   "metadata": {},
   "outputs": [
    {
     "data": {
      "text/plain": [
       "['OnePlus Nord CE 2 5G (Bahama Blue, 128 GB)  (8 GB RAM)',\n",
       " 'OnePlus Nord CE 2 5G (Gray Mirror, 128 GB)  (8 GB RAM)',\n",
       " 'OnePlus Nord (Gray Onyx, 64 GB)  (6 GB RAM)',\n",
       " 'OnePlus Nord (Blue Marble, 128 GB)  (8 GB RAM)',\n",
       " 'OnePlus Nord (Blue Marble, 64 GB)  (6 GB RAM)',\n",
       " 'OnePlus Nord (Gray Onyx, 256 GB)  (12 GB RAM)',\n",
       " 'OnePlus Nord (Blue Marble, 256 GB)  (12 GB RAM)',\n",
       " 'OnePlus Nord (Gray Onyx, 128 GB)  (8 GB RAM)',\n",
       " 'OnePlus Nord CE 2 5G (Gray Mirror, 128 GB)  (6 GB RAM)']"
      ]
     },
     "execution_count": 9,
     "metadata": {},
     "output_type": "execute_result"
    }
   ],
   "source": [
    "oneplus_brand"
   ]
  },
  {
   "cell_type": "code",
   "execution_count": 12,
   "id": "4d672e0d",
   "metadata": {},
   "outputs": [],
   "source": [
    "oneplus_name=[]\n",
    "\n",
    "for i in oneplus_url:\n",
    "    driver.get(i)\n",
    "    time.sleep(5)\n",
    "    try:\n",
    "        name = driver.find_element(By.CLASS_NAME,\"_21lJbe\")\n",
    "        oneplus_name.append(name.text)\n",
    "    except NoSuchElememtException:\n",
    "        oneplus_name.append('-')    \n"
   ]
  },
  {
   "cell_type": "code",
   "execution_count": 13,
   "id": "8b168ffa",
   "metadata": {},
   "outputs": [
    {
     "data": {
      "text/plain": [
       "['Handset , 65W SUPERVOOC power adapter::Cable (supports USB 2.0)::Phone case::Screen protector::SIM tray ejector::Brand sticker::Quick start guide Safety information and warranty card',\n",
       " 'Handset, 65W SUPERVOOC power adapter, Cable (supports USB 2.0), Phone case, Screen protector (pre-applied), SIM tray ejector, Welcome letter, Brand sticker, Red Cable Club membership card, Quick start guide, Safety information and warranty card',\n",
       " 'Screen protector (pre-applied), Warp Charge 30 power adapter , Warp Type-C cable (Support USB 2.0), Quick start guide, Welcome letter, Safety information and warranty card, Brand sticker, Phone case, SIM tray ejector, Highest SAR value & Plastic recycling card, Red Cable Club Membership card',\n",
       " 'Screen protector (pre-applied), Warp Charge 30 power adapter , Warp Type-C cable (Support USB 2.0), Quick start guide, Welcome letter, Safety information and warranty card, Brand sticker, Phone case, SIM tray ejector, Highest SAR value & Plastic recycling card, Red Cable Club Membership card',\n",
       " 'Screen protector (pre-applied), Warp Charge 30 power adapter , Warp Type-C cable (Support USB 2.0), Quick start guide, Welcome letter, Safety information and warranty card, Brand sticker, Phone case, SIM tray ejector, Highest SAR value & Plastic recycling card, Red Cable Club Membership card',\n",
       " 'Screen protector (pre-applied), Warp Charge 30 power adapter , Warp Type-C cable (Support USB 2.0), Quick start guide, Welcome letter, Safety information and warranty card, Brand sticker, Phone case, SIM tray ejector, Highest SAR value & Plastic recycling card, Red Cable Club Membership card',\n",
       " 'Screen protector (pre-applied), Warp Charge 30 power adapter , Warp Type-C cable (Support USB 2.0), Quick start guide, Welcome letter, Safety information and warranty card, Brand sticker, Phone case, SIM tray ejector, Highest SAR value & Plastic recycling card, Red Cable Club Membership card',\n",
       " 'Screen protector (pre-applied), Warp Charge 30 power adapter , Warp Type-C cable (Support USB 2.0), Quick start guide, Welcome letter, Safety information and warranty card, Brand sticker, Phone case, SIM tray ejector, Highest SAR value & Plastic recycling card, Red Cable Club Membership card',\n",
       " 'Handset , 65W SUPERVOOC power adapter::Cable (supports USB 2.0)::Phone case::Screen protector::SIM tray ejector::Brand sticker::Quick start guide Safety information and warranty card']"
      ]
     },
     "execution_count": 13,
     "metadata": {},
     "output_type": "execute_result"
    }
   ],
   "source": [
    "oneplus_name"
   ]
  },
  {
   "cell_type": "code",
   "execution_count": 14,
   "id": "863521cc",
   "metadata": {},
   "outputs": [],
   "source": [
    "oneplus_price=[]\n",
    "\n",
    "for i in oneplus_url:\n",
    "    driver.get(i)\n",
    "    time.sleep(5)\n",
    "    try:\n",
    "        price = driver.find_element(By.CLASS_NAME,\"_25b18c\")\n",
    "        oneplus_price.append(price.text)\n",
    "    except NoSuchElememtException:\n",
    "        oneplus_price.append('-')    \n"
   ]
  },
  {
   "cell_type": "code",
   "execution_count": 15,
   "id": "8a37858d",
   "metadata": {},
   "outputs": [
    {
     "data": {
      "text/plain": [
       "['₹21,994₹24,99912% off',\n",
       " '₹24,999',\n",
       " '₹22,689₹24,9999% off',\n",
       " '₹24,790₹27,99911% off',\n",
       " '₹22,980₹24,9998% off',\n",
       " '₹22,999₹29,99923% off',\n",
       " '₹21,999₹29,99926% off',\n",
       " '₹24,600₹27,99912% off',\n",
       " '₹19,999']"
      ]
     },
     "execution_count": 15,
     "metadata": {},
     "output_type": "execute_result"
    }
   ],
   "source": [
    "oneplus_price"
   ]
  },
  {
   "cell_type": "code",
   "execution_count": null,
   "id": "87bc4334",
   "metadata": {},
   "outputs": [],
   "source": [
    "oneplus_color=[]\n",
    "\n",
    "for i in oneplus_url:\n",
    "    driver.get(i)\n",
    "    time.sleep(5)\n",
    "    try:\n",
    "        color = driver.find_element(By.CLASS_NAME,'/html/body/div[1]/div/div[3]/div[1]/div[2]/div[7]/div[1]/div/div[2]/ul/li[1]')\n",
    "        oneplus_color.append(color.text)\n",
    "    except NoSuchElememtException:\n",
    "        oneplus_color.append('-')    \n"
   ]
  },
  {
   "cell_type": "code",
   "execution_count": 42,
   "id": "a8cdb02d",
   "metadata": {},
   "outputs": [
    {
     "data": {
      "text/plain": [
       "['Phone, charger, Data cable, sim ejector, user guide',\n",
       " 'Phone, charger, Data cable, sim ejector, user guide',\n",
       " 'Phone, charger, Data cable, sim ejector, user guide',\n",
       " 'Phone, charger, Data cable, sim ejector, user guide',\n",
       " 'Phone, charger, Data cable, sim ejector, user guide',\n",
       " 'handset, power adopter, user manual',\n",
       " 'handset, power adopter, user manual',\n",
       " 'Phone,SIM Tray Ejector, Adapter, Phone Case, USB Cable',\n",
       " 'Phone, charger, Data cable, sim ejector, user guide',\n",
       " 'Phone,SIM Tray Ejector, Adapter, Phone Case, USB Cable',\n",
       " 'Phone, charger, Data cable, sim ejector, user guide',\n",
       " 'Phone, charger, Data cable, sim ejector, user guide',\n",
       " 'Handset , 65W SUPERVOOC power adapter::Cable (supports USB 2.0)::Phone case::Screen protector::SIM tray ejector::Brand sticker::Quick start guide Safety information and warranty card',\n",
       " 'Handset , 65W SUPERVOOC power adapter::Cable (supports USB 2.0)::Phone case::Screen protector::SIM tray ejector::Brand sticker::Quick start guide Safety information and warranty card',\n",
       " 'Phone, charger, Data cable, sim ejector, user guide',\n",
       " 'Handset , 65W SUPERVOOC power adapter, Cable (supports USB 2.0), Phone case, Screen protector, SIM tray ejector, Brand sticker, Quick start guide Safety information and warranty card',\n",
       " 'Handset , 65W SUPERVOOC power adapter::Cable (supports USB 2.0)::Phone case::Screen protector::SIM tray ejector::Brand sticker::Quick start guide Safety information and warranty card',\n",
       " 'Handset,Warp Charge 30T power adapter, Warp Type-C cable (Supports USB 2.0, Phone case,, Screen protector (pre-applied),, SIM tray ejector,, Welcome letter, Brand sticker, Quick start guide, Safety information and warranty card',\n",
       " 'Handset,Warp Charge 30T power adapter Warp Type-C cable (Supports USB 2.0 Phone case, Screen protector (pre-applied), SIM tray ejector, Welcome letter Brand sticker Quick start guide, Safety information and warranty card',\n",
       " 'Handset, 65W SUPERVOOC power adapter, Cable (supports USB 2.0), Phone case, Screen protector (pre-applied), SIM tray ejector, Welcome letter, Brand sticker, Red Cable Club membership card, Quick start guide, Safety information and warranty card',\n",
       " 'Handset , 65W SUPERVOOC power adapter, Cable (supports USB 2.0), Phone case, Screen protector, SIM tray ejector, Brand sticker, Quick start guide Safety information and warranty card',\n",
       " 'Handset , 65W SUPERVOOC power adapter, Cable (supports USB 2.0), Phone case, Screen protector, SIM tray ejector, Brand sticker, Quick start guide Safety information and warranty card',\n",
       " 'Handset,SIM Tray Ejector, Adapter, Phone Case, USB Cable',\n",
       " 'Handset , 65W SUPERVOOC power adapter::Cable (supports USB 2.0)::Phone case::Screen protector::SIM tray ejector::Brand sticker::Quick start guide Safety information and warranty card']"
      ]
     },
     "execution_count": 42,
     "metadata": {},
     "output_type": "execute_result"
    }
   ],
   "source": [
    "oneplus_color"
   ]
  },
  {
   "cell_type": "code",
   "execution_count": 21,
   "id": "22657819",
   "metadata": {},
   "outputs": [],
   "source": [
    "oneplus_display=[]\n",
    "\n",
    "for i in oneplus_url:\n",
    "    driver.get(i)\n",
    "    time.sleep(5)\n",
    "    try:\n",
    "        display = driver.find_element(By.CLASS_NAME,\"_21lJbe\")\n",
    "        oneplus_display.append(display.text)\n",
    "    except NoSuchElememtException:\n",
    "        oneplus_display.append('-')   "
   ]
  },
  {
   "cell_type": "code",
   "execution_count": 22,
   "id": "f9ea95ac",
   "metadata": {},
   "outputs": [
    {
     "data": {
      "text/plain": [
       "['Handset , 65W SUPERVOOC power adapter::Cable (supports USB 2.0)::Phone case::Screen protector::SIM tray ejector::Brand sticker::Quick start guide Safety information and warranty card',\n",
       " 'Handset, 65W SUPERVOOC power adapter, Cable (supports USB 2.0), Phone case, Screen protector (pre-applied), SIM tray ejector, Welcome letter, Brand sticker, Red Cable Club membership card, Quick start guide, Safety information and warranty card',\n",
       " 'Screen protector (pre-applied), Warp Charge 30 power adapter , Warp Type-C cable (Support USB 2.0), Quick start guide, Welcome letter, Safety information and warranty card, Brand sticker, Phone case, SIM tray ejector, Highest SAR value & Plastic recycling card, Red Cable Club Membership card',\n",
       " 'Screen protector (pre-applied), Warp Charge 30 power adapter , Warp Type-C cable (Support USB 2.0), Quick start guide, Welcome letter, Safety information and warranty card, Brand sticker, Phone case, SIM tray ejector, Highest SAR value & Plastic recycling card, Red Cable Club Membership card',\n",
       " 'Screen protector (pre-applied), Warp Charge 30 power adapter , Warp Type-C cable (Support USB 2.0), Quick start guide, Welcome letter, Safety information and warranty card, Brand sticker, Phone case, SIM tray ejector, Highest SAR value & Plastic recycling card, Red Cable Club Membership card',\n",
       " 'Screen protector (pre-applied), Warp Charge 30 power adapter , Warp Type-C cable (Support USB 2.0), Quick start guide, Welcome letter, Safety information and warranty card, Brand sticker, Phone case, SIM tray ejector, Highest SAR value & Plastic recycling card, Red Cable Club Membership card',\n",
       " 'Screen protector (pre-applied), Warp Charge 30 power adapter , Warp Type-C cable (Support USB 2.0), Quick start guide, Welcome letter, Safety information and warranty card, Brand sticker, Phone case, SIM tray ejector, Highest SAR value & Plastic recycling card, Red Cable Club Membership card',\n",
       " 'Screen protector (pre-applied), Warp Charge 30 power adapter , Warp Type-C cable (Support USB 2.0), Quick start guide, Welcome letter, Safety information and warranty card, Brand sticker, Phone case, SIM tray ejector, Highest SAR value & Plastic recycling card, Red Cable Club Membership card',\n",
       " 'Handset , 65W SUPERVOOC power adapter::Cable (supports USB 2.0)::Phone case::Screen protector::SIM tray ejector::Brand sticker::Quick start guide Safety information and warranty card']"
      ]
     },
     "execution_count": 22,
     "metadata": {},
     "output_type": "execute_result"
    }
   ],
   "source": [
    "oneplus_display"
   ]
  },
  {
   "cell_type": "code",
   "execution_count": 1,
   "id": "88aeab75",
   "metadata": {},
   "outputs": [],
   "source": [
    "# Program 5 #\n",
    "\n",
    "import selenium\n",
    "import pandas as pd\n",
    "from selenium import webdriver\n",
    "import warnings\n",
    "warnings.filterwarnings('ignore')\n",
    "from selenium.webdriver.common.by import By\n",
    "import time"
   ]
  },
  {
   "cell_type": "code",
   "execution_count": 2,
   "id": "ccd0a2cd",
   "metadata": {},
   "outputs": [],
   "source": [
    "driver = webdriver.Chrome()"
   ]
  },
  {
   "cell_type": "code",
   "execution_count": 3,
   "id": "ea5481b7",
   "metadata": {},
   "outputs": [],
   "source": [
    "driver.get(\"https://www.digit.in/\")"
   ]
  },
  {
   "cell_type": "code",
   "execution_count": 9,
   "id": "a49d6371",
   "metadata": {},
   "outputs": [],
   "source": [
    "item = driver.find_element(By.XPATH,\"/html/body/div[6]/div/form/input[1]\")\n",
    "item.send_keys('Laptop')"
   ]
  },
  {
   "cell_type": "code",
   "execution_count": 10,
   "id": "cdce49ce",
   "metadata": {},
   "outputs": [],
   "source": [
    "laptop_url=[]\n",
    "start= 0\n",
    "end= 1\n",
    "for page in range(start,end):\n",
    "    url = driver.find_elements(By.XPATH,'//h3[@class=\" text-clamp text-clamp-2\"]/a')\n",
    "    for i in url:\n",
    "        laptop_url.append(i.get_attribute('href'))"
   ]
  },
  {
   "cell_type": "code",
   "execution_count": 11,
   "id": "ae77b755",
   "metadata": {},
   "outputs": [
    {
     "data": {
      "text/plain": [
       "12"
      ]
     },
     "execution_count": 11,
     "metadata": {},
     "output_type": "execute_result"
    }
   ],
   "source": [
    "len(laptop_url)"
   ]
  },
  {
   "cell_type": "code",
   "execution_count": 12,
   "id": "2b53cdbd",
   "metadata": {},
   "outputs": [
    {
     "data": {
      "text/plain": [
       "['https://www.digit.in/laptops/hp-omen-gaming-laptop-16-xd0007ax.html',\n",
       " 'https://www.digit.in/laptops/hp-spectre-x360-2-in-1-laptop-14-eu0556tu.html',\n",
       " 'https://www.digit.in/laptops/dell-g15-5520-gaming-laptop.html',\n",
       " 'https://www.digit.in/laptops/acer-predator-helios-neo-16-gaming-laptop.html',\n",
       " 'https://www.digit.in/laptops/dell-inspiron-7430-2in1-touch-13th-gen-laptop.html',\n",
       " 'https://www.digit.in/laptops/hp-omen-gaming-laptop-xf0060ax.html',\n",
       " 'https://www.digit.in/laptops/infinix-inbook-y4-max-yl613-laptop.html',\n",
       " 'https://www.digit.in/laptops/avita-pura-e14-ns14a6ing541-ibb-14-inches-laptop-price-351186.html',\n",
       " 'https://www.digit.in/laptops/dell-alienware-m16-r1-gaming-laptop-price-350853.html',\n",
       " 'https://www.digit.in/laptops/dell-alienware-x14-r2-gaming-laptop-price-350232.html',\n",
       " 'https://www.digit.in/laptops/hp-victus-gaming-laptop-16-r0075tx-price-349620.html',\n",
       " 'https://www.digit.in/laptops/microsoft-surface-laptop-4-5pb-00023-ryzen-5-4680u-2021-price-345138.html']"
      ]
     },
     "execution_count": 12,
     "metadata": {},
     "output_type": "execute_result"
    }
   ],
   "source": [
    "laptop_url"
   ]
  },
  {
   "cell_type": "code",
   "execution_count": 17,
   "id": "02c5a88c",
   "metadata": {},
   "outputs": [],
   "source": [
    "laptop_title=[]\n",
    "\n",
    "for i in laptop_url:\n",
    "    driver.get(i)\n",
    "    time.sleep(10)\n",
    "    try:\n",
    "        title = driver.find_element(By.XPATH,'//h1[@class=\"floatleft tabletblockdisplay pr20 \"]')\n",
    "        laptop_title.append(title.text)\n",
    "    except NoSuchElementException:\n",
    "        laptop_title.append('-')   "
   ]
  },
  {
   "cell_type": "code",
   "execution_count": 18,
   "id": "2aaf6573",
   "metadata": {},
   "outputs": [
    {
     "data": {
      "text/plain": [
       "['HP OMEN Gaming Laptop 16 XD0007ax',\n",
       " 'HP Spectre X360 2-In-1 Laptop (14-Eu0556TU)',\n",
       " 'Dell G15 5520 Gaming Laptop',\n",
       " 'Acer Predator Helios Neo 16 Gaming Laptop',\n",
       " 'Dell Inspiron 7430 2in1 Touch 13th Gen Laptop',\n",
       " 'HP OMEN Gaming Laptop (Xf0060AX)',\n",
       " 'Infinix Inbook Y4 Max YL613 Laptop',\n",
       " 'AVITA PURA E14 NS14A6ING541-IBB 14 Inches Laptop',\n",
       " 'Dell Alienware M16 R1 Gaming Laptop',\n",
       " 'Dell Alienware X14 R2 Gaming Laptop',\n",
       " 'Hp Victus Gaming Laptop 16-R0075TX',\n",
       " 'Microsoft Surface Laptop 4 5PB-00023 Ryzen 5-4680U']"
      ]
     },
     "execution_count": 18,
     "metadata": {},
     "output_type": "execute_result"
    }
   ],
   "source": [
    "laptop_title"
   ]
  },
  {
   "cell_type": "code",
   "execution_count": 2,
   "id": "0c51411f",
   "metadata": {},
   "outputs": [],
   "source": [
    "# Program 6 #\n",
    "\n",
    "import selenium\n",
    "import pandas as pd\n",
    "from selenium import webdriver\n",
    "import warnings\n",
    "warnings.filterwarnings('ignore')\n",
    "from selenium.webdriver.common.by import By\n",
    "import time"
   ]
  },
  {
   "cell_type": "code",
   "execution_count": 3,
   "id": "911a7817",
   "metadata": {},
   "outputs": [],
   "source": [
    "driver = webdriver.Chrome()"
   ]
  },
  {
   "cell_type": "code",
   "execution_count": 4,
   "id": "75af8b04",
   "metadata": {},
   "outputs": [],
   "source": [
    "driver.get(\"https://www.youtube.com/\")"
   ]
  },
  {
   "cell_type": "code",
   "execution_count": 7,
   "id": "0fd417a7",
   "metadata": {},
   "outputs": [],
   "source": [
    "song_comment=[]\n",
    "\n",
    "start= 0\n",
    "end= 5\n",
    "for page in range(start,end):\n",
    "    comment = driver.find_elements(By.XPATH,'//div[@class=\"style-scope ytd-expander\"]')\n",
    "    for i in comment:\n",
    "        song_comment.append(i.text)\n",
    "        \n",
    "       \n",
    "    "
   ]
  },
  {
   "cell_type": "code",
   "execution_count": 41,
   "id": "d3d9793e",
   "metadata": {},
   "outputs": [
    {
     "data": {
      "text/plain": [
       "['',\n",
       " 'Jo ma ko apni jaan se jyada chahate wo like kare',\n",
       " \"I lost my mother 2 months back and I am just 17 years old and I can't live without her. Please pray for my mother. Maa, wherever you are I love you so much Maa \",\n",
       " 'Lost my mom to Cancer a few weeks back.\\nThis song hitting so hard now.\\nCried like a baby...',\n",
       " 'Ohh god ..sabki maa ko lambi umar de',\n",
       " 'When arijit said\\n\"Jag se hara Nahi main\\nKhud se hara Hu maa\\nIk din chamkunga lekin ',\n",
       " 'Meri maa is दुनिया में नही हे️️️',\n",
       " 'jo maa ke liye apni jaan de sakta hai wo like kare',\n",
       " \"Arijit expressed his own feelings about his mother......... Great Mom's great son......\",\n",
       " 'Lost my maa few days ago due to brain cancer, I relate this song with every situation of my life.\\nLove you maa ️ miss you forever ️',\n",
       " 'गाने को दिलों से कोई नहीं जोड़ सकता.. जैसा अरिजीत की\\n\\nआवाज जोड़ती है.. ७०',\n",
       " \"No One can connect Song to Hearts.. Like Arijit's voice does..\",\n",
       " 'Mother , daughter, sister are the most precious gift from God .....No one can replace their place in life .',\n",
       " 'Jo MAA ke liye Jaan de Sakta hai like kare',\n",
       " 'Even that single line, \"Mujhse hi rootha meri parchayi. \" is able to bring tears in our eyes.',\n",
       " 'Maa ke tane aur Arijit Singh ke gane sidhe dil par lagti hai',\n",
       " \"Thank you bholebaba mere pass mere maa ur papa hn.  I can't imagine my life without them \",\n",
       " 'I lost my mother 2 years ago due to COVID. She was both mother and father to me. She was also a mathematics teacher. I listen to this masterpiece whenever I miss her. It’s 3.41 a.m on 09th July 2023. I miss her so much',\n",
       " 'Thanks Arijit da for giving us the opportunity to hear this musical sensation ',\n",
       " 'My life is my mom\\nMy passion is my mom \\nMy dream is my mom\\nMy future is my mom ',\n",
       " 'Jab bhi ye song sunta hu aakh me aasu aa jaata hai',\n",
       " \"I lost my mother 2 days back.. she's in peace now️\",\n",
       " 'जिनके लिए मां प्राणों से प्रिय है वो like करें ',\n",
       " 'Lost my mum 10 years ago. Still weep for her(youngest child). Her love for me is oceanic. Love u mummy!',\n",
       " 'I lost my mother but I still cry for her when I hear this song',\n",
       " 'माँ बाप का दिल जीत लो कामयाब हो जाओगे,\\nवरना सारी दुनिया जीत कर भी हार जाओगे ️',\n",
       " 'परिवार वाले के ताने  और arijit singh के गाने सीधे  दिल पर लगते है..!!️',\n",
       " 'Arijit Singh sings with so much emotion. He cried and could not continue while singing this song in public. He was remembering his mother whom he lost during the pandemic.',\n",
       " 'Suddenly arijits song come in my mind sometimes',\n",
       " '7 years passed & still this song Running into our humans heart its so heart touching & deep lyrics deep voice\\n\\nArijit = Sukoon',\n",
       " 'Kon kon manta hai ki mata pita ke charno me swarg hai ️',\n",
       " 'Jo apni MAA se payr krta 1 like ️️️️️️',\n",
       " 'From 2:32 \\nWhat a feel comes!!\\nIt literally gives me goosebumps and make me emotional ',\n",
       " 'Wha Kya Gaana gaaya hai Arijit',\n",
       " 'Everytime when i listen this song my eyes autocratically wet with tears...\\nSuch a beautiful song',\n",
       " \"Thanks to Mayur Puri Sir for giving us such an incredible song..... unlimited emotions are hidden in this song....\\nSuch a wonderful gift for us ...\\nSpecial thanks to Arijit sir who sung this song with core of heart'\",\n",
       " 'Tere Bina aduraa hu maaa  Love you ️',\n",
       " 'Jo Jo Apni Maa मां Se Bhut Pyaar Karta Hai Pleace Like Karo Maa मां',\n",
       " \"My mother was Everything to me .It's been more than 9 years but still heart feels dead without her . please take good care of your parents Mann They are everything \",\n",
       " 'Mothers are an essential and integral part of our lives. They play a crucial role in shaping us into the individuals we become. From nurturing us as infants to guiding us as teenagers and adults, mothers are our constant source of love, support, and strength. Mothers are the embodiment of selflessness and devotion, and that their love and presence is an invaluable gift in our lives.',\n",
       " '8 years passed & still this song Running into our humans heart its so heart touching & deep lyrics deep voice \\nArijit Singh voice = Sukoon ',\n",
       " 'Arjit the is king of music ',\n",
       " 'I lost my mother in covid 2020 from then I can connect this song how important she was for me ',\n",
       " 'Definition of Birthday \\n\"The only day in your life when your mother smiled when you cried\"\\n    .......Dr.APJ Abdul Kalam',\n",
       " 'This is not a song, this is a pain for some people who have lost their mother or father.',\n",
       " 'No one in this world would love u like ur mother ,i lost my mom.. spent a month in hospital seeing her going day by day its been six years but it pains unbearable ',\n",
       " 'I lost my mom in covid.. Uparwala har maa ko lambi umar de aur salamat rakhe',\n",
       " \"Don't worry guys. Your mom definitely came back for u. In form of your doughter ️\",\n",
       " \"I'm not shy, but listening to this song makes my eyes watery for some reason Very touchingly performed I'm from Moscow\",\n",
       " 'Aaj ek saal pura ho gaya ammi apke bina \\nImiss u maa',\n",
       " \"I lost my mom last 4 month ago.\\nWithout mom, Nothing is life..\\nI miss my mom..\\nMom, U're always be in my heart..\",\n",
       " 'जो इंसान अपने मां से प्यार नहीं करता उनकी इज्जत नहीं करता वो इंसान कभी खुश नहीं रह सकता️️',\n",
       " 'thank you arjit bhai for singing this song you made me cry today ️',\n",
       " \"Miss you maa  , it's been one year    without you... Esa ek bhi din nhi gaya jis din aapki yaad na aayi ho  .. A day is not a day without you  .. Mujhe maaf kardo maa me apke liye kuch nhi kar paya  ... Aaj ek saal ho gaye apko gaye huye... Bhagwaan apki aatma ko shanti de.. Maa aap hamesha ham pe apna aashirvaad banaye rakhna  ..Kabhi socha na tha ek din esa bhi ayega jab apke bina rehna padega  ... Miss you Maa \",\n",
       " 'IS GANA KO SUN KA MAA KI YAAD ATI HA\\nMISS YOU MOM',\n",
       " 'When I feel very lonely then I listen this song because mom is I have no words to describe the definition of mother .',\n",
       " 'I came here after seeing him crying in one of his concerts singing this song...I realized that i was too late to find this masterpiece... the sargam part in that live will make u cry even more... he must have a pure heart to sing this song touching every strings of heart... gem\\n#legend',\n",
       " \"Everything I'm outside I listen to this song with heavy heart,it reminds me of my mother, usually talk to her on video calls but still this song is therapy!\",\n",
       " 'No words this song \\nSuch a beautiful song ️',\n",
       " 'E song sunane ke baad Dil ko bhut sukun milta hai jaisa Maa  ek Aisa hai jisse ham dukh baat sakte hai',\n",
       " 'M - mamma \\nU- uh live\\nM- many\\nM-more ',\n",
       " 'Goosebumps ',\n",
       " \"I'am a pagal fan of Arijit Singh.I like this song very much.This song make me emotional.Indians are truely proud because they have one Arijit Singh.I always listen his song.Her every song is heart touching and mind blowing.Lot's of love & respect to Arijit Singh sir from Bangladesh🇮🇳️🇧🇩\",\n",
       " 'माँ, तुम कहाँ हो, मुझे तुम बहुत याद आती हो। \\nकाश तुम अभी दुनिया में मौजूद होती। \\nI  you.',\n",
       " 'God bless you arjit for giving us this magnificent song about our mother \\nLuv you maa',\n",
       " 'Jab jab main is ganeko sunta hu na tab muere dill ko khuc alaksa sukun milta hai\\n Love you maa....',\n",
       " '2:32 Arijit sir say - JAGSE HARA NAHI MEIN KHUDSE HARA HO MAA',\n",
       " 'I lost my mother and this song is therapy in a distress mode',\n",
       " \"This masterpiece reminds of my mum ..I couldn't hold back my tears while listening to this.... major love for her back in fiji ️\\u200d\",\n",
       " 'Arijit sir  Your voice is gifted by God , You can make everyone cry',\n",
       " '\"Jag se hara nehi main \\nKhud se hara hoon ma\\nEk din chamkunga lekin\\nTeri chitara hoon ma\"',\n",
       " 'Ma ke hathon ka khana aur arijit ji ka gana sabse alag hota hai..',\n",
       " 'Allah tallah hm sab ki maa or baap  ko hamri  bhi umer laga de',\n",
       " 'This song is for moms but I miss my father after listening this songmiss u dad miss u a lots ',\n",
       " 'Only and only Arijit dada sing this type of song,,ek Jagjit gaye to Dusra aa gaye,,luv u from Varanasi ️️',\n",
       " 'I get goosebumps everytime I listen to this song & feel like crying sitting in front of Matarani, I don’t knw why!! It’s just so heart-touching',\n",
       " \"This song hurts more than anything.....\\nI can bear bullet or sword wounds but can not mother's pain.\",\n",
       " '8 Year But This Masterpiece is always I Our Heart ',\n",
       " 'I love you ammi I miss you ammi\\nAlllah sabki maa ko hamesha salamat rakhe\\nAur sabke upar apni apni maa ka saya hamesha rahe',\n",
       " \"The mom value in life can be asked with the ones who don't have their mom, so guys love and respect your mother. There's no one greater than mom for you in this entire world.\",\n",
       " 'Maa.... No one can replace mom and da love and sacrifices as well. ....paa.. ',\n",
       " 'Sabko apne apne maa se bahut pyar karna chahiye aur maa ka care bhi karna chahiye kyoki maa baap se bada is duniya me aur koi nahi hai',\n",
       " 'I am lucky  that I can  hear this song with my mom ',\n",
       " 'Meri maa jaldi sa theak ho jaye pls pray krna app sabhi',\n",
       " 'Sirf nasib walo k pass \"maa\" hoti h  ..   \\nThanks for 200+ likes ',\n",
       " 'Suddenly Remembered and come here to listen this masterpiece ',\n",
       " 'চোখের এক কণায় পানি চলে আসলো',\n",
       " 'This song never gets old..one of the deep feeling songs of arijit singh.',\n",
       " \"Fun fact ; There is no one who can't cry while listening this song \",\n",
       " 'Yarr maa kitni achhi hoti h khud kesi ho uska koe bt nhi lekin bacho ko kuchh Thora sa bhi ho to apni jan bhi dav PR lga deti h nI Love you mummy ',\n",
       " 'Agar pyar ek phul hai to meri ma pura bagicha hai',\n",
       " \"Don't worry you aren't alone listening to this masterpiece.\",\n",
       " 'Jab Jab bacchon per musibat Aati Hai To man sabse pahle Khadi hoti hain I Love You Maa ',\n",
       " 'KON KON YE SONG 2024 ME SUN RAHA HAI OR KISKE KISKE AANKHON ME AASUN AAYI I Miss You mom dad',\n",
       " 'Love this song ️',\n",
       " 'सच ही तो कहा है:-जग से हारा नहीं मैं, ख़ुद से हारा हूं मां ',\n",
       " 'Bhagwan ji , meri maa ko hamesha slamat rakhna . Unko meri Umar bhi lag jaye or wo hamesha Khush rahe',\n",
       " 'Arijit knows the art to prick the heart of a person. I love you Arijit.',\n",
       " \"This song says that we should fulfill our mother's dream because our dreams are always their dreams \",\n",
       " 'Goosebumps ️',\n",
       " 'What a voice straight to heart, Arijeet you are febeoles',\n",
       " \"I'm deeply moved by this song. In 2020, I lost my mother, and it wasn't until a year later that I stumbled upon this track, despite not understanding a word of the lyrics. Strangely, tears welled up in my eyes, and an inexplicable heaviness settled on my heart, as if the song was intricately tied to the memory of my mother, even before I comprehended its meaning.\",\n",
       " 'Allah talaa sab ki maa salamat rakhe \\nAmeen sumameen',\n",
       " 'Alone + Earphones + Sad + Late night = heaven ',\n",
       " 'Arijit you are legend.... ',\n",
       " 'This creates memory of journey from childhood to mature',\n",
       " 'I am a bengali boy but I love this song. And I love my mother. I love my mother ',\n",
       " 'My maa is my world ! A lesson of generosity kindness strength nevergiveup approach never die before die learnt from my mother 17 yr love failure been in depression 2 yrs but know kicking alive pumped my every move becomes gold just because of my mothers preys ',\n",
       " \"My mother is world's best mother.... I love you mummy \",\n",
       " 'A song with thousand of emotion ',\n",
       " 'Today marks 8 months since my mom passed away due to breast cancer. We used to love this song so much. I miss you mama. ',\n",
       " '6 years passed away but this song is still my favorite',\n",
       " '\"Jag se hara nhi ne khud se hara ho maa \" This is my favorite line ',\n",
       " 'Hey bhagwan meri  maa ki raksha karna ',\n",
       " 'One word for maa️\\nAap ho to mai huu',\n",
       " 'When anyone feel this  His eyes automatically full by water \\nLOVE YOU MA ',\n",
       " 'When he says-\\nMujhse hi ruthi meri parchhai \\nVerry heart touching,',\n",
       " '2:32 line:- jag se haara nhi mai khud se hara hu maa hits hard️',\n",
       " \"Arijit singh is real magician , i dont know why I'm crying \",\n",
       " 'what an excellent song........tears always whenever this song plays.....should touch feet of lyricist, music director/musician and the singer for this epic piece on mother',\n",
       " 'Ya Allah duniya me jitnoke maa baap hai un sabko  lambi umar ki duwa kijiye mere Allah ',\n",
       " '',\n",
       " 'Jo ma ko apni jaan se jyada chahate wo like kare',\n",
       " \"I lost my mother 2 months back and I am just 17 years old and I can't live without her. Please pray for my mother. Maa, wherever you are I love you so much Maa \",\n",
       " 'Lost my mom to Cancer a few weeks back.\\nThis song hitting so hard now.\\nCried like a baby...',\n",
       " 'Ohh god ..sabki maa ko lambi umar de',\n",
       " 'When arijit said\\n\"Jag se hara Nahi main\\nKhud se hara Hu maa\\nIk din chamkunga lekin ',\n",
       " 'Meri maa is दुनिया में नही हे️️️',\n",
       " 'jo maa ke liye apni jaan de sakta hai wo like kare',\n",
       " \"Arijit expressed his own feelings about his mother......... Great Mom's great son......\",\n",
       " 'Lost my maa few days ago due to brain cancer, I relate this song with every situation of my life.\\nLove you maa ️ miss you forever ️',\n",
       " 'गाने को दिलों से कोई नहीं जोड़ सकता.. जैसा अरिजीत की\\n\\nआवाज जोड़ती है.. ७०',\n",
       " \"No One can connect Song to Hearts.. Like Arijit's voice does..\",\n",
       " 'Mother , daughter, sister are the most precious gift from God .....No one can replace their place in life .',\n",
       " 'Jo MAA ke liye Jaan de Sakta hai like kare',\n",
       " 'Even that single line, \"Mujhse hi rootha meri parchayi. \" is able to bring tears in our eyes.',\n",
       " 'Maa ke tane aur Arijit Singh ke gane sidhe dil par lagti hai',\n",
       " \"Thank you bholebaba mere pass mere maa ur papa hn.  I can't imagine my life without them \",\n",
       " 'I lost my mother 2 years ago due to COVID. She was both mother and father to me. She was also a mathematics teacher. I listen to this masterpiece whenever I miss her. It’s 3.41 a.m on 09th July 2023. I miss her so much',\n",
       " 'Thanks Arijit da for giving us the opportunity to hear this musical sensation ',\n",
       " 'My life is my mom\\nMy passion is my mom \\nMy dream is my mom\\nMy future is my mom ',\n",
       " 'Jab bhi ye song sunta hu aakh me aasu aa jaata hai',\n",
       " \"I lost my mother 2 days back.. she's in peace now️\",\n",
       " 'जिनके लिए मां प्राणों से प्रिय है वो like करें ',\n",
       " 'Lost my mum 10 years ago. Still weep for her(youngest child). Her love for me is oceanic. Love u mummy!',\n",
       " 'I lost my mother but I still cry for her when I hear this song',\n",
       " 'माँ बाप का दिल जीत लो कामयाब हो जाओगे,\\nवरना सारी दुनिया जीत कर भी हार जाओगे ️',\n",
       " 'परिवार वाले के ताने  और arijit singh के गाने सीधे  दिल पर लगते है..!!️',\n",
       " 'Arijit Singh sings with so much emotion. He cried and could not continue while singing this song in public. He was remembering his mother whom he lost during the pandemic.',\n",
       " 'Suddenly arijits song come in my mind sometimes',\n",
       " '7 years passed & still this song Running into our humans heart its so heart touching & deep lyrics deep voice\\n\\nArijit = Sukoon',\n",
       " 'Kon kon manta hai ki mata pita ke charno me swarg hai ️',\n",
       " 'Jo apni MAA se payr krta 1 like ️️️️️️',\n",
       " 'From 2:32 \\nWhat a feel comes!!\\nIt literally gives me goosebumps and make me emotional ',\n",
       " 'Wha Kya Gaana gaaya hai Arijit',\n",
       " 'Everytime when i listen this song my eyes autocratically wet with tears...\\nSuch a beautiful song',\n",
       " \"Thanks to Mayur Puri Sir for giving us such an incredible song..... unlimited emotions are hidden in this song....\\nSuch a wonderful gift for us ...\\nSpecial thanks to Arijit sir who sung this song with core of heart'\",\n",
       " 'Tere Bina aduraa hu maaa  Love you ️',\n",
       " 'Jo Jo Apni Maa मां Se Bhut Pyaar Karta Hai Pleace Like Karo Maa मां',\n",
       " \"My mother was Everything to me .It's been more than 9 years but still heart feels dead without her . please take good care of your parents Mann They are everything \",\n",
       " 'Mothers are an essential and integral part of our lives. They play a crucial role in shaping us into the individuals we become. From nurturing us as infants to guiding us as teenagers and adults, mothers are our constant source of love, support, and strength. Mothers are the embodiment of selflessness and devotion, and that their love and presence is an invaluable gift in our lives.',\n",
       " '8 years passed & still this song Running into our humans heart its so heart touching & deep lyrics deep voice \\nArijit Singh voice = Sukoon ',\n",
       " 'Arjit the is king of music ',\n",
       " 'I lost my mother in covid 2020 from then I can connect this song how important she was for me ',\n",
       " 'Definition of Birthday \\n\"The only day in your life when your mother smiled when you cried\"\\n    .......Dr.APJ Abdul Kalam',\n",
       " 'This is not a song, this is a pain for some people who have lost their mother or father.',\n",
       " 'No one in this world would love u like ur mother ,i lost my mom.. spent a month in hospital seeing her going day by day its been six years but it pains unbearable ',\n",
       " 'I lost my mom in covid.. Uparwala har maa ko lambi umar de aur salamat rakhe',\n",
       " \"Don't worry guys. Your mom definitely came back for u. In form of your doughter ️\",\n",
       " \"I'm not shy, but listening to this song makes my eyes watery for some reason Very touchingly performed I'm from Moscow\",\n",
       " 'Aaj ek saal pura ho gaya ammi apke bina \\nImiss u maa',\n",
       " \"I lost my mom last 4 month ago.\\nWithout mom, Nothing is life..\\nI miss my mom..\\nMom, U're always be in my heart..\",\n",
       " 'जो इंसान अपने मां से प्यार नहीं करता उनकी इज्जत नहीं करता वो इंसान कभी खुश नहीं रह सकता️️',\n",
       " 'thank you arjit bhai for singing this song you made me cry today ️',\n",
       " \"Miss you maa  , it's been one year    without you... Esa ek bhi din nhi gaya jis din aapki yaad na aayi ho  .. A day is not a day without you  .. Mujhe maaf kardo maa me apke liye kuch nhi kar paya  ... Aaj ek saal ho gaye apko gaye huye... Bhagwaan apki aatma ko shanti de.. Maa aap hamesha ham pe apna aashirvaad banaye rakhna  ..Kabhi socha na tha ek din esa bhi ayega jab apke bina rehna padega  ... Miss you Maa \",\n",
       " 'IS GANA KO SUN KA MAA KI YAAD ATI HA\\nMISS YOU MOM',\n",
       " 'When I feel very lonely then I listen this song because mom is I have no words to describe the definition of mother .',\n",
       " 'I came here after seeing him crying in one of his concerts singing this song...I realized that i was too late to find this masterpiece... the sargam part in that live will make u cry even more... he must have a pure heart to sing this song touching every strings of heart... gem\\n#legend',\n",
       " \"Everything I'm outside I listen to this song with heavy heart,it reminds me of my mother, usually talk to her on video calls but still this song is therapy!\",\n",
       " 'No words this song \\nSuch a beautiful song ️',\n",
       " 'E song sunane ke baad Dil ko bhut sukun milta hai jaisa Maa  ek Aisa hai jisse ham dukh baat sakte hai',\n",
       " 'M - mamma \\nU- uh live\\nM- many\\nM-more ',\n",
       " 'Goosebumps ',\n",
       " \"I'am a pagal fan of Arijit Singh.I like this song very much.This song make me emotional.Indians are truely proud because they have one Arijit Singh.I always listen his song.Her every song is heart touching and mind blowing.Lot's of love & respect to Arijit Singh sir from Bangladesh🇮🇳️🇧🇩\",\n",
       " 'माँ, तुम कहाँ हो, मुझे तुम बहुत याद आती हो। \\nकाश तुम अभी दुनिया में मौजूद होती। \\nI  you.',\n",
       " 'God bless you arjit for giving us this magnificent song about our mother \\nLuv you maa',\n",
       " 'Jab jab main is ganeko sunta hu na tab muere dill ko khuc alaksa sukun milta hai\\n Love you maa....',\n",
       " '2:32 Arijit sir say - JAGSE HARA NAHI MEIN KHUDSE HARA HO MAA',\n",
       " 'I lost my mother and this song is therapy in a distress mode',\n",
       " \"This masterpiece reminds of my mum ..I couldn't hold back my tears while listening to this.... major love for her back in fiji ️\\u200d\",\n",
       " 'Arijit sir  Your voice is gifted by God , You can make everyone cry',\n",
       " '\"Jag se hara nehi main \\nKhud se hara hoon ma\\nEk din chamkunga lekin\\nTeri chitara hoon ma\"',\n",
       " 'Ma ke hathon ka khana aur arijit ji ka gana sabse alag hota hai..',\n",
       " 'Allah tallah hm sab ki maa or baap  ko hamri  bhi umer laga de',\n",
       " 'This song is for moms but I miss my father after listening this songmiss u dad miss u a lots ',\n",
       " 'Only and only Arijit dada sing this type of song,,ek Jagjit gaye to Dusra aa gaye,,luv u from Varanasi ️️',\n",
       " 'I get goosebumps everytime I listen to this song & feel like crying sitting in front of Matarani, I don’t knw why!! It’s just so heart-touching',\n",
       " \"This song hurts more than anything.....\\nI can bear bullet or sword wounds but can not mother's pain.\",\n",
       " '8 Year But This Masterpiece is always I Our Heart ',\n",
       " 'I love you ammi I miss you ammi\\nAlllah sabki maa ko hamesha salamat rakhe\\nAur sabke upar apni apni maa ka saya hamesha rahe',\n",
       " \"The mom value in life can be asked with the ones who don't have their mom, so guys love and respect your mother. There's no one greater than mom for you in this entire world.\",\n",
       " 'Maa.... No one can replace mom and da love and sacrifices as well. ....paa.. ',\n",
       " 'Sabko apne apne maa se bahut pyar karna chahiye aur maa ka care bhi karna chahiye kyoki maa baap se bada is duniya me aur koi nahi hai',\n",
       " 'I am lucky  that I can  hear this song with my mom ',\n",
       " 'Meri maa jaldi sa theak ho jaye pls pray krna app sabhi',\n",
       " 'Sirf nasib walo k pass \"maa\" hoti h  ..   \\nThanks for 200+ likes ',\n",
       " 'Suddenly Remembered and come here to listen this masterpiece ',\n",
       " 'চোখের এক কণায় পানি চলে আসলো',\n",
       " 'This song never gets old..one of the deep feeling songs of arijit singh.',\n",
       " \"Fun fact ; There is no one who can't cry while listening this song \",\n",
       " 'Yarr maa kitni achhi hoti h khud kesi ho uska koe bt nhi lekin bacho ko kuchh Thora sa bhi ho to apni jan bhi dav PR lga deti h nI Love you mummy ',\n",
       " 'Agar pyar ek phul hai to meri ma pura bagicha hai',\n",
       " \"Don't worry you aren't alone listening to this masterpiece.\",\n",
       " 'Jab Jab bacchon per musibat Aati Hai To man sabse pahle Khadi hoti hain I Love You Maa ',\n",
       " 'KON KON YE SONG 2024 ME SUN RAHA HAI OR KISKE KISKE AANKHON ME AASUN AAYI I Miss You mom dad',\n",
       " 'Love this song ️',\n",
       " 'सच ही तो कहा है:-जग से हारा नहीं मैं, ख़ुद से हारा हूं मां ',\n",
       " 'Bhagwan ji , meri maa ko hamesha slamat rakhna . Unko meri Umar bhi lag jaye or wo hamesha Khush rahe',\n",
       " 'Arijit knows the art to prick the heart of a person. I love you Arijit.',\n",
       " \"This song says that we should fulfill our mother's dream because our dreams are always their dreams \",\n",
       " 'Goosebumps ️',\n",
       " 'What a voice straight to heart, Arijeet you are febeoles',\n",
       " \"I'm deeply moved by this song. In 2020, I lost my mother, and it wasn't until a year later that I stumbled upon this track, despite not understanding a word of the lyrics. Strangely, tears welled up in my eyes, and an inexplicable heaviness settled on my heart, as if the song was intricately tied to the memory of my mother, even before I comprehended its meaning.\",\n",
       " 'Allah talaa sab ki maa salamat rakhe \\nAmeen sumameen',\n",
       " 'Alone + Earphones + Sad + Late night = heaven ',\n",
       " 'Arijit you are legend.... ',\n",
       " 'This creates memory of journey from childhood to mature',\n",
       " 'I am a bengali boy but I love this song. And I love my mother. I love my mother ',\n",
       " 'My maa is my world ! A lesson of generosity kindness strength nevergiveup approach never die before die learnt from my mother 17 yr love failure been in depression 2 yrs but know kicking alive pumped my every move becomes gold just because of my mothers preys ',\n",
       " \"My mother is world's best mother.... I love you mummy \",\n",
       " 'A song with thousand of emotion ',\n",
       " 'Today marks 8 months since my mom passed away due to breast cancer. We used to love this song so much. I miss you mama. ',\n",
       " '6 years passed away but this song is still my favorite',\n",
       " '\"Jag se hara nhi ne khud se hara ho maa \" This is my favorite line ',\n",
       " 'Hey bhagwan meri  maa ki raksha karna ',\n",
       " 'One word for maa️\\nAap ho to mai huu',\n",
       " 'When anyone feel this  His eyes automatically full by water \\nLOVE YOU MA ',\n",
       " 'When he says-\\nMujhse hi ruthi meri parchhai \\nVerry heart touching,',\n",
       " '2:32 line:- jag se haara nhi mai khud se hara hu maa hits hard️',\n",
       " \"Arijit singh is real magician , i dont know why I'm crying \",\n",
       " 'what an excellent song........tears always whenever this song plays.....should touch feet of lyricist, music director/musician and the singer for this epic piece on mother',\n",
       " 'Ya Allah duniya me jitnoke maa baap hai un sabko  lambi umar ki duwa kijiye mere Allah ',\n",
       " '',\n",
       " 'Jo ma ko apni jaan se jyada chahate wo like kare',\n",
       " \"I lost my mother 2 months back and I am just 17 years old and I can't live without her. Please pray for my mother. Maa, wherever you are I love you so much Maa \",\n",
       " 'Lost my mom to Cancer a few weeks back.\\nThis song hitting so hard now.\\nCried like a baby...',\n",
       " 'Ohh god ..sabki maa ko lambi umar de',\n",
       " 'When arijit said\\n\"Jag se hara Nahi main\\nKhud se hara Hu maa\\nIk din chamkunga lekin ',\n",
       " 'Meri maa is दुनिया में नही हे️️️',\n",
       " 'jo maa ke liye apni jaan de sakta hai wo like kare',\n",
       " \"Arijit expressed his own feelings about his mother......... Great Mom's great son......\",\n",
       " 'Lost my maa few days ago due to brain cancer, I relate this song with every situation of my life.\\nLove you maa ️ miss you forever ️',\n",
       " 'गाने को दिलों से कोई नहीं जोड़ सकता.. जैसा अरिजीत की\\n\\nआवाज जोड़ती है.. ७०',\n",
       " \"No One can connect Song to Hearts.. Like Arijit's voice does..\",\n",
       " 'Mother , daughter, sister are the most precious gift from God .....No one can replace their place in life .',\n",
       " 'Jo MAA ke liye Jaan de Sakta hai like kare',\n",
       " 'Even that single line, \"Mujhse hi rootha meri parchayi. \" is able to bring tears in our eyes.',\n",
       " 'Maa ke tane aur Arijit Singh ke gane sidhe dil par lagti hai',\n",
       " \"Thank you bholebaba mere pass mere maa ur papa hn.  I can't imagine my life without them \",\n",
       " 'I lost my mother 2 years ago due to COVID. She was both mother and father to me. She was also a mathematics teacher. I listen to this masterpiece whenever I miss her. It’s 3.41 a.m on 09th July 2023. I miss her so much',\n",
       " 'Thanks Arijit da for giving us the opportunity to hear this musical sensation ',\n",
       " 'My life is my mom\\nMy passion is my mom \\nMy dream is my mom\\nMy future is my mom ',\n",
       " 'Jab bhi ye song sunta hu aakh me aasu aa jaata hai',\n",
       " \"I lost my mother 2 days back.. she's in peace now️\",\n",
       " 'जिनके लिए मां प्राणों से प्रिय है वो like करें ',\n",
       " 'Lost my mum 10 years ago. Still weep for her(youngest child). Her love for me is oceanic. Love u mummy!',\n",
       " 'I lost my mother but I still cry for her when I hear this song',\n",
       " 'माँ बाप का दिल जीत लो कामयाब हो जाओगे,\\nवरना सारी दुनिया जीत कर भी हार जाओगे ️',\n",
       " 'परिवार वाले के ताने  और arijit singh के गाने सीधे  दिल पर लगते है..!!️',\n",
       " 'Arijit Singh sings with so much emotion. He cried and could not continue while singing this song in public. He was remembering his mother whom he lost during the pandemic.',\n",
       " 'Suddenly arijits song come in my mind sometimes',\n",
       " '7 years passed & still this song Running into our humans heart its so heart touching & deep lyrics deep voice\\n\\nArijit = Sukoon',\n",
       " 'Kon kon manta hai ki mata pita ke charno me swarg hai ️',\n",
       " 'Jo apni MAA se payr krta 1 like ️️️️️️',\n",
       " 'From 2:32 \\nWhat a feel comes!!\\nIt literally gives me goosebumps and make me emotional ',\n",
       " 'Wha Kya Gaana gaaya hai Arijit',\n",
       " 'Everytime when i listen this song my eyes autocratically wet with tears...\\nSuch a beautiful song',\n",
       " \"Thanks to Mayur Puri Sir for giving us such an incredible song..... unlimited emotions are hidden in this song....\\nSuch a wonderful gift for us ...\\nSpecial thanks to Arijit sir who sung this song with core of heart'\",\n",
       " 'Tere Bina aduraa hu maaa  Love you ️',\n",
       " 'Jo Jo Apni Maa मां Se Bhut Pyaar Karta Hai Pleace Like Karo Maa मां',\n",
       " \"My mother was Everything to me .It's been more than 9 years but still heart feels dead without her . please take good care of your parents Mann They are everything \",\n",
       " 'Mothers are an essential and integral part of our lives. They play a crucial role in shaping us into the individuals we become. From nurturing us as infants to guiding us as teenagers and adults, mothers are our constant source of love, support, and strength. Mothers are the embodiment of selflessness and devotion, and that their love and presence is an invaluable gift in our lives.',\n",
       " '8 years passed & still this song Running into our humans heart its so heart touching & deep lyrics deep voice \\nArijit Singh voice = Sukoon ',\n",
       " 'Arjit the is king of music ',\n",
       " 'I lost my mother in covid 2020 from then I can connect this song how important she was for me ',\n",
       " 'Definition of Birthday \\n\"The only day in your life when your mother smiled when you cried\"\\n    .......Dr.APJ Abdul Kalam',\n",
       " 'This is not a song, this is a pain for some people who have lost their mother or father.',\n",
       " 'No one in this world would love u like ur mother ,i lost my mom.. spent a month in hospital seeing her going day by day its been six years but it pains unbearable ',\n",
       " 'I lost my mom in covid.. Uparwala har maa ko lambi umar de aur salamat rakhe',\n",
       " \"Don't worry guys. Your mom definitely came back for u. In form of your doughter ️\",\n",
       " \"I'm not shy, but listening to this song makes my eyes watery for some reason Very touchingly performed I'm from Moscow\",\n",
       " 'Aaj ek saal pura ho gaya ammi apke bina \\nImiss u maa',\n",
       " \"I lost my mom last 4 month ago.\\nWithout mom, Nothing is life..\\nI miss my mom..\\nMom, U're always be in my heart..\",\n",
       " 'जो इंसान अपने मां से प्यार नहीं करता उनकी इज्जत नहीं करता वो इंसान कभी खुश नहीं रह सकता️️',\n",
       " 'thank you arjit bhai for singing this song you made me cry today ️',\n",
       " \"Miss you maa  , it's been one year    without you... Esa ek bhi din nhi gaya jis din aapki yaad na aayi ho  .. A day is not a day without you  .. Mujhe maaf kardo maa me apke liye kuch nhi kar paya  ... Aaj ek saal ho gaye apko gaye huye... Bhagwaan apki aatma ko shanti de.. Maa aap hamesha ham pe apna aashirvaad banaye rakhna  ..Kabhi socha na tha ek din esa bhi ayega jab apke bina rehna padega  ... Miss you Maa \",\n",
       " 'IS GANA KO SUN KA MAA KI YAAD ATI HA\\nMISS YOU MOM',\n",
       " 'When I feel very lonely then I listen this song because mom is I have no words to describe the definition of mother .',\n",
       " 'I came here after seeing him crying in one of his concerts singing this song...I realized that i was too late to find this masterpiece... the sargam part in that live will make u cry even more... he must have a pure heart to sing this song touching every strings of heart... gem\\n#legend',\n",
       " \"Everything I'm outside I listen to this song with heavy heart,it reminds me of my mother, usually talk to her on video calls but still this song is therapy!\",\n",
       " 'No words this song \\nSuch a beautiful song ️',\n",
       " 'E song sunane ke baad Dil ko bhut sukun milta hai jaisa Maa  ek Aisa hai jisse ham dukh baat sakte hai',\n",
       " 'M - mamma \\nU- uh live\\nM- many\\nM-more ',\n",
       " 'Goosebumps ',\n",
       " \"I'am a pagal fan of Arijit Singh.I like this song very much.This song make me emotional.Indians are truely proud because they have one Arijit Singh.I always listen his song.Her every song is heart touching and mind blowing.Lot's of love & respect to Arijit Singh sir from Bangladesh🇮🇳️🇧🇩\",\n",
       " 'माँ, तुम कहाँ हो, मुझे तुम बहुत याद आती हो। \\nकाश तुम अभी दुनिया में मौजूद होती। \\nI  you.',\n",
       " 'God bless you arjit for giving us this magnificent song about our mother \\nLuv you maa',\n",
       " 'Jab jab main is ganeko sunta hu na tab muere dill ko khuc alaksa sukun milta hai\\n Love you maa....',\n",
       " '2:32 Arijit sir say - JAGSE HARA NAHI MEIN KHUDSE HARA HO MAA',\n",
       " 'I lost my mother and this song is therapy in a distress mode',\n",
       " \"This masterpiece reminds of my mum ..I couldn't hold back my tears while listening to this.... major love for her back in fiji ️\\u200d\",\n",
       " 'Arijit sir  Your voice is gifted by God , You can make everyone cry',\n",
       " '\"Jag se hara nehi main \\nKhud se hara hoon ma\\nEk din chamkunga lekin\\nTeri chitara hoon ma\"',\n",
       " 'Ma ke hathon ka khana aur arijit ji ka gana sabse alag hota hai..',\n",
       " 'Allah tallah hm sab ki maa or baap  ko hamri  bhi umer laga de',\n",
       " 'This song is for moms but I miss my father after listening this songmiss u dad miss u a lots ',\n",
       " 'Only and only Arijit dada sing this type of song,,ek Jagjit gaye to Dusra aa gaye,,luv u from Varanasi ️️',\n",
       " 'I get goosebumps everytime I listen to this song & feel like crying sitting in front of Matarani, I don’t knw why!! It’s just so heart-touching',\n",
       " \"This song hurts more than anything.....\\nI can bear bullet or sword wounds but can not mother's pain.\",\n",
       " '8 Year But This Masterpiece is always I Our Heart ',\n",
       " 'I love you ammi I miss you ammi\\nAlllah sabki maa ko hamesha salamat rakhe\\nAur sabke upar apni apni maa ka saya hamesha rahe',\n",
       " \"The mom value in life can be asked with the ones who don't have their mom, so guys love and respect your mother. There's no one greater than mom for you in this entire world.\",\n",
       " 'Maa.... No one can replace mom and da love and sacrifices as well. ....paa.. ',\n",
       " 'Sabko apne apne maa se bahut pyar karna chahiye aur maa ka care bhi karna chahiye kyoki maa baap se bada is duniya me aur koi nahi hai',\n",
       " 'I am lucky  that I can  hear this song with my mom ',\n",
       " 'Meri maa jaldi sa theak ho jaye pls pray krna app sabhi',\n",
       " 'Sirf nasib walo k pass \"maa\" hoti h  ..   \\nThanks for 200+ likes ',\n",
       " 'Suddenly Remembered and come here to listen this masterpiece ',\n",
       " 'চোখের এক কণায় পানি চলে আসলো',\n",
       " 'This song never gets old..one of the deep feeling songs of arijit singh.',\n",
       " \"Fun fact ; There is no one who can't cry while listening this song \",\n",
       " 'Yarr maa kitni achhi hoti h khud kesi ho uska koe bt nhi lekin bacho ko kuchh Thora sa bhi ho to apni jan bhi dav PR lga deti h nI Love you mummy ',\n",
       " 'Agar pyar ek phul hai to meri ma pura bagicha hai',\n",
       " \"Don't worry you aren't alone listening to this masterpiece.\",\n",
       " 'Jab Jab bacchon per musibat Aati Hai To man sabse pahle Khadi hoti hain I Love You Maa ',\n",
       " 'KON KON YE SONG 2024 ME SUN RAHA HAI OR KISKE KISKE AANKHON ME AASUN AAYI I Miss You mom dad',\n",
       " 'Love this song ️',\n",
       " 'सच ही तो कहा है:-जग से हारा नहीं मैं, ख़ुद से हारा हूं मां ',\n",
       " 'Bhagwan ji , meri maa ko hamesha slamat rakhna . Unko meri Umar bhi lag jaye or wo hamesha Khush rahe',\n",
       " 'Arijit knows the art to prick the heart of a person. I love you Arijit.',\n",
       " \"This song says that we should fulfill our mother's dream because our dreams are always their dreams \",\n",
       " 'Goosebumps ️',\n",
       " 'What a voice straight to heart, Arijeet you are febeoles',\n",
       " \"I'm deeply moved by this song. In 2020, I lost my mother, and it wasn't until a year later that I stumbled upon this track, despite not understanding a word of the lyrics. Strangely, tears welled up in my eyes, and an inexplicable heaviness settled on my heart, as if the song was intricately tied to the memory of my mother, even before I comprehended its meaning.\",\n",
       " 'Allah talaa sab ki maa salamat rakhe \\nAmeen sumameen',\n",
       " 'Alone + Earphones + Sad + Late night = heaven ',\n",
       " 'Arijit you are legend.... ',\n",
       " 'This creates memory of journey from childhood to mature',\n",
       " 'I am a bengali boy but I love this song. And I love my mother. I love my mother ',\n",
       " 'My maa is my world ! A lesson of generosity kindness strength nevergiveup approach never die before die learnt from my mother 17 yr love failure been in depression 2 yrs but know kicking alive pumped my every move becomes gold just because of my mothers preys ',\n",
       " \"My mother is world's best mother.... I love you mummy \",\n",
       " 'A song with thousand of emotion ',\n",
       " 'Today marks 8 months since my mom passed away due to breast cancer. We used to love this song so much. I miss you mama. ',\n",
       " '6 years passed away but this song is still my favorite',\n",
       " '\"Jag se hara nhi ne khud se hara ho maa \" This is my favorite line ',\n",
       " 'Hey bhagwan meri  maa ki raksha karna ',\n",
       " 'One word for maa️\\nAap ho to mai huu',\n",
       " 'When anyone feel this  His eyes automatically full by water \\nLOVE YOU MA ',\n",
       " 'When he says-\\nMujhse hi ruthi meri parchhai \\nVerry heart touching,',\n",
       " '2:32 line:- jag se haara nhi mai khud se hara hu maa hits hard️',\n",
       " \"Arijit singh is real magician , i dont know why I'm crying \",\n",
       " 'what an excellent song........tears always whenever this song plays.....should touch feet of lyricist, music director/musician and the singer for this epic piece on mother',\n",
       " 'Ya Allah duniya me jitnoke maa baap hai un sabko  lambi umar ki duwa kijiye mere Allah ',\n",
       " '',\n",
       " 'Jo ma ko apni jaan se jyada chahate wo like kare',\n",
       " \"I lost my mother 2 months back and I am just 17 years old and I can't live without her. Please pray for my mother. Maa, wherever you are I love you so much Maa \",\n",
       " 'Lost my mom to Cancer a few weeks back.\\nThis song hitting so hard now.\\nCried like a baby...',\n",
       " 'Ohh god ..sabki maa ko lambi umar de',\n",
       " 'When arijit said\\n\"Jag se hara Nahi main\\nKhud se hara Hu maa\\nIk din chamkunga lekin ',\n",
       " 'Meri maa is दुनिया में नही हे️️️',\n",
       " 'jo maa ke liye apni jaan de sakta hai wo like kare',\n",
       " \"Arijit expressed his own feelings about his mother......... Great Mom's great son......\",\n",
       " 'Lost my maa few days ago due to brain cancer, I relate this song with every situation of my life.\\nLove you maa ️ miss you forever ️',\n",
       " 'गाने को दिलों से कोई नहीं जोड़ सकता.. जैसा अरिजीत की\\n\\nआवाज जोड़ती है.. ७०',\n",
       " \"No One can connect Song to Hearts.. Like Arijit's voice does..\",\n",
       " 'Mother , daughter, sister are the most precious gift from God .....No one can replace their place in life .',\n",
       " 'Jo MAA ke liye Jaan de Sakta hai like kare',\n",
       " 'Even that single line, \"Mujhse hi rootha meri parchayi. \" is able to bring tears in our eyes.',\n",
       " 'Maa ke tane aur Arijit Singh ke gane sidhe dil par lagti hai',\n",
       " \"Thank you bholebaba mere pass mere maa ur papa hn.  I can't imagine my life without them \",\n",
       " 'I lost my mother 2 years ago due to COVID. She was both mother and father to me. She was also a mathematics teacher. I listen to this masterpiece whenever I miss her. It’s 3.41 a.m on 09th July 2023. I miss her so much',\n",
       " 'Thanks Arijit da for giving us the opportunity to hear this musical sensation ',\n",
       " 'My life is my mom\\nMy passion is my mom \\nMy dream is my mom\\nMy future is my mom ',\n",
       " 'Jab bhi ye song sunta hu aakh me aasu aa jaata hai',\n",
       " \"I lost my mother 2 days back.. she's in peace now️\",\n",
       " 'जिनके लिए मां प्राणों से प्रिय है वो like करें ',\n",
       " 'Lost my mum 10 years ago. Still weep for her(youngest child). Her love for me is oceanic. Love u mummy!',\n",
       " 'I lost my mother but I still cry for her when I hear this song',\n",
       " 'माँ बाप का दिल जीत लो कामयाब हो जाओगे,\\nवरना सारी दुनिया जीत कर भी हार जाओगे ️',\n",
       " 'परिवार वाले के ताने  और arijit singh के गाने सीधे  दिल पर लगते है..!!️',\n",
       " 'Arijit Singh sings with so much emotion. He cried and could not continue while singing this song in public. He was remembering his mother whom he lost during the pandemic.',\n",
       " 'Suddenly arijits song come in my mind sometimes',\n",
       " '7 years passed & still this song Running into our humans heart its so heart touching & deep lyrics deep voice\\n\\nArijit = Sukoon',\n",
       " 'Kon kon manta hai ki mata pita ke charno me swarg hai ️',\n",
       " 'Jo apni MAA se payr krta 1 like ️️️️️️',\n",
       " 'From 2:32 \\nWhat a feel comes!!\\nIt literally gives me goosebumps and make me emotional ',\n",
       " 'Wha Kya Gaana gaaya hai Arijit',\n",
       " 'Everytime when i listen this song my eyes autocratically wet with tears...\\nSuch a beautiful song',\n",
       " \"Thanks to Mayur Puri Sir for giving us such an incredible song..... unlimited emotions are hidden in this song....\\nSuch a wonderful gift for us ...\\nSpecial thanks to Arijit sir who sung this song with core of heart'\",\n",
       " 'Tere Bina aduraa hu maaa  Love you ️',\n",
       " 'Jo Jo Apni Maa मां Se Bhut Pyaar Karta Hai Pleace Like Karo Maa मां',\n",
       " \"My mother was Everything to me .It's been more than 9 years but still heart feels dead without her . please take good care of your parents Mann They are everything \",\n",
       " 'Mothers are an essential and integral part of our lives. They play a crucial role in shaping us into the individuals we become. From nurturing us as infants to guiding us as teenagers and adults, mothers are our constant source of love, support, and strength. Mothers are the embodiment of selflessness and devotion, and that their love and presence is an invaluable gift in our lives.',\n",
       " '8 years passed & still this song Running into our humans heart its so heart touching & deep lyrics deep voice \\nArijit Singh voice = Sukoon ',\n",
       " 'Arjit the is king of music ',\n",
       " 'I lost my mother in covid 2020 from then I can connect this song how important she was for me ',\n",
       " 'Definition of Birthday \\n\"The only day in your life when your mother smiled when you cried\"\\n    .......Dr.APJ Abdul Kalam',\n",
       " 'This is not a song, this is a pain for some people who have lost their mother or father.',\n",
       " 'No one in this world would love u like ur mother ,i lost my mom.. spent a month in hospital seeing her going day by day its been six years but it pains unbearable ',\n",
       " 'I lost my mom in covid.. Uparwala har maa ko lambi umar de aur salamat rakhe',\n",
       " \"Don't worry guys. Your mom definitely came back for u. In form of your doughter ️\",\n",
       " \"I'm not shy, but listening to this song makes my eyes watery for some reason Very touchingly performed I'm from Moscow\",\n",
       " 'Aaj ek saal pura ho gaya ammi apke bina \\nImiss u maa',\n",
       " \"I lost my mom last 4 month ago.\\nWithout mom, Nothing is life..\\nI miss my mom..\\nMom, U're always be in my heart..\",\n",
       " 'जो इंसान अपने मां से प्यार नहीं करता उनकी इज्जत नहीं करता वो इंसान कभी खुश नहीं रह सकता️️',\n",
       " 'thank you arjit bhai for singing this song you made me cry today ️',\n",
       " \"Miss you maa  , it's been one year    without you... Esa ek bhi din nhi gaya jis din aapki yaad na aayi ho  .. A day is not a day without you  .. Mujhe maaf kardo maa me apke liye kuch nhi kar paya  ... Aaj ek saal ho gaye apko gaye huye... Bhagwaan apki aatma ko shanti de.. Maa aap hamesha ham pe apna aashirvaad banaye rakhna  ..Kabhi socha na tha ek din esa bhi ayega jab apke bina rehna padega  ... Miss you Maa \",\n",
       " 'IS GANA KO SUN KA MAA KI YAAD ATI HA\\nMISS YOU MOM',\n",
       " 'When I feel very lonely then I listen this song because mom is I have no words to describe the definition of mother .',\n",
       " 'I came here after seeing him crying in one of his concerts singing this song...I realized that i was too late to find this masterpiece... the sargam part in that live will make u cry even more... he must have a pure heart to sing this song touching every strings of heart... gem\\n#legend',\n",
       " \"Everything I'm outside I listen to this song with heavy heart,it reminds me of my mother, usually talk to her on video calls but still this song is therapy!\",\n",
       " 'No words this song \\nSuch a beautiful song ️',\n",
       " 'E song sunane ke baad Dil ko bhut sukun milta hai jaisa Maa  ek Aisa hai jisse ham dukh baat sakte hai',\n",
       " 'M - mamma \\nU- uh live\\nM- many\\nM-more ',\n",
       " 'Goosebumps ',\n",
       " \"I'am a pagal fan of Arijit Singh.I like this song very much.This song make me emotional.Indians are truely proud because they have one Arijit Singh.I always listen his song.Her every song is heart touching and mind blowing.Lot's of love & respect to Arijit Singh sir from Bangladesh🇮🇳️🇧🇩\",\n",
       " 'माँ, तुम कहाँ हो, मुझे तुम बहुत याद आती हो। \\nकाश तुम अभी दुनिया में मौजूद होती। \\nI  you.',\n",
       " 'God bless you arjit for giving us this magnificent song about our mother \\nLuv you maa',\n",
       " 'Jab jab main is ganeko sunta hu na tab muere dill ko khuc alaksa sukun milta hai\\n Love you maa....',\n",
       " '2:32 Arijit sir say - JAGSE HARA NAHI MEIN KHUDSE HARA HO MAA',\n",
       " 'I lost my mother and this song is therapy in a distress mode',\n",
       " \"This masterpiece reminds of my mum ..I couldn't hold back my tears while listening to this.... major love for her back in fiji ️\\u200d\",\n",
       " 'Arijit sir  Your voice is gifted by God , You can make everyone cry',\n",
       " '\"Jag se hara nehi main \\nKhud se hara hoon ma\\nEk din chamkunga lekin\\nTeri chitara hoon ma\"',\n",
       " 'Ma ke hathon ka khana aur arijit ji ka gana sabse alag hota hai..',\n",
       " 'Allah tallah hm sab ki maa or baap  ko hamri  bhi umer laga de',\n",
       " 'This song is for moms but I miss my father after listening this songmiss u dad miss u a lots ',\n",
       " 'Only and only Arijit dada sing this type of song,,ek Jagjit gaye to Dusra aa gaye,,luv u from Varanasi ️️',\n",
       " 'I get goosebumps everytime I listen to this song & feel like crying sitting in front of Matarani, I don’t knw why!! It’s just so heart-touching',\n",
       " \"This song hurts more than anything.....\\nI can bear bullet or sword wounds but can not mother's pain.\",\n",
       " '8 Year But This Masterpiece is always I Our Heart ',\n",
       " 'I love you ammi I miss you ammi\\nAlllah sabki maa ko hamesha salamat rakhe\\nAur sabke upar apni apni maa ka saya hamesha rahe',\n",
       " \"The mom value in life can be asked with the ones who don't have their mom, so guys love and respect your mother. There's no one greater than mom for you in this entire world.\",\n",
       " 'Maa.... No one can replace mom and da love and sacrifices as well. ....paa.. ',\n",
       " 'Sabko apne apne maa se bahut pyar karna chahiye aur maa ka care bhi karna chahiye kyoki maa baap se bada is duniya me aur koi nahi hai',\n",
       " 'I am lucky  that I can  hear this song with my mom ',\n",
       " 'Meri maa jaldi sa theak ho jaye pls pray krna app sabhi',\n",
       " 'Sirf nasib walo k pass \"maa\" hoti h  ..   \\nThanks for 200+ likes ',\n",
       " 'Suddenly Remembered and come here to listen this masterpiece ',\n",
       " 'চোখের এক কণায় পানি চলে আসলো',\n",
       " 'This song never gets old..one of the deep feeling songs of arijit singh.',\n",
       " \"Fun fact ; There is no one who can't cry while listening this song \",\n",
       " 'Yarr maa kitni achhi hoti h khud kesi ho uska koe bt nhi lekin bacho ko kuchh Thora sa bhi ho to apni jan bhi dav PR lga deti h nI Love you mummy ',\n",
       " 'Agar pyar ek phul hai to meri ma pura bagicha hai',\n",
       " \"Don't worry you aren't alone listening to this masterpiece.\",\n",
       " 'Jab Jab bacchon per musibat Aati Hai To man sabse pahle Khadi hoti hain I Love You Maa ',\n",
       " 'KON KON YE SONG 2024 ME SUN RAHA HAI OR KISKE KISKE AANKHON ME AASUN AAYI I Miss You mom dad',\n",
       " 'Love this song ️',\n",
       " 'सच ही तो कहा है:-जग से हारा नहीं मैं, ख़ुद से हारा हूं मां ',\n",
       " 'Bhagwan ji , meri maa ko hamesha slamat rakhna . Unko meri Umar bhi lag jaye or wo hamesha Khush rahe',\n",
       " 'Arijit knows the art to prick the heart of a person. I love you Arijit.',\n",
       " \"This song says that we should fulfill our mother's dream because our dreams are always their dreams \",\n",
       " 'Goosebumps ️',\n",
       " 'What a voice straight to heart, Arijeet you are febeoles',\n",
       " \"I'm deeply moved by this song. In 2020, I lost my mother, and it wasn't until a year later that I stumbled upon this track, despite not understanding a word of the lyrics. Strangely, tears welled up in my eyes, and an inexplicable heaviness settled on my heart, as if the song was intricately tied to the memory of my mother, even before I comprehended its meaning.\",\n",
       " 'Allah talaa sab ki maa salamat rakhe \\nAmeen sumameen',\n",
       " 'Alone + Earphones + Sad + Late night = heaven ',\n",
       " 'Arijit you are legend.... ',\n",
       " 'This creates memory of journey from childhood to mature',\n",
       " 'I am a bengali boy but I love this song. And I love my mother. I love my mother ',\n",
       " 'My maa is my world ! A lesson of generosity kindness strength nevergiveup approach never die before die learnt from my mother 17 yr love failure been in depression 2 yrs but know kicking alive pumped my every move becomes gold just because of my mothers preys ',\n",
       " \"My mother is world's best mother.... I love you mummy \",\n",
       " 'A song with thousand of emotion ',\n",
       " 'Today marks 8 months since my mom passed away due to breast cancer. We used to love this song so much. I miss you mama. ',\n",
       " '6 years passed away but this song is still my favorite',\n",
       " '\"Jag se hara nhi ne khud se hara ho maa \" This is my favorite line ',\n",
       " 'Hey bhagwan meri  maa ki raksha karna ',\n",
       " 'One word for maa️\\nAap ho to mai huu',\n",
       " 'When anyone feel this  His eyes automatically full by water \\nLOVE YOU MA ',\n",
       " 'When he says-\\nMujhse hi ruthi meri parchhai \\nVerry heart touching,',\n",
       " '2:32 line:- jag se haara nhi mai khud se hara hu maa hits hard️',\n",
       " \"Arijit singh is real magician , i dont know why I'm crying \",\n",
       " 'what an excellent song........tears always whenever this song plays.....should touch feet of lyricist, music director/musician and the singer for this epic piece on mother',\n",
       " 'Ya Allah duniya me jitnoke maa baap hai un sabko  lambi umar ki duwa kijiye mere Allah ',\n",
       " '',\n",
       " 'Jo ma ko apni jaan se jyada chahate wo like kare',\n",
       " \"I lost my mother 2 months back and I am just 17 years old and I can't live without her. Please pray for my mother. Maa, wherever you are I love you so much Maa \",\n",
       " 'Lost my mom to Cancer a few weeks back.\\nThis song hitting so hard now.\\nCried like a baby...',\n",
       " 'Ohh god ..sabki maa ko lambi umar de',\n",
       " 'When arijit said\\n\"Jag se hara Nahi main\\nKhud se hara Hu maa\\nIk din chamkunga lekin ',\n",
       " 'Meri maa is दुनिया में नही हे️️️',\n",
       " 'jo maa ke liye apni jaan de sakta hai wo like kare',\n",
       " \"Arijit expressed his own feelings about his mother......... Great Mom's great son......\",\n",
       " 'Lost my maa few days ago due to brain cancer, I relate this song with every situation of my life.\\nLove you maa ️ miss you forever ️',\n",
       " 'गाने को दिलों से कोई नहीं जोड़ सकता.. जैसा अरिजीत की\\n\\nआवाज जोड़ती है.. ७०',\n",
       " \"No One can connect Song to Hearts.. Like Arijit's voice does..\",\n",
       " 'Mother , daughter, sister are the most precious gift from God .....No one can replace their place in life .',\n",
       " 'Jo MAA ke liye Jaan de Sakta hai like kare',\n",
       " 'Even that single line, \"Mujhse hi rootha meri parchayi. \" is able to bring tears in our eyes.',\n",
       " 'Maa ke tane aur Arijit Singh ke gane sidhe dil par lagti hai',\n",
       " \"Thank you bholebaba mere pass mere maa ur papa hn.  I can't imagine my life without them \",\n",
       " 'I lost my mother 2 years ago due to COVID. She was both mother and father to me. She was also a mathematics teacher. I listen to this masterpiece whenever I miss her. It’s 3.41 a.m on 09th July 2023. I miss her so much',\n",
       " 'Thanks Arijit da for giving us the opportunity to hear this musical sensation ',\n",
       " 'My life is my mom\\nMy passion is my mom \\nMy dream is my mom\\nMy future is my mom ',\n",
       " 'Jab bhi ye song sunta hu aakh me aasu aa jaata hai',\n",
       " \"I lost my mother 2 days back.. she's in peace now️\",\n",
       " 'जिनके लिए मां प्राणों से प्रिय है वो like करें ',\n",
       " 'Lost my mum 10 years ago. Still weep for her(youngest child). Her love for me is oceanic. Love u mummy!',\n",
       " 'I lost my mother but I still cry for her when I hear this song',\n",
       " 'माँ बाप का दिल जीत लो कामयाब हो जाओगे,\\nवरना सारी दुनिया जीत कर भी हार जाओगे ️',\n",
       " 'परिवार वाले के ताने  और arijit singh के गाने सीधे  दिल पर लगते है..!!️',\n",
       " 'Arijit Singh sings with so much emotion. He cried and could not continue while singing this song in public. He was remembering his mother whom he lost during the pandemic.',\n",
       " 'Suddenly arijits song come in my mind sometimes',\n",
       " '7 years passed & still this song Running into our humans heart its so heart touching & deep lyrics deep voice\\n\\nArijit = Sukoon',\n",
       " 'Kon kon manta hai ki mata pita ke charno me swarg hai ️',\n",
       " 'Jo apni MAA se payr krta 1 like ️️️️️️',\n",
       " 'From 2:32 \\nWhat a feel comes!!\\nIt literally gives me goosebumps and make me emotional ',\n",
       " 'Wha Kya Gaana gaaya hai Arijit',\n",
       " 'Everytime when i listen this song my eyes autocratically wet with tears...\\nSuch a beautiful song',\n",
       " \"Thanks to Mayur Puri Sir for giving us such an incredible song..... unlimited emotions are hidden in this song....\\nSuch a wonderful gift for us ...\\nSpecial thanks to Arijit sir who sung this song with core of heart'\",\n",
       " 'Tere Bina aduraa hu maaa  Love you ️',\n",
       " 'Jo Jo Apni Maa मां Se Bhut Pyaar Karta Hai Pleace Like Karo Maa मां',\n",
       " \"My mother was Everything to me .It's been more than 9 years but still heart feels dead without her . please take good care of your parents Mann They are everything \",\n",
       " 'Mothers are an essential and integral part of our lives. They play a crucial role in shaping us into the individuals we become. From nurturing us as infants to guiding us as teenagers and adults, mothers are our constant source of love, support, and strength. Mothers are the embodiment of selflessness and devotion, and that their love and presence is an invaluable gift in our lives.',\n",
       " '8 years passed & still this song Running into our humans heart its so heart touching & deep lyrics deep voice \\nArijit Singh voice = Sukoon ',\n",
       " 'Arjit the is king of music ',\n",
       " 'I lost my mother in covid 2020 from then I can connect this song how important she was for me ',\n",
       " 'Definition of Birthday \\n\"The only day in your life when your mother smiled when you cried\"\\n    .......Dr.APJ Abdul Kalam',\n",
       " 'This is not a song, this is a pain for some people who have lost their mother or father.',\n",
       " 'No one in this world would love u like ur mother ,i lost my mom.. spent a month in hospital seeing her going day by day its been six years but it pains unbearable ',\n",
       " 'I lost my mom in covid.. Uparwala har maa ko lambi umar de aur salamat rakhe',\n",
       " \"Don't worry guys. Your mom definitely came back for u. In form of your doughter ️\",\n",
       " \"I'm not shy, but listening to this song makes my eyes watery for some reason Very touchingly performed I'm from Moscow\",\n",
       " 'Aaj ek saal pura ho gaya ammi apke bina \\nImiss u maa',\n",
       " \"I lost my mom last 4 month ago.\\nWithout mom, Nothing is life..\\nI miss my mom..\\nMom, U're always be in my heart..\",\n",
       " 'जो इंसान अपने मां से प्यार नहीं करता उनकी इज्जत नहीं करता वो इंसान कभी खुश नहीं रह सकता️️',\n",
       " 'thank you arjit bhai for singing this song you made me cry today ️',\n",
       " \"Miss you maa  , it's been one year    without you... Esa ek bhi din nhi gaya jis din aapki yaad na aayi ho  .. A day is not a day without you  .. Mujhe maaf kardo maa me apke liye kuch nhi kar paya  ... Aaj ek saal ho gaye apko gaye huye... Bhagwaan apki aatma ko shanti de.. Maa aap hamesha ham pe apna aashirvaad banaye rakhna  ..Kabhi socha na tha ek din esa bhi ayega jab apke bina rehna padega  ... Miss you Maa \",\n",
       " 'IS GANA KO SUN KA MAA KI YAAD ATI HA\\nMISS YOU MOM',\n",
       " 'When I feel very lonely then I listen this song because mom is I have no words to describe the definition of mother .',\n",
       " 'I came here after seeing him crying in one of his concerts singing this song...I realized that i was too late to find this masterpiece... the sargam part in that live will make u cry even more... he must have a pure heart to sing this song touching every strings of heart... gem\\n#legend',\n",
       " \"Everything I'm outside I listen to this song with heavy heart,it reminds me of my mother, usually talk to her on video calls but still this song is therapy!\",\n",
       " 'No words this song \\nSuch a beautiful song ️',\n",
       " 'E song sunane ke baad Dil ko bhut sukun milta hai jaisa Maa  ek Aisa hai jisse ham dukh baat sakte hai',\n",
       " 'M - mamma \\nU- uh live\\nM- many\\nM-more ',\n",
       " 'Goosebumps ',\n",
       " \"I'am a pagal fan of Arijit Singh.I like this song very much.This song make me emotional.Indians are truely proud because they have one Arijit Singh.I always listen his song.Her every song is heart touching and mind blowing.Lot's of love & respect to Arijit Singh sir from Bangladesh🇮🇳️🇧🇩\",\n",
       " 'माँ, तुम कहाँ हो, मुझे तुम बहुत याद आती हो। \\nकाश तुम अभी दुनिया में मौजूद होती। \\nI  you.',\n",
       " 'God bless you arjit for giving us this magnificent song about our mother \\nLuv you maa',\n",
       " 'Jab jab main is ganeko sunta hu na tab muere dill ko khuc alaksa sukun milta hai\\n Love you maa....',\n",
       " '2:32 Arijit sir say - JAGSE HARA NAHI MEIN KHUDSE HARA HO MAA',\n",
       " 'I lost my mother and this song is therapy in a distress mode',\n",
       " \"This masterpiece reminds of my mum ..I couldn't hold back my tears while listening to this.... major love for her back in fiji ️\\u200d\",\n",
       " 'Arijit sir  Your voice is gifted by God , You can make everyone cry',\n",
       " '\"Jag se hara nehi main \\nKhud se hara hoon ma\\nEk din chamkunga lekin\\nTeri chitara hoon ma\"',\n",
       " 'Ma ke hathon ka khana aur arijit ji ka gana sabse alag hota hai..',\n",
       " 'Allah tallah hm sab ki maa or baap  ko hamri  bhi umer laga de',\n",
       " 'This song is for moms but I miss my father after listening this songmiss u dad miss u a lots ',\n",
       " 'Only and only Arijit dada sing this type of song,,ek Jagjit gaye to Dusra aa gaye,,luv u from Varanasi ️️',\n",
       " 'I get goosebumps everytime I listen to this song & feel like crying sitting in front of Matarani, I don’t knw why!! It’s just so heart-touching',\n",
       " \"This song hurts more than anything.....\\nI can bear bullet or sword wounds but can not mother's pain.\",\n",
       " '8 Year But This Masterpiece is always I Our Heart ',\n",
       " 'I love you ammi I miss you ammi\\nAlllah sabki maa ko hamesha salamat rakhe\\nAur sabke upar apni apni maa ka saya hamesha rahe',\n",
       " \"The mom value in life can be asked with the ones who don't have their mom, so guys love and respect your mother. There's no one greater than mom for you in this entire world.\",\n",
       " 'Maa.... No one can replace mom and da love and sacrifices as well. ....paa.. ',\n",
       " 'Sabko apne apne maa se bahut pyar karna chahiye aur maa ka care bhi karna chahiye kyoki maa baap se bada is duniya me aur koi nahi hai',\n",
       " 'I am lucky  that I can  hear this song with my mom ',\n",
       " 'Meri maa jaldi sa theak ho jaye pls pray krna app sabhi',\n",
       " 'Sirf nasib walo k pass \"maa\" hoti h  ..   \\nThanks for 200+ likes ',\n",
       " 'Suddenly Remembered and come here to listen this masterpiece ',\n",
       " 'চোখের এক কণায় পানি চলে আসলো',\n",
       " 'This song never gets old..one of the deep feeling songs of arijit singh.',\n",
       " \"Fun fact ; There is no one who can't cry while listening this song \",\n",
       " 'Yarr maa kitni achhi hoti h khud kesi ho uska koe bt nhi lekin bacho ko kuchh Thora sa bhi ho to apni jan bhi dav PR lga deti h nI Love you mummy ',\n",
       " 'Agar pyar ek phul hai to meri ma pura bagicha hai',\n",
       " \"Don't worry you aren't alone listening to this masterpiece.\",\n",
       " 'Jab Jab bacchon per musibat Aati Hai To man sabse pahle Khadi hoti hain I Love You Maa ',\n",
       " 'KON KON YE SONG 2024 ME SUN RAHA HAI OR KISKE KISKE AANKHON ME AASUN AAYI I Miss You mom dad',\n",
       " 'Love this song ️',\n",
       " 'सच ही तो कहा है:-जग से हारा नहीं मैं, ख़ुद से हारा हूं मां ',\n",
       " 'Bhagwan ji , meri maa ko hamesha slamat rakhna . Unko meri Umar bhi lag jaye or wo hamesha Khush rahe',\n",
       " 'Arijit knows the art to prick the heart of a person. I love you Arijit.',\n",
       " \"This song says that we should fulfill our mother's dream because our dreams are always their dreams \",\n",
       " 'Goosebumps ️',\n",
       " 'What a voice straight to heart, Arijeet you are febeoles',\n",
       " \"I'm deeply moved by this song. In 2020, I lost my mother, and it wasn't until a year later that I stumbled upon this track, despite not understanding a word of the lyrics. Strangely, tears welled up in my eyes, and an inexplicable heaviness settled on my heart, as if the song was intricately tied to the memory of my mother, even before I comprehended its meaning.\",\n",
       " 'Allah talaa sab ki maa salamat rakhe \\nAmeen sumameen',\n",
       " 'Alone + Earphones + Sad + Late night = heaven ',\n",
       " 'Arijit you are legend.... ',\n",
       " 'This creates memory of journey from childhood to mature',\n",
       " 'I am a bengali boy but I love this song. And I love my mother. I love my mother ',\n",
       " 'My maa is my world ! A lesson of generosity kindness strength nevergiveup approach never die before die learnt from my mother 17 yr love failure been in depression 2 yrs but know kicking alive pumped my every move becomes gold just because of my mothers preys ',\n",
       " \"My mother is world's best mother.... I love you mummy \",\n",
       " 'A song with thousand of emotion ',\n",
       " 'Today marks 8 months since my mom passed away due to breast cancer. We used to love this song so much. I miss you mama. ',\n",
       " '6 years passed away but this song is still my favorite',\n",
       " '\"Jag se hara nhi ne khud se hara ho maa \" This is my favorite line ',\n",
       " 'Hey bhagwan meri  maa ki raksha karna ',\n",
       " 'One word for maa️\\nAap ho to mai huu',\n",
       " 'When anyone feel this  His eyes automatically full by water \\nLOVE YOU MA ',\n",
       " 'When he says-\\nMujhse hi ruthi meri parchhai \\nVerry heart touching,',\n",
       " '2:32 line:- jag se haara nhi mai khud se hara hu maa hits hard️',\n",
       " \"Arijit singh is real magician , i dont know why I'm crying \",\n",
       " 'what an excellent song........tears always whenever this song plays.....should touch feet of lyricist, music director/musician and the singer for this epic piece on mother',\n",
       " 'Ya Allah duniya me jitnoke maa baap hai un sabko  lambi umar ki duwa kijiye mere Allah ']"
      ]
     },
     "execution_count": 41,
     "metadata": {},
     "output_type": "execute_result"
    }
   ],
   "source": [
    "song_comment"
   ]
  },
  {
   "cell_type": "code",
   "execution_count": 12,
   "id": "9bccb27e",
   "metadata": {},
   "outputs": [],
   "source": [
    "comment_time=[]\n",
    "start= 0\n",
    "end= 5\n",
    "for page in range(start,end):\n",
    "    time = driver.find_elements(By.ID,\"header-author\")\n",
    "    for i in time:\n",
    "        comment_time.append(i.text)     "
   ]
  },
  {
   "cell_type": "code",
   "execution_count": 13,
   "id": "9ad4f2f3",
   "metadata": {},
   "outputs": [
    {
     "data": {
      "text/plain": [
       "['@haroonkhan5703\\n3 years ago',\n",
       " '@munarout8931\\n9 months ago',\n",
       " '@ravindrapaleloo9199\\n1 year ago',\n",
       " '@goutam1604\\n6 months ago',\n",
       " '@aarohi_yadav00\\n1 year ago',\n",
       " '@user-hd1yt4og3n\\n1 month ago',\n",
       " '@royalgamingyt4930\\n2 years ago',\n",
       " '@sbhosale2101\\n11 months ago',\n",
       " '@Mr.SaikatSarkar\\n8 months ago',\n",
       " '@Bundelkhandkalakar\\n4 months ago',\n",
       " '@MohAli-mg3yi\\n1 year ago',\n",
       " '@riponmishra2247\\n5 months ago',\n",
       " '@altafraza1320\\n1 year ago',\n",
       " '@liyanahuqe9458\\n1 year ago',\n",
       " '@jentisolanki3127\\n1 year ago',\n",
       " '@FactNight\\n5 months ago',\n",
       " '@Aman_Patel4362\\n1 year ago',\n",
       " '@give-me-guts-to-accept-truth\\n6 months ago',\n",
       " '@mrkartikvlog4494\\n3 years ago',\n",
       " '@hasalikumarasinghe\\n7 months ago',\n",
       " '@haroonkhan5703\\n3 years ago',\n",
       " '@munarout8931\\n9 months ago',\n",
       " '@ravindrapaleloo9199\\n1 year ago',\n",
       " '@goutam1604\\n6 months ago',\n",
       " '@aarohi_yadav00\\n1 year ago',\n",
       " '@user-hd1yt4og3n\\n1 month ago',\n",
       " '@royalgamingyt4930\\n2 years ago',\n",
       " '@sbhosale2101\\n11 months ago',\n",
       " '@Mr.SaikatSarkar\\n8 months ago',\n",
       " '@Bundelkhandkalakar\\n4 months ago',\n",
       " '@MohAli-mg3yi\\n1 year ago',\n",
       " '@riponmishra2247\\n5 months ago',\n",
       " '@altafraza1320\\n1 year ago',\n",
       " '@liyanahuqe9458\\n1 year ago',\n",
       " '@jentisolanki3127\\n1 year ago',\n",
       " '@FactNight\\n5 months ago',\n",
       " '@Aman_Patel4362\\n1 year ago',\n",
       " '@give-me-guts-to-accept-truth\\n6 months ago',\n",
       " '@mrkartikvlog4494\\n3 years ago',\n",
       " '@hasalikumarasinghe\\n7 months ago',\n",
       " '@haroonkhan5703\\n3 years ago',\n",
       " '@munarout8931\\n9 months ago',\n",
       " '@ravindrapaleloo9199\\n1 year ago',\n",
       " '@goutam1604\\n6 months ago',\n",
       " '@aarohi_yadav00\\n1 year ago',\n",
       " '@user-hd1yt4og3n\\n1 month ago',\n",
       " '@royalgamingyt4930\\n2 years ago',\n",
       " '@sbhosale2101\\n11 months ago',\n",
       " '@Mr.SaikatSarkar\\n8 months ago',\n",
       " '@Bundelkhandkalakar\\n4 months ago',\n",
       " '@MohAli-mg3yi\\n1 year ago',\n",
       " '@riponmishra2247\\n5 months ago',\n",
       " '@altafraza1320\\n1 year ago',\n",
       " '@liyanahuqe9458\\n1 year ago',\n",
       " '@jentisolanki3127\\n1 year ago',\n",
       " '@FactNight\\n5 months ago',\n",
       " '@Aman_Patel4362\\n1 year ago',\n",
       " '@give-me-guts-to-accept-truth\\n6 months ago',\n",
       " '@mrkartikvlog4494\\n3 years ago',\n",
       " '@hasalikumarasinghe\\n7 months ago',\n",
       " '@haroonkhan5703\\n3 years ago',\n",
       " '@munarout8931\\n9 months ago',\n",
       " '@ravindrapaleloo9199\\n1 year ago',\n",
       " '@goutam1604\\n6 months ago',\n",
       " '@aarohi_yadav00\\n1 year ago',\n",
       " '@user-hd1yt4og3n\\n1 month ago',\n",
       " '@royalgamingyt4930\\n2 years ago',\n",
       " '@sbhosale2101\\n11 months ago',\n",
       " '@Mr.SaikatSarkar\\n8 months ago',\n",
       " '@Bundelkhandkalakar\\n4 months ago',\n",
       " '@MohAli-mg3yi\\n1 year ago',\n",
       " '@riponmishra2247\\n5 months ago',\n",
       " '@altafraza1320\\n1 year ago',\n",
       " '@liyanahuqe9458\\n1 year ago',\n",
       " '@jentisolanki3127\\n1 year ago',\n",
       " '@FactNight\\n5 months ago',\n",
       " '@Aman_Patel4362\\n1 year ago',\n",
       " '@give-me-guts-to-accept-truth\\n6 months ago',\n",
       " '@mrkartikvlog4494\\n3 years ago',\n",
       " '@hasalikumarasinghe\\n7 months ago',\n",
       " '@haroonkhan5703\\n3 years ago',\n",
       " '@munarout8931\\n9 months ago',\n",
       " '@ravindrapaleloo9199\\n1 year ago',\n",
       " '@goutam1604\\n6 months ago',\n",
       " '@aarohi_yadav00\\n1 year ago',\n",
       " '@user-hd1yt4og3n\\n1 month ago',\n",
       " '@royalgamingyt4930\\n2 years ago',\n",
       " '@sbhosale2101\\n11 months ago',\n",
       " '@Mr.SaikatSarkar\\n8 months ago',\n",
       " '@Bundelkhandkalakar\\n4 months ago',\n",
       " '@MohAli-mg3yi\\n1 year ago',\n",
       " '@riponmishra2247\\n5 months ago',\n",
       " '@altafraza1320\\n1 year ago',\n",
       " '@liyanahuqe9458\\n1 year ago',\n",
       " '@jentisolanki3127\\n1 year ago',\n",
       " '@FactNight\\n5 months ago',\n",
       " '@Aman_Patel4362\\n1 year ago',\n",
       " '@give-me-guts-to-accept-truth\\n6 months ago',\n",
       " '@mrkartikvlog4494\\n3 years ago',\n",
       " '@hasalikumarasinghe\\n7 months ago']"
      ]
     },
     "execution_count": 13,
     "metadata": {},
     "output_type": "execute_result"
    }
   ],
   "source": [
    "comment_time"
   ]
  },
  {
   "cell_type": "code",
   "execution_count": 1,
   "id": "b7cf7891",
   "metadata": {},
   "outputs": [],
   "source": [
    "# Program 7 #\n",
    "\n",
    "import selenium\n",
    "import pandas as pd\n",
    "from selenium import webdriver\n",
    "import warnings\n",
    "warnings.filterwarnings('ignore')\n",
    "from selenium.webdriver.common.by import By\n",
    "import time"
   ]
  },
  {
   "cell_type": "code",
   "execution_count": 2,
   "id": "1169b73a",
   "metadata": {},
   "outputs": [],
   "source": [
    "driver = webdriver.Chrome()"
   ]
  },
  {
   "cell_type": "code",
   "execution_count": 3,
   "id": "2ea34fcb",
   "metadata": {},
   "outputs": [],
   "source": [
    "driver.get(\"https://www.hostelworld.com/\")"
   ]
  },
  {
   "cell_type": "code",
   "execution_count": 4,
   "id": "a9305a98",
   "metadata": {},
   "outputs": [],
   "source": [
    "location = driver.find_element(By.CLASS_NAME,\"native-input\")\n",
    "location.send_keys('London')"
   ]
  },
  {
   "cell_type": "code",
   "execution_count": 28,
   "id": "0ee3e101",
   "metadata": {},
   "outputs": [],
   "source": [
    "search = driver.find_element(By.CLASS_NAME,\"icon-container\")\n",
    "search.click()"
   ]
  },
  {
   "cell_type": "code",
   "execution_count": 5,
   "id": "20136ca3",
   "metadata": {},
   "outputs": [],
   "source": [
    "hostel_url=[]\n",
    "start= 0\n",
    "end= 1\n",
    "for page in range(start,end):\n",
    "    url = driver.find_elements(By.XPATH,'//div[@class=\"property-card\"]/a')\n",
    "    for i in url:\n",
    "        hostel_url.append(i.get_attribute('href'))"
   ]
  },
  {
   "cell_type": "code",
   "execution_count": 32,
   "id": "aac37a9d",
   "metadata": {},
   "outputs": [
    {
     "data": {
      "text/plain": [
       "['https://www.hostelworld.com/pwa/hosteldetails.php/Wombat-s-City-Hostel-London/London/88047?from=2024-02-23&to=2024-02-26&guests=2',\n",
       " 'https://www.hostelworld.com/pwa/hosteldetails.php/Palmers-Lodge-Swiss-Cottage/London/14348?from=2024-02-23&to=2024-02-26&guests=2',\n",
       " 'https://www.hostelworld.com/pwa/hosteldetails.php/St-Christopher-s-Village/London/502?from=2024-02-23&to=2024-02-26&guests=2',\n",
       " 'https://www.hostelworld.com/pwa/hosteldetails.php/Wombat-s-City-Hostel-London/London/88047?from=2024-02-23&to=2024-02-26&guests=2',\n",
       " 'https://www.hostelworld.com/pwa/hosteldetails.php/Palmers-Lodge-Swiss-Cottage/London/14348?from=2024-02-23&to=2024-02-26&guests=2',\n",
       " 'https://www.hostelworld.com/pwa/hosteldetails.php/St-Christopher-s-Village/London/502?from=2024-02-23&to=2024-02-26&guests=2',\n",
       " 'https://www.hostelworld.com/pwa/hosteldetails.php/NX-London-Hostel/London/15204?from=2024-02-23&to=2024-02-26&guests=2',\n",
       " 'https://www.hostelworld.com/pwa/hosteldetails.php/Onefam-Notting-Hill/London/291433?from=2024-02-23&to=2024-02-26&guests=2',\n",
       " 'https://www.hostelworld.com/pwa/hosteldetails.php/Urbany-Hostel-London/London/303427?from=2024-02-23&to=2024-02-26&guests=2',\n",
       " 'https://www.hostelworld.com/pwa/hosteldetails.php/Onefam-Waterloo/London/39493?from=2024-02-23&to=2024-02-26&guests=2',\n",
       " 'https://www.hostelworld.com/pwa/hosteldetails.php/No-8-Seven-Sisters/London/91108?from=2024-02-23&to=2024-02-26&guests=2',\n",
       " 'https://www.hostelworld.com/pwa/hosteldetails.php/Astor-Hyde-Park/London/25678?from=2024-02-23&to=2024-02-26&guests=2',\n",
       " 'https://www.hostelworld.com/pwa/hosteldetails.php/Safestay-London-Elephant-Castle/London/55551?from=2024-02-23&to=2024-02-26&guests=2',\n",
       " 'https://www.hostelworld.com/pwa/hosteldetails.php/Astor-Museum-Inn/London/520?from=2024-02-23&to=2024-02-26&guests=2',\n",
       " 'https://www.hostelworld.com/pwa/hosteldetails.php/No-8-Willesden-Hostel-London/London/18420?from=2024-02-23&to=2024-02-26&guests=2',\n",
       " 'https://www.hostelworld.com/pwa/hosteldetails.php/Smart-Hyde-Park-Inn-Hostel/London/517?from=2024-02-23&to=2024-02-26&guests=2',\n",
       " 'https://www.hostelworld.com/pwa/hosteldetails.php/Smart-Russell-Square-Hostel/London/29412?from=2024-02-23&to=2024-02-26&guests=2',\n",
       " 'https://www.hostelworld.com/pwa/hosteldetails.php/Safestay-London-Kensington-Holland-Park/London/93920?from=2024-02-23&to=2024-02-26&guests=2',\n",
       " 'https://www.hostelworld.com/pwa/hosteldetails.php/Clink261/London/516?from=2024-02-23&to=2024-02-26&guests=2',\n",
       " 'https://www.hostelworld.com/pwa/hosteldetails.php/Hostelle-women-only-hostel-London/London/316723?from=2024-02-23&to=2024-02-26&guests=2',\n",
       " 'https://www.hostelworld.com/pwa/hosteldetails.php/Queen-Elizabeth-Chelsea/London/50443?from=2024-02-23&to=2024-02-26&guests=2',\n",
       " 'https://www.hostelworld.com/pwa/hosteldetails.php/Prime-Backpackers-Angel/London/93902?from=2024-02-23&to=2024-02-26&guests=2',\n",
       " 'https://www.hostelworld.com/pwa/hosteldetails.php/London-Backpackers/London/527?from=2024-02-23&to=2024-02-26&guests=2',\n",
       " 'https://www.hostelworld.com/pwa/hosteldetails.php/Kabannas-London-St-Pancras/London/7010?from=2024-02-23&to=2024-02-26&guests=2',\n",
       " 'https://www.hostelworld.com/pwa/hosteldetails.php/St-Christopher-s-Hammersmith/London/20976?from=2024-02-23&to=2024-02-26&guests=2',\n",
       " 'https://www.hostelworld.com/pwa/hosteldetails.php/Astor-Victoria/London/524?from=2024-02-23&to=2024-02-26&guests=2',\n",
       " 'https://www.hostelworld.com/pwa/hosteldetails.php/Astor-Kensington/London/523?from=2024-02-23&to=2024-02-26&guests=2',\n",
       " 'https://www.hostelworld.com/pwa/hosteldetails.php/Phoenix-Hostel/London/48221?from=2024-02-23&to=2024-02-26&guests=2',\n",
       " 'https://www.hostelworld.com/pwa/hosteldetails.php/YHA-London-Central/London/23598?from=2024-02-23&to=2024-02-26&guests=2',\n",
       " 'https://www.hostelworld.com/pwa/hosteldetails.php/PubLove-The-Rose-Crown/London/297123?from=2024-02-23&to=2024-02-26&guests=2',\n",
       " 'https://www.hostelworld.com/pwa/hosteldetails.php/St-Christopher-s-Shepherds-Bush/London/506?from=2024-02-23&to=2024-02-26&guests=2',\n",
       " 'https://www.hostelworld.com/pwa/hosteldetails.php/YHA-London-St-Pauls/London/6977?from=2024-02-23&to=2024-02-26&guests=2',\n",
       " 'https://www.hostelworld.com/pwa/hosteldetails.php/Generator-London/London/510?from=2024-02-23&to=2024-02-26&guests=2']"
      ]
     },
     "execution_count": 32,
     "metadata": {},
     "output_type": "execute_result"
    }
   ],
   "source": [
    "hostel_url"
   ]
  },
  {
   "cell_type": "code",
   "execution_count": 6,
   "id": "7b204a83",
   "metadata": {},
   "outputs": [],
   "source": [
    "hostel_name=[]\n",
    "\n",
    "for i in hostel_url:\n",
    "    driver.get(i)\n",
    "    time.sleep(5)\n",
    "    try:\n",
    "        name = driver.find_element(By.CLASS_NAME,\"title-2\")\n",
    "        hostel_name.append(name.text)\n",
    "    except NoSuchElementException:\n",
    "        hostel_name.append('-')                                  "
   ]
  },
  {
   "cell_type": "code",
   "execution_count": 7,
   "id": "efab580d",
   "metadata": {},
   "outputs": [
    {
     "data": {
      "text/plain": [
       "33"
      ]
     },
     "execution_count": 7,
     "metadata": {},
     "output_type": "execute_result"
    }
   ],
   "source": [
    "len(hostel_name)"
   ]
  },
  {
   "cell_type": "code",
   "execution_count": 39,
   "id": "dcdb8123",
   "metadata": {},
   "outputs": [
    {
     "data": {
      "text/plain": [
       "[\"Wombat's City Hostel London\",\n",
       " 'Palmers Lodge - Swiss Cottage',\n",
       " \"St Christopher's Village\",\n",
       " \"Wombat's City Hostel London\",\n",
       " 'Palmers Lodge - Swiss Cottage',\n",
       " \"St Christopher's Village\",\n",
       " 'NX London Hostel',\n",
       " 'Onefam Notting Hill',\n",
       " 'Urbany Hostel London',\n",
       " 'Onefam Waterloo',\n",
       " 'No.8 Seven Sisters',\n",
       " 'Astor Hyde Park',\n",
       " 'Safestay London Elephant & Castle',\n",
       " 'Astor Museum Inn',\n",
       " 'No.8 Willesden Hostel London',\n",
       " 'Smart Hyde Park Inn Hostel',\n",
       " 'Smart Russell Square Hostel',\n",
       " 'Safestay London Kensington Holland Park',\n",
       " 'Clink261',\n",
       " 'Hostelle - women only hostel London',\n",
       " 'Queen Elizabeth Chelsea',\n",
       " 'Prime Backpackers Angel',\n",
       " 'London Backpackers',\n",
       " 'Kabannas London St Pancras',\n",
       " \"St Christopher's Hammersmith\",\n",
       " 'Astor Victoria',\n",
       " 'Astor Kensington',\n",
       " 'Phoenix Hostel',\n",
       " 'YHA London Central',\n",
       " 'PubLove @ The Rose & Crown',\n",
       " \"St Christopher's Shepherds Bush\",\n",
       " 'YHA London St Pauls',\n",
       " 'Generator London']"
      ]
     },
     "execution_count": 39,
     "metadata": {},
     "output_type": "execute_result"
    }
   ],
   "source": [
    "hostel_name"
   ]
  },
  {
   "cell_type": "code",
   "execution_count": 8,
   "id": "d8e3422c",
   "metadata": {},
   "outputs": [],
   "source": [
    "hostel_ratings=[]\n",
    "\n",
    "for i in hostel_url:\n",
    "    driver.get(i)\n",
    "    time.sleep(5)\n",
    "    try:\n",
    "        ratings = driver.find_element(By.XPATH,'//div[@class=\"score orange big\"]')\n",
    "        hostel_ratings.append(ratings.text)\n",
    "    except NoSuchElementException:\n",
    "        hostel_ratings.append('-')                                  "
   ]
  },
  {
   "cell_type": "code",
   "execution_count": 50,
   "id": "210ac81c",
   "metadata": {},
   "outputs": [
    {
     "data": {
      "text/plain": [
       "['9.1',\n",
       " '8.8',\n",
       " '7.8',\n",
       " '9.1',\n",
       " '8.8',\n",
       " '7.8',\n",
       " '8.9',\n",
       " '9.6',\n",
       " '9.5',\n",
       " '9.6',\n",
       " '7.8',\n",
       " '8.3',\n",
       " '7.3',\n",
       " '8.4',\n",
       " '7.2',\n",
       " '7.7',\n",
       " '7.5',\n",
       " '6.9',\n",
       " '8.1',\n",
       " '8.8',\n",
       " '7.4',\n",
       " '8.7',\n",
       " '9.0',\n",
       " '8.1',\n",
       " '8.2',\n",
       " '7.6',\n",
       " '7.3',\n",
       " '8.5',\n",
       " '6.3',\n",
       " '7.2',\n",
       " '9.1',\n",
       " '8.2',\n",
       " '7.6']"
      ]
     },
     "execution_count": 50,
     "metadata": {},
     "output_type": "execute_result"
    }
   ],
   "source": [
    "hostel_ratings"
   ]
  },
  {
   "cell_type": "code",
   "execution_count": null,
   "id": "02bba0d6",
   "metadata": {},
   "outputs": [],
   "source": [
    "hostel_description=[]\n",
    "\n",
    "for i in hostel_url:\n",
    "    driver.get(i)\n",
    "    time.sleep(5)\n",
    "    try:\n",
    "        details = driver.find_element(By.XPATH,'/html/body/div[3]/div/div/div[2]/section/div[8]/div/div[2]/div[3]/div/div[2]')\n",
    "        hostel_description.append(details.text)\n",
    "    except NoSuchElementException:\n",
    "        hostel_description.append('-')                                  "
   ]
  }
 ],
 "metadata": {
  "kernelspec": {
   "display_name": "Python 3 (ipykernel)",
   "language": "python",
   "name": "python3"
  },
  "language_info": {
   "codemirror_mode": {
    "name": "ipython",
    "version": 3
   },
   "file_extension": ".py",
   "mimetype": "text/x-python",
   "name": "python",
   "nbconvert_exporter": "python",
   "pygments_lexer": "ipython3",
   "version": "3.10.9"
  }
 },
 "nbformat": 4,
 "nbformat_minor": 5
}
