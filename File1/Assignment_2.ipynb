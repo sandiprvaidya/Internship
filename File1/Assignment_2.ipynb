{
 "cells": [
  {
   "cell_type": "code",
   "execution_count": 2,
   "id": "ea19d465",
   "metadata": {},
   "outputs": [],
   "source": [
    "import re"
   ]
  },
  {
   "cell_type": "code",
   "execution_count": 32,
   "id": "eb802a74",
   "metadata": {},
   "outputs": [
    {
     "name": "stdout",
     "output_type": "stream",
     "text": [
      "Output_text-  Python:Exercises::PHP:exercises:\n"
     ]
    }
   ],
   "source": [
    " #Write a Python program to replace all occurrences of a space, comma, or dot with a colon.\n",
    "    \n",
    "input_text = 'Python Exercises, PHP exercises.'\n",
    "pattern ='[ ,.]'\n",
    "output = re.sub(pattern,\":\",input_text)\n",
    "print(\"Output_text- \", output) "
   ]
  },
  {
   "cell_type": "code",
   "execution_count": 20,
   "id": "37d4b437",
   "metadata": {},
   "outputs": [
    {
     "name": "stdout",
     "output_type": "stream",
     "text": [
      "         SUMMARY\n",
      "0    hello world\n",
      "1     XXXXX test\n",
      "2  four five six\n"
     ]
    }
   ],
   "source": [
    "# Create a dataframe using the dictionary below and remove everything (commas (,), !, XXXX, ;, etc.) from the columns except words.\n",
    "\n",
    "import pandas as pd\n",
    "data = {'SUMMARY': ['hello, world!', 'XXXXX test', '123four, five:; six...']}\n",
    "df = pd.DataFrame(data)\n",
    "df['SUMMARY'] = df['SUMMARY'].str.replace('[^a-zA-Z\\s]', '', regex=True)\n",
    "print(df)\n"
   ]
  },
  {
   "cell_type": "code",
   "execution_count": 4,
   "id": "7c9d4f2e",
   "metadata": {},
   "outputs": [
    {
     "name": "stdout",
     "output_type": "stream",
     "text": [
      "Output_text-  ['India', 'very', 'good', 'country', 'world']\n"
     ]
    }
   ],
   "source": [
    "# Create a function in python to find all words that are at least 4 characters long in a string. The use of the re.compile() method is mandatory.\n",
    "\n",
    "input_text = 'India is a very good country in the world.'\n",
    "pattern = re.compile(r'\\b\\w{4,}\\b')\n",
    "output = re.findall(pattern,input_text)\n",
    "print(\"Output_text- \", output) "
   ]
  },
  {
   "cell_type": "code",
   "execution_count": 31,
   "id": "e63e8075",
   "metadata": {},
   "outputs": [
    {
     "name": "stdout",
     "output_type": "stream",
     "text": [
      "Output_text-  ['India', 'the', 'very', 'good', 'the', 'world']\n"
     ]
    }
   ],
   "source": [
    "# Create a function in python to find all three, four, and five character words in a string. The use of the re.compile() method is mandatory.\n",
    "\n",
    "input_text = 'India is the very good country in the world.'\n",
    "pattern = re.compile(r'\\b\\w{3,5}\\b')\n",
    "output = re.findall(pattern,input_text)\n",
    "print(\"Output_text- \", output) "
   ]
  },
  {
   "cell_type": "code",
   "execution_count": 35,
   "id": "00e18191",
   "metadata": {},
   "outputs": [
    {
     "name": "stdout",
     "output_type": "stream",
     "text": [
      "example .com\n",
      "hr@fliprobo .com\n",
      "github .com\n",
      "Hello Data Science World\n",
      "Data Scientist\n"
     ]
    }
   ],
   "source": [
    "# Create a function in Python to remove the parenthesis in a list of strings. The use of the re.compile() method is mandatory.\n",
    "\n",
    "def remove_parenthesis(strings):\n",
    "    pattern = re.compile(r\"\\(|\\)\")\n",
    "    for s in strings:\n",
    "        result = re.sub(pattern,'', s)\n",
    "    return result\n",
    "\n",
    "sample_text = [\"example (.com)\", \"hr@fliprobo (.com)\", \"github (.com)\", \"Hello (Data Science World)\", \"Data (Scientist)\"]\n",
    "output = remove_parenthesis(sample_text)\n",
    "\n",
    "for output in result:\n",
    "    print(output)"
   ]
  },
  {
   "cell_type": "code",
   "execution_count": 29,
   "id": "6007d2f3",
   "metadata": {},
   "outputs": [
    {
     "name": "stdout",
     "output_type": "stream",
     "text": [
      "Expected Output- [\"example \", \"hr@fliprobo \", \"github \", \"Hello \", \"Data \"]\n"
     ]
    }
   ],
   "source": [
    "#Write a python program to remove the parenthesis area from the text stored in the text file using Regular Expression.\n",
    "\n",
    "Sample_Text = '[\"example (.com)\", \"hr@fliprobo (.com)\", \"github (.com)\", \"Hello (Data Science World)\", \"Data (Scientist)\"]'\n",
    "pattern = '\\([^)]*\\)'\n",
    "output = re.sub(pattern,'', Sample_Text)\n",
    "print(\"Expected Output-\",output)    "
   ]
  },
  {
   "cell_type": "code",
   "execution_count": 24,
   "id": "b2297516",
   "metadata": {},
   "outputs": [
    {
     "name": "stdout",
     "output_type": "stream",
     "text": [
      "Expected Output- ['Importance', 'Of', 'Regular', 'Expressions', 'In', 'Python']\n"
     ]
    }
   ],
   "source": [
    "#Write a regular expression in Python to split a string into uppercase letters.\n",
    "\n",
    "sample_text = \"ImportanceOfRegularExpressionsInPython\"\n",
    "output = re.findall('[A-Z][a-z]*',sample_text)\n",
    "print(\"Expected Output-\",output)"
   ]
  },
  {
   "cell_type": "code",
   "execution_count": 52,
   "id": "a59d00d7",
   "metadata": {},
   "outputs": [
    {
     "name": "stdout",
     "output_type": "stream",
     "text": [
      "Expected Output- RegularExpression 1IsAn 2ImportantTopic 3InPython\n"
     ]
    }
   ],
   "source": [
    "#Create a function in python to insert spaces between words starting with numbers.\n",
    "Sample_Text = \"RegularExpression1IsAn2ImportantTopic3InPython\"\n",
    "pattern = '([A-Za-z])(\\d)'\n",
    "output = re.sub(pattern,r'\\1 \\2',Sample_Text)\n",
    "print(\"Expected Output-\",output)"
   ]
  },
  {
   "cell_type": "code",
   "execution_count": 58,
   "id": "9afa4d67",
   "metadata": {},
   "outputs": [
    {
     "name": "stdout",
     "output_type": "stream",
     "text": [
      "Expected Output- RegularExpression1 IsAn2 ImportantTopic3 InPython\n"
     ]
    }
   ],
   "source": [
    "# Create a function in python to insert spaces between words starting with capital letters or with numbers.\n",
    "\n",
    "Sample_Text = \"RegularExpression1IsAn2ImportantTopic3InPython\"\n",
    "pattern = r'([A-Z][a-z0-9]+ |\\d+)'\n",
    "output = re.sub(pattern, r'\\1 ',Sample_Text)\n",
    "print(\"Expected Output-\",output)"
   ]
  },
  {
   "cell_type": "code",
   "execution_count": 47,
   "id": "53f2e9bd",
   "metadata": {},
   "outputs": [
    {
     "name": "stdout",
     "output_type": "stream",
     "text": [
      "The string matches the pattern.\n"
     ]
    }
   ],
   "source": [
    "#Write a Python program to match a string that contains only upper and lowercase letters, numbers, and underscores.\n",
    "input_string ='Beautiful_India_123'\n",
    "pattern = re.compile(r'^[a-zA-Z0-9_]+$')\n",
    "if re.match(pattern,input_string):\n",
    "        print('The string matches the pattern.')\n",
    "else:\n",
    "        print('The string does not match the pattern.')"
   ]
  },
  {
   "cell_type": "code",
   "execution_count": 5,
   "id": "770d67e9",
   "metadata": {},
   "outputs": [
    {
     "name": "stdout",
     "output_type": "stream",
     "text": [
      "True\n",
      "False\n"
     ]
    }
   ],
   "source": [
    "# Write a Python program where a string will start with a specific number. \n",
    "def match_str(string):\n",
    "    pattern = re.compile(r\"^5\")\n",
    "    if re.match(pattern,string):\n",
    "        return True\n",
    "    else:\n",
    "        return False\n",
    "print(match_str('5 is specific number'))\n",
    "print(match_str('6 is specific number'))\n"
   ]
  },
  {
   "cell_type": "code",
   "execution_count": 17,
   "id": "3ed9dbc4",
   "metadata": {},
   "outputs": [
    {
     "name": "stdout",
     "output_type": "stream",
     "text": [
      "Output- 10.50.2.600\n"
     ]
    }
   ],
   "source": [
    "# Write a Python program to remove leading zeros from an IP address\n",
    "\n",
    "ip =\"10.050.002.600\"  \n",
    "new_ip = re.sub(r'\\b0+(\\d)', r'\\1', ip)\n",
    "    \n",
    "print(\"Output-\",new_ip)"
   ]
  },
  {
   "cell_type": "code",
   "execution_count": 20,
   "id": "fa34f487",
   "metadata": {},
   "outputs": [
    {
     "name": "stdout",
     "output_type": "stream",
     "text": [
      "Expected Output- <re.Match object; span=(3, 19), match='August 15th 1947'>\n"
     ]
    }
   ],
   "source": [
    "# Write a regular expression in python to match a date string in the form of Month name followed by day number and year stored in a text file.\n",
    "\n",
    "text = \"On August 15th 1947 that India was declared independent from British colonialism, and the reins of control were handed over to the leaders of the Country.\"\n",
    "\n",
    "pattern = r\"\\b([A-Z][a-z]+) \\d{1,2}(?:st|nd|rd|th) \\d{4}\\b\"\n",
    "\n",
    "output = re.search(pattern, text)\n",
    "print(\"Expected Output-\",output)"
   ]
  },
  {
   "cell_type": "code",
   "execution_count": 60,
   "id": "6ed06604",
   "metadata": {},
   "outputs": [
    {
     "name": "stdout",
     "output_type": "stream",
     "text": [
      "literals_strings: ['fox', 'dog']\n"
     ]
    }
   ],
   "source": [
    "# Write a Python program to search some literals strings in a string.\n",
    "\n",
    "text = 'The quick brown fox jumps over the lazy dog.'\n",
    "pattern = ['fox', 'dog', 'horse']\n",
    "\n",
    "literals_strings  = search_strings(text,pattern)\n",
    "\n",
    "print(\"literals_strings:\",literals_strings)\n",
    "\n"
   ]
  },
  {
   "cell_type": "code",
   "execution_count": 13,
   "id": "bfcdbdad",
   "metadata": {},
   "outputs": [
    {
     "name": "stdout",
     "output_type": "stream",
     "text": [
      "Output- <re.Match object; span=(16, 19), match='fox'> from 16 to 19\n"
     ]
    }
   ],
   "source": [
    "# Write a Python program to search a literals string in a string and also find the location within the original string where the pattern occurs\n",
    "\n",
    "sample_text = 'The quick brown fox jumps over the lazy dog.'\n",
    "pattern = 'fox'\n",
    "match = re.search(pattern, sample_text)\n",
    "S = match.start()\n",
    "E = match.end()\n",
    "print(\"Output-\", match, \"from\",S,\"to\",E)"
   ]
  },
  {
   "cell_type": "code",
   "execution_count": 16,
   "id": "2d602587",
   "metadata": {},
   "outputs": [
    {
     "name": "stdout",
     "output_type": "stream",
     "text": [
      "Output- ['exercises', 'exercises', 'exercises']\n"
     ]
    }
   ],
   "source": [
    "# Write a Python program to find the substrings within a string.\n",
    "\n",
    "sample_text = 'Python exercises, PHP exercises, C# exercises'\n",
    "pattern = 'exercises'\n",
    "output = re.findall(pattern, sample_text)\n",
    "print('Output-', output)"
   ]
  },
  {
   "cell_type": "code",
   "execution_count": 19,
   "id": "457429aa",
   "metadata": {},
   "outputs": [
    {
     "name": "stdout",
     "output_type": "stream",
     "text": [
      "Output \"exercises\" at 7:16\n",
      "Output \"exercises\" at 22:31\n",
      "Output \"exercises\" at 36:45\n"
     ]
    }
   ],
   "source": [
    "# Write a Python program to find the occurrence and position of the substrings within a string.\n",
    "\n",
    "sample_text = 'Python exercises, PHP exercises, C# exercises'\n",
    "pattern = 'exercises'\n",
    "for result in re.finditer(pattern, sample_text):\n",
    "    s = result.start()\n",
    "    e = result.end()\n",
    "    print('Output \"%s\" at %d:%d' % (sample_text[s:e], s, e))"
   ]
  },
  {
   "cell_type": "code",
   "execution_count": 46,
   "id": "8d3a6479",
   "metadata": {},
   "outputs": [
    {
     "name": "stdout",
     "output_type": "stream",
     "text": [
      "Original date in YYY-MM-DD Format:  2024-01-09\n",
      "New date in DD-MM-YYYY Format:  09-01-2024\n"
     ]
    }
   ],
   "source": [
    "# Write a Python program to convert a date of yyyy-mm-dd format to dd-mm-yyyy format.\n",
    "\n",
    "date = \"2024-01-09\"\n",
    "change_date = re.sub(r'(\\d{4})-(\\d{1,2})-(\\d{1,2})', '\\\\3-\\\\2-\\\\1', date)\n",
    "print(\"Original date in YYY-MM-DD Format: \",date)\n",
    "print(\"New date in DD-MM-YYYY Format: \",change_date)"
   ]
  },
  {
   "cell_type": "code",
   "execution_count": 53,
   "id": "47c57337",
   "metadata": {},
   "outputs": [
    {
     "name": "stdout",
     "output_type": "stream",
     "text": [
      "Decimal Numbers - ['01.12', '145.8', '3.01', '27.25', '0.25']\n"
     ]
    }
   ],
   "source": [
    "# Create a function in python to find all decimal numbers with a precision of 1 or 2 in a string. The use of the re.compile() method is mandatory.\n",
    "\n",
    "sample_text = \"01.12 0132.123 2.31875 145.8 3.01 27.25 0.25\"\n",
    "pattern = re.compile(r'\\b\\d+\\.\\d{1,2}\\b')\n",
    "output = re.findall(pattern, sample_text)\n",
    "print(\"Decimal Numbers -\",output)"
   ]
  },
  {
   "cell_type": "code",
   "execution_count": 36,
   "id": "9980fb3d",
   "metadata": {},
   "outputs": [
    {
     "name": "stdout",
     "output_type": "stream",
     "text": [
      "100\n",
      "Index position: 9\n"
     ]
    }
   ],
   "source": [
    "# Write a Python program to separate and print the numbers and their position of a given string.\n",
    "\n",
    "sample_text = 'There is 100 mango in basket'\n",
    "for m in re.finditer(\"\\d+\", sample_text):\n",
    "    print(m.group())\n",
    "    print(\"Index position:\", m.start())"
   ]
  },
  {
   "cell_type": "code",
   "execution_count": 41,
   "id": "e3ad9e21",
   "metadata": {},
   "outputs": [
    {
     "name": "stdout",
     "output_type": "stream",
     "text": [
      "Output -  950\n"
     ]
    }
   ],
   "source": [
    "# Write a regular expression in python program to extract maximum/largest numeric value from a string.\n",
    "\n",
    "sample_text = 'My marks in each semester are: 947, 896, 926, 524, 734, 950, 642'\n",
    "marks = re.findall(r'\\d+', sample_text)\n",
    "max_marks = max(marks)\n",
    "print(\"Output - \",max_marks)"
   ]
  },
  {
   "cell_type": "code",
   "execution_count": 46,
   "id": "80bf5b7c",
   "metadata": {},
   "outputs": [
    {
     "name": "stdout",
     "output_type": "stream",
     "text": [
      "Expected Output -   Regular Expression Is An Important Topic In Python\n"
     ]
    }
   ],
   "source": [
    "# Create a function in python to insert spaces between words starting with capital letters.\n",
    "\n",
    "sample_text= 'RegularExpressionIsAnImportantTopicInPython'\n",
    "pattern =r'([A-Z][a-z]+)'\n",
    "output = re.sub(pattern,r' \\1',sample_text)\n",
    "print(\"Expected Output - \", output) "
   ]
  },
  {
   "cell_type": "code",
   "execution_count": 51,
   "id": "c615613f",
   "metadata": {},
   "outputs": [
    {
     "name": "stdout",
     "output_type": "stream",
     "text": [
      "Match\n",
      "Not Match\n"
     ]
    }
   ],
   "source": [
    "# Python regex to find sequences of one upper case letter followed by lower case letters\n",
    "\n",
    "def text_match(text):\n",
    "        patterns = '[A-Z]+[a-z]+$'\n",
    "        if re.search(patterns, text):\n",
    "                return 'Match'\n",
    "        else:\n",
    "                return 'Not Match'\n",
    "print(text_match(\"Python\"))\n",
    "print(text_match(\"datatrained\"))"
   ]
  },
  {
   "cell_type": "code",
   "execution_count": 50,
   "id": "72edec66",
   "metadata": {},
   "outputs": [
    {
     "name": "stdout",
     "output_type": "stream",
     "text": [
      "Expected Output- Hello hello world\n"
     ]
    }
   ],
   "source": [
    "# Write a Python program to remove continuous duplicate words from Sentence using Regular Expression.\n",
    "\n",
    "sample_text = 'Hello hello world world'\n",
    "pattern = r'\\b(\\w+)(\\s+\\1\\b)+'\n",
    "output = re.sub(pattern, r'\\1', sample_text)\n",
    "print(\"Expected Output-\",output)"
   ]
  },
  {
   "cell_type": "code",
   "execution_count": 56,
   "id": "faa7f230",
   "metadata": {},
   "outputs": [
    {
     "name": "stdout",
     "output_type": "stream",
     "text": [
      "True\n",
      "False\n"
     ]
    }
   ],
   "source": [
    "# Write a python program using RegEx to accept string ending with alphanumeric character.\n",
    "\n",
    "def check_string(string):\n",
    "    pattern = r\"\\w$\"\n",
    "    match = re.search(pattern, string)\n",
    "    if match:\n",
    "        return True\n",
    "    else:\n",
    "        return False \n",
    "print(check_string(\"data123\"))\n",
    "print(check_string(\"=+=+=\"))"
   ]
  },
  {
   "cell_type": "code",
   "execution_count": 66,
   "id": "8db4af35",
   "metadata": {},
   "outputs": [
    {
     "name": "stdout",
     "output_type": "stream",
     "text": [
      "Expected Output ['#Doltiwal', '#xyzabc', '#Demonetization']\n"
     ]
    }
   ],
   "source": [
    "# Write a python program using RegEx to extract the hashtags.\n",
    "\n",
    "sample_text = 'RT @kapil_kausik: #Doltiwal I mean #xyzabc is \"hurt\" by #Demonetization as the same has rendered USELESS <ed><U+00A0><U+00BD><ed><U+00B1><U+0089> \"acquired funds\" No wo'\n",
    "pattern = r'#\\w+'\n",
    "output = re.findall(pattern, sample_text)\n",
    "print(\"Expected Output\", output)"
   ]
  },
  {
   "cell_type": "code",
   "execution_count": 68,
   "id": "1baaf383",
   "metadata": {},
   "outputs": [
    {
     "name": "stdout",
     "output_type": "stream",
     "text": [
      "Expected Output - @Jags123456 Bharat band on 28??<ed><ed>Those who are protesting #demonetization are all different party leaders\n"
     ]
    }
   ],
   "source": [
    "# Write a python program using RegEx to remove <U+..> like symbols\n",
    "Check the below sample text, there are strange symbols something of the sort <U+..> all over the place. You need to come up with a general Regex expression that will cover all such symbols.\n",
    "\n",
    "\n",
    "sample_text = \"@Jags123456 Bharat band on 28??<ed><U+00A0><U+00BD><ed><U+00B8><U+0082>Those who are protesting #demonetization are all different party leaders\"\n",
    "pattern = r\"<U\\+\\w{4}>\"\n",
    "output = re.sub(pattern, \"\", sample_text)\n",
    "print(\"Expected Output -\",output)"
   ]
  },
  {
   "cell_type": "code",
   "execution_count": 13,
   "id": "c6060f2c",
   "metadata": {},
   "outputs": [
    {
     "name": "stdout",
     "output_type": "stream",
     "text": [
      "['12-09-1992', '15-12-1999']\n"
     ]
    }
   ],
   "source": [
    "# Write a python program to extract dates from the text stored in the text file.\n",
    "\n",
    "with open('filename.txt', 'r') as file:\n",
    "    text = file.read()\n",
    "    pattern = r'\\d{2}-\\d{2}-\\d{4}'\n",
    "    dates = re.findall(pattern, text)\n",
    "    print(dates)"
   ]
  },
  {
   "cell_type": "code",
   "execution_count": 14,
   "id": "b07d3104",
   "metadata": {},
   "outputs": [
    {
     "name": "stdout",
     "output_type": "stream",
     "text": [
      "Expected Output -  following example creates  ArrayList  a capacity   elements. 4 elements   added   ArrayList   ArrayList  trimmed accordingly.\n"
     ]
    }
   ],
   "source": [
    "# Create a function in python to remove all words from a string of length between 2 and 4.\n",
    "\n",
    "sample_text= \"The following example creates an ArrayList with a capacity of 50 elements. 4 elements are then added to the ArrayList and the ArrayList is trimmed accordingly.\"\n",
    "pattern = re.compile(r'\\b\\w{2,4}\\b')\n",
    "output = re.sub(pattern, '', sample_text)\n",
    "print(\"Expected Output -\",output)\n"
   ]
  },
  {
   "cell_type": "code",
   "execution_count": null,
   "id": "f8fdbd67",
   "metadata": {},
   "outputs": [],
   "source": []
  }
 ],
 "metadata": {
  "kernelspec": {
   "display_name": "Python 3 (ipykernel)",
   "language": "python",
   "name": "python3"
  },
  "language_info": {
   "codemirror_mode": {
    "name": "ipython",
    "version": 3
   },
   "file_extension": ".py",
   "mimetype": "text/x-python",
   "name": "python",
   "nbconvert_exporter": "python",
   "pygments_lexer": "ipython3",
   "version": "3.10.9"
  }
 },
 "nbformat": 4,
 "nbformat_minor": 5
}
